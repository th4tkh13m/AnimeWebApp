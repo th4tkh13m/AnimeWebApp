{
 "cells": [
  {
   "cell_type": "markdown",
   "metadata": {},
   "source": [
    "# I. Import library and dataset"
   ]
  },
  {
   "cell_type": "code",
   "execution_count": 3,
   "metadata": {},
   "outputs": [],
   "source": [
    "import pandas as pd\n",
    "import numpy as np\n",
    "import seaborn as sns\n",
    "import matplotlib.pyplot as plt\n",
    "import statsmodels as stats\n",
    "import scipy.stats as st"
   ]
  },
  {
   "cell_type": "code",
   "execution_count": 4,
   "metadata": {},
   "outputs": [],
   "source": [
    "anime = pd.read_csv(\"../../data/csv/input/AnimeList.csv\")"
   ]
  },
  {
   "cell_type": "markdown",
   "metadata": {},
   "source": [
    "# II. Basic Dataset Information and First Impressions"
   ]
  },
  {
   "cell_type": "markdown",
   "metadata": {},
   "source": [
    "Firstly, we will explore some basic information in the given dataset."
   ]
  },
  {
   "cell_type": "code",
   "execution_count": 5,
   "metadata": {},
   "outputs": [
    {
     "data": {
      "text/plain": [
       "(14478, 31)"
      ]
     },
     "execution_count": 5,
     "metadata": {},
     "output_type": "execute_result"
    }
   ],
   "source": [
    "anime.shape"
   ]
  },
  {
   "cell_type": "code",
   "execution_count": 6,
   "metadata": {},
   "outputs": [],
   "source": [
    "anime.drop_duplicates(inplace=True)"
   ]
  },
  {
   "cell_type": "markdown",
   "metadata": {},
   "source": [
    "There are 14478 rows and 31 columns in this dataset."
   ]
  },
  {
   "cell_type": "code",
   "execution_count": 7,
   "metadata": {},
   "outputs": [
    {
     "name": "stdout",
     "output_type": "stream",
     "text": [
      "<class 'pandas.core.frame.DataFrame'>\n",
      "Int64Index: 14478 entries, 0 to 14477\n",
      "Data columns (total 31 columns):\n",
      " #   Column          Non-Null Count  Dtype  \n",
      "---  ------          --------------  -----  \n",
      " 0   anime_id        14478 non-null  int64  \n",
      " 1   title           14478 non-null  object \n",
      " 2   title_english   5724 non-null   object \n",
      " 3   title_japanese  14443 non-null  object \n",
      " 4   title_synonyms  8937 non-null   object \n",
      " 5   image_url       14382 non-null  object \n",
      " 6   type            14478 non-null  object \n",
      " 7   source          14478 non-null  object \n",
      " 8   episodes        14478 non-null  int64  \n",
      " 9   status          14478 non-null  object \n",
      " 10  airing          14478 non-null  bool   \n",
      " 11  aired_string    14478 non-null  object \n",
      " 12  aired           14478 non-null  object \n",
      " 13  duration        14478 non-null  object \n",
      " 14  rating          14478 non-null  object \n",
      " 15  score           14478 non-null  float64\n",
      " 16  scored_by       14478 non-null  int64  \n",
      " 17  rank            12904 non-null  float64\n",
      " 18  popularity      14478 non-null  int64  \n",
      " 19  members         14478 non-null  int64  \n",
      " 20  favorites       14478 non-null  int64  \n",
      " 21  background      1057 non-null   object \n",
      " 22  premiered       4096 non-null   object \n",
      " 23  broadcast       4271 non-null   object \n",
      " 24  related         14478 non-null  object \n",
      " 25  producer        8288 non-null   object \n",
      " 26  licensor        3373 non-null   object \n",
      " 27  studio          8544 non-null   object \n",
      " 28  genre           14414 non-null  object \n",
      " 29  opening_theme   14478 non-null  object \n",
      " 30  ending_theme    14478 non-null  object \n",
      "dtypes: bool(1), float64(2), int64(6), object(22)\n",
      "memory usage: 3.4+ MB\n"
     ]
    }
   ],
   "source": [
    "anime.info()"
   ]
  },
  {
   "cell_type": "markdown",
   "metadata": {},
   "source": [
    "We look at the first 5 rows of the dataset to get some sense of how the data is constructed."
   ]
  },
  {
   "cell_type": "code",
   "execution_count": 8,
   "metadata": {},
   "outputs": [
    {
     "data": {
      "text/html": [
       "<div>\n",
       "<style scoped>\n",
       "    .dataframe tbody tr th:only-of-type {\n",
       "        vertical-align: middle;\n",
       "    }\n",
       "\n",
       "    .dataframe tbody tr th {\n",
       "        vertical-align: top;\n",
       "    }\n",
       "\n",
       "    .dataframe thead th {\n",
       "        text-align: right;\n",
       "    }\n",
       "</style>\n",
       "<table border=\"1\" class=\"dataframe\">\n",
       "  <thead>\n",
       "    <tr style=\"text-align: right;\">\n",
       "      <th></th>\n",
       "      <th>anime_id</th>\n",
       "      <th>title</th>\n",
       "      <th>title_english</th>\n",
       "      <th>title_japanese</th>\n",
       "      <th>title_synonyms</th>\n",
       "      <th>image_url</th>\n",
       "      <th>type</th>\n",
       "      <th>source</th>\n",
       "      <th>episodes</th>\n",
       "      <th>status</th>\n",
       "      <th>...</th>\n",
       "      <th>background</th>\n",
       "      <th>premiered</th>\n",
       "      <th>broadcast</th>\n",
       "      <th>related</th>\n",
       "      <th>producer</th>\n",
       "      <th>licensor</th>\n",
       "      <th>studio</th>\n",
       "      <th>genre</th>\n",
       "      <th>opening_theme</th>\n",
       "      <th>ending_theme</th>\n",
       "    </tr>\n",
       "  </thead>\n",
       "  <tbody>\n",
       "    <tr>\n",
       "      <th>0</th>\n",
       "      <td>11013</td>\n",
       "      <td>Inu x Boku SS</td>\n",
       "      <td>Inu X Boku Secret Service</td>\n",
       "      <td>妖狐×僕SS</td>\n",
       "      <td>Youko x Boku SS</td>\n",
       "      <td>https://myanimelist.cdn-dena.com/images/anime/...</td>\n",
       "      <td>TV</td>\n",
       "      <td>Manga</td>\n",
       "      <td>12</td>\n",
       "      <td>Finished Airing</td>\n",
       "      <td>...</td>\n",
       "      <td>Inu x Boku SS was licensed by Sentai Filmworks...</td>\n",
       "      <td>Winter 2012</td>\n",
       "      <td>Fridays at Unknown</td>\n",
       "      <td>{'Adaptation': [{'mal_id': 17207, 'type': 'man...</td>\n",
       "      <td>Aniplex, Square Enix, Mainichi Broadcasting Sy...</td>\n",
       "      <td>Sentai Filmworks</td>\n",
       "      <td>David Production</td>\n",
       "      <td>Comedy, Supernatural, Romance, Shounen</td>\n",
       "      <td>['\"Nirvana\" by MUCC']</td>\n",
       "      <td>['#1: \"Nirvana\" by MUCC (eps 1, 11-12)', '#2: ...</td>\n",
       "    </tr>\n",
       "    <tr>\n",
       "      <th>1</th>\n",
       "      <td>2104</td>\n",
       "      <td>Seto no Hanayome</td>\n",
       "      <td>My Bride is a Mermaid</td>\n",
       "      <td>瀬戸の花嫁</td>\n",
       "      <td>The Inland Sea Bride</td>\n",
       "      <td>https://myanimelist.cdn-dena.com/images/anime/...</td>\n",
       "      <td>TV</td>\n",
       "      <td>Manga</td>\n",
       "      <td>26</td>\n",
       "      <td>Finished Airing</td>\n",
       "      <td>...</td>\n",
       "      <td>NaN</td>\n",
       "      <td>Spring 2007</td>\n",
       "      <td>Unknown</td>\n",
       "      <td>{'Adaptation': [{'mal_id': 759, 'type': 'manga...</td>\n",
       "      <td>TV Tokyo, AIC, Square Enix, Sotsu</td>\n",
       "      <td>Funimation</td>\n",
       "      <td>Gonzo</td>\n",
       "      <td>Comedy, Parody, Romance, School, Shounen</td>\n",
       "      <td>['\"Romantic summer\" by SUN&amp;LUNAR']</td>\n",
       "      <td>['#1: \"Ashita e no Hikari (明日への光)\" by Asuka Hi...</td>\n",
       "    </tr>\n",
       "    <tr>\n",
       "      <th>2</th>\n",
       "      <td>5262</td>\n",
       "      <td>Shugo Chara!! Doki</td>\n",
       "      <td>Shugo Chara!! Doki</td>\n",
       "      <td>しゅごキャラ！！どきっ</td>\n",
       "      <td>Shugo Chara Ninenme, Shugo Chara! Second Year</td>\n",
       "      <td>https://myanimelist.cdn-dena.com/images/anime/...</td>\n",
       "      <td>TV</td>\n",
       "      <td>Manga</td>\n",
       "      <td>51</td>\n",
       "      <td>Finished Airing</td>\n",
       "      <td>...</td>\n",
       "      <td>NaN</td>\n",
       "      <td>Fall 2008</td>\n",
       "      <td>Unknown</td>\n",
       "      <td>{'Adaptation': [{'mal_id': 101, 'type': 'manga...</td>\n",
       "      <td>TV Tokyo, Sotsu</td>\n",
       "      <td>NaN</td>\n",
       "      <td>Satelight</td>\n",
       "      <td>Comedy, Magic, School, Shoujo</td>\n",
       "      <td>['#1: \"Minna no Tamago (みんなのたまご)\" by Shugo Cha...</td>\n",
       "      <td>['#1: \"Rottara Rottara (ロッタラ ロッタラ)\" by Buono! ...</td>\n",
       "    </tr>\n",
       "    <tr>\n",
       "      <th>3</th>\n",
       "      <td>721</td>\n",
       "      <td>Princess Tutu</td>\n",
       "      <td>Princess Tutu</td>\n",
       "      <td>プリンセスチュチュ</td>\n",
       "      <td>NaN</td>\n",
       "      <td>https://myanimelist.cdn-dena.com/images/anime/...</td>\n",
       "      <td>TV</td>\n",
       "      <td>Original</td>\n",
       "      <td>38</td>\n",
       "      <td>Finished Airing</td>\n",
       "      <td>...</td>\n",
       "      <td>Princess Tutu aired in two parts. The first pa...</td>\n",
       "      <td>Summer 2002</td>\n",
       "      <td>Fridays at Unknown</td>\n",
       "      <td>{'Adaptation': [{'mal_id': 1581, 'type': 'mang...</td>\n",
       "      <td>Memory-Tech, GANSIS, Marvelous AQL</td>\n",
       "      <td>ADV Films</td>\n",
       "      <td>Hal Film Maker</td>\n",
       "      <td>Comedy, Drama, Magic, Romance, Fantasy</td>\n",
       "      <td>['\"Morning Grace\" by Ritsuko Okazaki']</td>\n",
       "      <td>['\"Watashi No Ai Wa Chiisaikeredo\" by Ritsuko ...</td>\n",
       "    </tr>\n",
       "    <tr>\n",
       "      <th>4</th>\n",
       "      <td>12365</td>\n",
       "      <td>Bakuman. 3rd Season</td>\n",
       "      <td>Bakuman.</td>\n",
       "      <td>バクマン。</td>\n",
       "      <td>Bakuman Season 3</td>\n",
       "      <td>https://myanimelist.cdn-dena.com/images/anime/...</td>\n",
       "      <td>TV</td>\n",
       "      <td>Manga</td>\n",
       "      <td>25</td>\n",
       "      <td>Finished Airing</td>\n",
       "      <td>...</td>\n",
       "      <td>NaN</td>\n",
       "      <td>Fall 2012</td>\n",
       "      <td>Unknown</td>\n",
       "      <td>{'Adaptation': [{'mal_id': 9711, 'type': 'mang...</td>\n",
       "      <td>NHK, Shueisha</td>\n",
       "      <td>NaN</td>\n",
       "      <td>J.C.Staff</td>\n",
       "      <td>Comedy, Drama, Romance, Shounen</td>\n",
       "      <td>['#1: \"Moshimo no Hanashi (もしもの話)\" by nano.RIP...</td>\n",
       "      <td>['#1: \"Pride on Everyday\" by Sphere (eps 1-13)...</td>\n",
       "    </tr>\n",
       "  </tbody>\n",
       "</table>\n",
       "<p>5 rows × 31 columns</p>\n",
       "</div>"
      ],
      "text/plain": [
       "   anime_id                title              title_english title_japanese  \\\n",
       "0     11013        Inu x Boku SS  Inu X Boku Secret Service         妖狐×僕SS   \n",
       "1      2104     Seto no Hanayome      My Bride is a Mermaid          瀬戸の花嫁   \n",
       "2      5262   Shugo Chara!! Doki         Shugo Chara!! Doki    しゅごキャラ！！どきっ   \n",
       "3       721        Princess Tutu              Princess Tutu      プリンセスチュチュ   \n",
       "4     12365  Bakuman. 3rd Season                   Bakuman.          バクマン。   \n",
       "\n",
       "                                  title_synonyms  \\\n",
       "0                                Youko x Boku SS   \n",
       "1                           The Inland Sea Bride   \n",
       "2  Shugo Chara Ninenme, Shugo Chara! Second Year   \n",
       "3                                            NaN   \n",
       "4                               Bakuman Season 3   \n",
       "\n",
       "                                           image_url type    source  episodes  \\\n",
       "0  https://myanimelist.cdn-dena.com/images/anime/...   TV     Manga        12   \n",
       "1  https://myanimelist.cdn-dena.com/images/anime/...   TV     Manga        26   \n",
       "2  https://myanimelist.cdn-dena.com/images/anime/...   TV     Manga        51   \n",
       "3  https://myanimelist.cdn-dena.com/images/anime/...   TV  Original        38   \n",
       "4  https://myanimelist.cdn-dena.com/images/anime/...   TV     Manga        25   \n",
       "\n",
       "            status  ...                                         background  \\\n",
       "0  Finished Airing  ...  Inu x Boku SS was licensed by Sentai Filmworks...   \n",
       "1  Finished Airing  ...                                                NaN   \n",
       "2  Finished Airing  ...                                                NaN   \n",
       "3  Finished Airing  ...  Princess Tutu aired in two parts. The first pa...   \n",
       "4  Finished Airing  ...                                                NaN   \n",
       "\n",
       "     premiered           broadcast  \\\n",
       "0  Winter 2012  Fridays at Unknown   \n",
       "1  Spring 2007             Unknown   \n",
       "2    Fall 2008             Unknown   \n",
       "3  Summer 2002  Fridays at Unknown   \n",
       "4    Fall 2012             Unknown   \n",
       "\n",
       "                                             related  \\\n",
       "0  {'Adaptation': [{'mal_id': 17207, 'type': 'man...   \n",
       "1  {'Adaptation': [{'mal_id': 759, 'type': 'manga...   \n",
       "2  {'Adaptation': [{'mal_id': 101, 'type': 'manga...   \n",
       "3  {'Adaptation': [{'mal_id': 1581, 'type': 'mang...   \n",
       "4  {'Adaptation': [{'mal_id': 9711, 'type': 'mang...   \n",
       "\n",
       "                                            producer          licensor  \\\n",
       "0  Aniplex, Square Enix, Mainichi Broadcasting Sy...  Sentai Filmworks   \n",
       "1                  TV Tokyo, AIC, Square Enix, Sotsu        Funimation   \n",
       "2                                    TV Tokyo, Sotsu               NaN   \n",
       "3                 Memory-Tech, GANSIS, Marvelous AQL         ADV Films   \n",
       "4                                      NHK, Shueisha               NaN   \n",
       "\n",
       "             studio                                     genre  \\\n",
       "0  David Production    Comedy, Supernatural, Romance, Shounen   \n",
       "1             Gonzo  Comedy, Parody, Romance, School, Shounen   \n",
       "2         Satelight             Comedy, Magic, School, Shoujo   \n",
       "3    Hal Film Maker    Comedy, Drama, Magic, Romance, Fantasy   \n",
       "4         J.C.Staff           Comedy, Drama, Romance, Shounen   \n",
       "\n",
       "                                       opening_theme  \\\n",
       "0                              ['\"Nirvana\" by MUCC']   \n",
       "1                 ['\"Romantic summer\" by SUN&LUNAR']   \n",
       "2  ['#1: \"Minna no Tamago (みんなのたまご)\" by Shugo Cha...   \n",
       "3             ['\"Morning Grace\" by Ritsuko Okazaki']   \n",
       "4  ['#1: \"Moshimo no Hanashi (もしもの話)\" by nano.RIP...   \n",
       "\n",
       "                                        ending_theme  \n",
       "0  ['#1: \"Nirvana\" by MUCC (eps 1, 11-12)', '#2: ...  \n",
       "1  ['#1: \"Ashita e no Hikari (明日への光)\" by Asuka Hi...  \n",
       "2  ['#1: \"Rottara Rottara (ロッタラ ロッタラ)\" by Buono! ...  \n",
       "3  ['\"Watashi No Ai Wa Chiisaikeredo\" by Ritsuko ...  \n",
       "4  ['#1: \"Pride on Everyday\" by Sphere (eps 1-13)...  \n",
       "\n",
       "[5 rows x 31 columns]"
      ]
     },
     "execution_count": 8,
     "metadata": {},
     "output_type": "execute_result"
    }
   ],
   "source": [
    "anime.head()"
   ]
  },
  {
   "cell_type": "code",
   "execution_count": 9,
   "metadata": {},
   "outputs": [
    {
     "name": "stdout",
     "output_type": "stream",
     "text": [
      "anime_id                                                      11013\n",
      "title                                                 Inu x Boku SS\n",
      "title_english                             Inu X Boku Secret Service\n",
      "title_japanese                                               妖狐×僕SS\n",
      "title_synonyms                                      Youko x Boku SS\n",
      "image_url         https://myanimelist.cdn-dena.com/images/anime/...\n",
      "type                                                             TV\n",
      "source                                                        Manga\n",
      "episodes                                                         12\n",
      "status                                              Finished Airing\n",
      "airing                                                        False\n",
      "aired_string                           Jan 13, 2012 to Mar 30, 2012\n",
      "aired                    {'from': '2012-01-13', 'to': '2012-03-30'}\n",
      "duration                                            24 min. per ep.\n",
      "rating                                    PG-13 - Teens 13 or older\n",
      "score                                                          7.63\n",
      "scored_by                                                    139250\n",
      "rank                                                         1274.0\n",
      "popularity                                                      231\n",
      "members                                                      283882\n",
      "favorites                                                      2809\n",
      "background        Inu x Boku SS was licensed by Sentai Filmworks...\n",
      "premiered                                               Winter 2012\n",
      "broadcast                                        Fridays at Unknown\n",
      "related           {'Adaptation': [{'mal_id': 17207, 'type': 'man...\n",
      "producer          Aniplex, Square Enix, Mainichi Broadcasting Sy...\n",
      "licensor                                           Sentai Filmworks\n",
      "studio                                             David Production\n",
      "genre                        Comedy, Supernatural, Romance, Shounen\n",
      "opening_theme                                 ['\"Nirvana\" by MUCC']\n",
      "ending_theme      ['#1: \"Nirvana\" by MUCC (eps 1, 11-12)', '#2: ...\n",
      "Name: 0, dtype: object\n"
     ]
    }
   ],
   "source": [
    "print(anime.iloc[0])"
   ]
  },
  {
   "cell_type": "markdown",
   "metadata": {},
   "source": [
    "We will clean the data by columns. First of all, we will list all the available columns."
   ]
  },
  {
   "cell_type": "code",
   "execution_count": 10,
   "metadata": {},
   "outputs": [
    {
     "data": {
      "text/plain": [
       "Index(['anime_id', 'title', 'title_english', 'title_japanese',\n",
       "       'title_synonyms', 'image_url', 'type', 'source', 'episodes', 'status',\n",
       "       'airing', 'aired_string', 'aired', 'duration', 'rating', 'score',\n",
       "       'scored_by', 'rank', 'popularity', 'members', 'favorites', 'background',\n",
       "       'premiered', 'broadcast', 'related', 'producer', 'licensor', 'studio',\n",
       "       'genre', 'opening_theme', 'ending_theme'],\n",
       "      dtype='object')"
      ]
     },
     "execution_count": 10,
     "metadata": {},
     "output_type": "execute_result"
    }
   ],
   "source": [
    "anime.columns"
   ]
  },
  {
   "cell_type": "markdown",
   "metadata": {},
   "source": []
  },
  {
   "cell_type": "code",
   "execution_count": 11,
   "metadata": {},
   "outputs": [
    {
     "data": {
      "text/plain": [
       "anime_id            int64\n",
       "title              object\n",
       "title_english      object\n",
       "title_japanese     object\n",
       "title_synonyms     object\n",
       "image_url          object\n",
       "type               object\n",
       "source             object\n",
       "episodes            int64\n",
       "status             object\n",
       "airing               bool\n",
       "aired_string       object\n",
       "aired              object\n",
       "duration           object\n",
       "rating             object\n",
       "score             float64\n",
       "scored_by           int64\n",
       "rank              float64\n",
       "popularity          int64\n",
       "members             int64\n",
       "favorites           int64\n",
       "background         object\n",
       "premiered          object\n",
       "broadcast          object\n",
       "related            object\n",
       "producer           object\n",
       "licensor           object\n",
       "studio             object\n",
       "genre              object\n",
       "opening_theme      object\n",
       "ending_theme       object\n",
       "dtype: object"
      ]
     },
     "execution_count": 11,
     "metadata": {},
     "output_type": "execute_result"
    }
   ],
   "source": [
    "anime.dtypes"
   ]
  },
  {
   "cell_type": "markdown",
   "metadata": {},
   "source": [
    "And the type of the columns."
   ]
  },
  {
   "cell_type": "code",
   "execution_count": 12,
   "metadata": {},
   "outputs": [
    {
     "name": "stdout",
     "output_type": "stream",
     "text": [
      "Numerical cols: ['anime_id', 'episodes', 'airing', 'score', 'scored_by', 'rank', 'popularity', 'members', 'favorites']\n",
      "Categorical cols: ['image_url', 'rating', 'broadcast', 'opening_theme', 'producer', 'aired_string', 'title', 'ending_theme', 'type', 'title_japanese', 'status', 'duration', 'source', 'genre', 'title_english', 'premiered', 'licensor', 'related', 'aired', 'background', 'title_synonyms', 'studio']\n"
     ]
    }
   ],
   "source": [
    "numerical_cols = [col for col in anime.columns if pd.api.types.is_numeric_dtype(anime[col])]\n",
    "categorical_cols = list(set(anime.columns) - set(numerical_cols))\n",
    "print(f\"Numerical cols: {numerical_cols}\")\n",
    "print(f\"Categorical cols: {categorical_cols}\")"
   ]
  },
  {
   "cell_type": "markdown",
   "metadata": {},
   "source": [
    "Moreover, there are some notable columns with specific types:\n",
    "- `related`: maybe `dict` type.\n",
    "- `opening_theme` and `ending_theme`: `list` type."
   ]
  },
  {
   "cell_type": "code",
   "execution_count": 13,
   "metadata": {},
   "outputs": [
    {
     "data": {
      "text/plain": [
       "0    {'Adaptation': [{'mal_id': 17207, 'type': 'man...\n",
       "1    {'Adaptation': [{'mal_id': 759, 'type': 'manga...\n",
       "2    {'Adaptation': [{'mal_id': 101, 'type': 'manga...\n",
       "3    {'Adaptation': [{'mal_id': 1581, 'type': 'mang...\n",
       "4    {'Adaptation': [{'mal_id': 9711, 'type': 'mang...\n",
       "Name: related, dtype: object"
      ]
     },
     "execution_count": 13,
     "metadata": {},
     "output_type": "execute_result"
    }
   ],
   "source": [
    "anime.related.head()"
   ]
  },
  {
   "cell_type": "code",
   "execution_count": 14,
   "metadata": {},
   "outputs": [
    {
     "data": {
      "text/plain": [
       "\"{'Adaptation': [{'mal_id': 17207, 'type': 'manga', 'url': 'https://myanimelist.net/manga/17207/Inu_x_Boku_SS', 'title': 'Inu x Boku SS'}], 'Sequel': [{'mal_id': 13403, 'type': 'anime', 'url': 'https://myanimelist.net/anime/13403/Inu_x_Boku_SS_Special', 'title': 'Inu x Boku SS Special'}]}\""
      ]
     },
     "execution_count": 14,
     "metadata": {},
     "output_type": "execute_result"
    }
   ],
   "source": [
    "anime.related[0]"
   ]
  },
  {
   "cell_type": "code",
   "execution_count": 15,
   "metadata": {},
   "outputs": [
    {
     "data": {
      "text/html": [
       "<div>\n",
       "<style scoped>\n",
       "    .dataframe tbody tr th:only-of-type {\n",
       "        vertical-align: middle;\n",
       "    }\n",
       "\n",
       "    .dataframe tbody tr th {\n",
       "        vertical-align: top;\n",
       "    }\n",
       "\n",
       "    .dataframe thead th {\n",
       "        text-align: right;\n",
       "    }\n",
       "</style>\n",
       "<table border=\"1\" class=\"dataframe\">\n",
       "  <thead>\n",
       "    <tr style=\"text-align: right;\">\n",
       "      <th></th>\n",
       "      <th>opening_theme</th>\n",
       "      <th>ending_theme</th>\n",
       "    </tr>\n",
       "  </thead>\n",
       "  <tbody>\n",
       "    <tr>\n",
       "      <th>0</th>\n",
       "      <td>['\"Nirvana\" by MUCC']</td>\n",
       "      <td>['#1: \"Nirvana\" by MUCC (eps 1, 11-12)', '#2: ...</td>\n",
       "    </tr>\n",
       "    <tr>\n",
       "      <th>1</th>\n",
       "      <td>['\"Romantic summer\" by SUN&amp;LUNAR']</td>\n",
       "      <td>['#1: \"Ashita e no Hikari (明日への光)\" by Asuka Hi...</td>\n",
       "    </tr>\n",
       "    <tr>\n",
       "      <th>2</th>\n",
       "      <td>['#1: \"Minna no Tamago (みんなのたまご)\" by Shugo Cha...</td>\n",
       "      <td>['#1: \"Rottara Rottara (ロッタラ ロッタラ)\" by Buono! ...</td>\n",
       "    </tr>\n",
       "    <tr>\n",
       "      <th>3</th>\n",
       "      <td>['\"Morning Grace\" by Ritsuko Okazaki']</td>\n",
       "      <td>['\"Watashi No Ai Wa Chiisaikeredo\" by Ritsuko ...</td>\n",
       "    </tr>\n",
       "    <tr>\n",
       "      <th>4</th>\n",
       "      <td>['#1: \"Moshimo no Hanashi (もしもの話)\" by nano.RIP...</td>\n",
       "      <td>['#1: \"Pride on Everyday\" by Sphere (eps 1-13)...</td>\n",
       "    </tr>\n",
       "  </tbody>\n",
       "</table>\n",
       "</div>"
      ],
      "text/plain": [
       "                                       opening_theme  \\\n",
       "0                              ['\"Nirvana\" by MUCC']   \n",
       "1                 ['\"Romantic summer\" by SUN&LUNAR']   \n",
       "2  ['#1: \"Minna no Tamago (みんなのたまご)\" by Shugo Cha...   \n",
       "3             ['\"Morning Grace\" by Ritsuko Okazaki']   \n",
       "4  ['#1: \"Moshimo no Hanashi (もしもの話)\" by nano.RIP...   \n",
       "\n",
       "                                        ending_theme  \n",
       "0  ['#1: \"Nirvana\" by MUCC (eps 1, 11-12)', '#2: ...  \n",
       "1  ['#1: \"Ashita e no Hikari (明日への光)\" by Asuka Hi...  \n",
       "2  ['#1: \"Rottara Rottara (ロッタラ ロッタラ)\" by Buono! ...  \n",
       "3  ['\"Watashi No Ai Wa Chiisaikeredo\" by Ritsuko ...  \n",
       "4  ['#1: \"Pride on Everyday\" by Sphere (eps 1-13)...  "
      ]
     },
     "execution_count": 15,
     "metadata": {},
     "output_type": "execute_result"
    }
   ],
   "source": [
    "anime[[\"opening_theme\", \"ending_theme\"]].head()"
   ]
  },
  {
   "cell_type": "code",
   "execution_count": 16,
   "metadata": {},
   "outputs": [
    {
     "data": {
      "text/plain": [
       "'[\\'#1: \"Nirvana\" by MUCC (eps 1, 11-12)\\', \\'#2: \"Rakuen no Photograph (楽園のPhotograph)\" by Soushi Miketsukami (Yuichi Nakamura) (eps 2, 9)\\', \\'#3: \"Kimi wa (君は)\" by Ririchiyo Shirakiin (Rina Hidaka) (eps 3, 8)\\', \\'#4: \"one way\" by Banri Watanuki (Takuya Eguchi) & Zange Natsume (Mamoru Miyano) (ep 4)\\', \\'#5: \"SM Hantei Forum (SM判定フォーラム)\" by Kagerou Shoukiin (Tomokazu Sugita) (ep 5, 10)\\', \\'#6: \"sweets parade\" by Karuta Roromiya (Kana Hanazawa) (ep 6)\\', \\'#7: \"Taiyou to Tsuki (太陽と月)\" by Renshou Sorinozuka (Yoshimasa Hosoya) & Nobara Yukinokouji (Youko Hikasa) (ep 7)\\']'"
      ]
     },
     "execution_count": 16,
     "metadata": {},
     "output_type": "execute_result"
    }
   ],
   "source": [
    "anime.ending_theme[0]"
   ]
  },
  {
   "cell_type": "markdown",
   "metadata": {},
   "source": [
    "But they are string representation of `list` and `dict` type. We must change these values to their corresponding types to extract meaningful information."
   ]
  },
  {
   "cell_type": "code",
   "execution_count": 17,
   "metadata": {},
   "outputs": [],
   "source": [
    "for col in [\"related\", \"opening_theme\", \"ending_theme\"]:\n",
    "    anime[col] = anime[col].apply(eval)"
   ]
  },
  {
   "cell_type": "markdown",
   "metadata": {},
   "source": [
    "We also check for missing values per column."
   ]
  },
  {
   "cell_type": "code",
   "execution_count": 18,
   "metadata": {},
   "outputs": [
    {
     "name": "stdout",
     "output_type": "stream",
     "text": [
      "Column title_english: Missing 8754 values, about 60.46%.\n",
      "Column title_japanese: Missing 35 values, about 0.24%.\n",
      "Column title_synonyms: Missing 5541 values, about 38.27%.\n",
      "Column image_url: Missing 96 values, about 0.66%.\n",
      "Column rank: Missing 1574 values, about 10.87%.\n",
      "Column background: Missing 13421 values, about 92.70%.\n",
      "Column premiered: Missing 10382 values, about 71.71%.\n",
      "Column broadcast: Missing 10207 values, about 70.50%.\n",
      "Column producer: Missing 6190 values, about 42.75%.\n",
      "Column licensor: Missing 11105 values, about 76.70%.\n",
      "Column studio: Missing 5934 values, about 40.99%.\n",
      "Column genre: Missing 64 values, about 0.44%.\n"
     ]
    }
   ],
   "source": [
    "num_rows = anime.shape[0]\n",
    "for col in anime.columns:\n",
    "    num_missing = anime[col].isnull().sum()\n",
    "    if num_missing > 0:\n",
    "        print(f\"Column {col}: Missing {num_missing} values, about {num_missing/num_rows*100:.2f}%.\")"
   ]
  },
  {
   "cell_type": "markdown",
   "metadata": {},
   "source": [
    "Some statistics of the numerical columns are also essential."
   ]
  },
  {
   "cell_type": "code",
   "execution_count": 19,
   "metadata": {},
   "outputs": [
    {
     "data": {
      "text/html": [
       "<div>\n",
       "<style scoped>\n",
       "    .dataframe tbody tr th:only-of-type {\n",
       "        vertical-align: middle;\n",
       "    }\n",
       "\n",
       "    .dataframe tbody tr th {\n",
       "        vertical-align: top;\n",
       "    }\n",
       "\n",
       "    .dataframe thead th {\n",
       "        text-align: right;\n",
       "    }\n",
       "</style>\n",
       "<table border=\"1\" class=\"dataframe\">\n",
       "  <thead>\n",
       "    <tr style=\"text-align: right;\">\n",
       "      <th></th>\n",
       "      <th>episodes</th>\n",
       "      <th>score</th>\n",
       "      <th>scored_by</th>\n",
       "      <th>rank</th>\n",
       "      <th>popularity</th>\n",
       "      <th>members</th>\n",
       "      <th>favorites</th>\n",
       "    </tr>\n",
       "  </thead>\n",
       "  <tbody>\n",
       "    <tr>\n",
       "      <th>count</th>\n",
       "      <td>14478.00</td>\n",
       "      <td>14478.00</td>\n",
       "      <td>14478.00</td>\n",
       "      <td>12904.00</td>\n",
       "      <td>14478.00</td>\n",
       "      <td>14478.00</td>\n",
       "      <td>14478.00</td>\n",
       "    </tr>\n",
       "    <tr>\n",
       "      <th>mean</th>\n",
       "      <td>11.31</td>\n",
       "      <td>6.14</td>\n",
       "      <td>11460.03</td>\n",
       "      <td>6439.07</td>\n",
       "      <td>7220.26</td>\n",
       "      <td>22966.40</td>\n",
       "      <td>311.65</td>\n",
       "    </tr>\n",
       "    <tr>\n",
       "      <th>std</th>\n",
       "      <td>43.44</td>\n",
       "      <td>1.46</td>\n",
       "      <td>43105.19</td>\n",
       "      <td>3720.23</td>\n",
       "      <td>4170.08</td>\n",
       "      <td>74981.36</td>\n",
       "      <td>2615.55</td>\n",
       "    </tr>\n",
       "    <tr>\n",
       "      <th>min</th>\n",
       "      <td>0.00</td>\n",
       "      <td>0.00</td>\n",
       "      <td>0.00</td>\n",
       "      <td>0.00</td>\n",
       "      <td>0.00</td>\n",
       "      <td>0.00</td>\n",
       "      <td>0.00</td>\n",
       "    </tr>\n",
       "    <tr>\n",
       "      <th>25%</th>\n",
       "      <td>1.00</td>\n",
       "      <td>5.55</td>\n",
       "      <td>46.00</td>\n",
       "      <td>3216.25</td>\n",
       "      <td>3611.50</td>\n",
       "      <td>245.00</td>\n",
       "      <td>0.00</td>\n",
       "    </tr>\n",
       "    <tr>\n",
       "      <th>50%</th>\n",
       "      <td>1.00</td>\n",
       "      <td>6.37</td>\n",
       "      <td>501.00</td>\n",
       "      <td>6441.50</td>\n",
       "      <td>7225.50</td>\n",
       "      <td>1679.50</td>\n",
       "      <td>2.00</td>\n",
       "    </tr>\n",
       "    <tr>\n",
       "      <th>75%</th>\n",
       "      <td>12.00</td>\n",
       "      <td>7.06</td>\n",
       "      <td>3941.50</td>\n",
       "      <td>9664.00</td>\n",
       "      <td>10827.75</td>\n",
       "      <td>10379.00</td>\n",
       "      <td>23.00</td>\n",
       "    </tr>\n",
       "    <tr>\n",
       "      <th>max</th>\n",
       "      <td>1818.00</td>\n",
       "      <td>10.00</td>\n",
       "      <td>1009477.00</td>\n",
       "      <td>12919.00</td>\n",
       "      <td>14487.00</td>\n",
       "      <td>1456378.00</td>\n",
       "      <td>106895.00</td>\n",
       "    </tr>\n",
       "  </tbody>\n",
       "</table>\n",
       "</div>"
      ],
      "text/plain": [
       "       episodes     score   scored_by      rank  popularity     members  \\\n",
       "count  14478.00  14478.00    14478.00  12904.00    14478.00    14478.00   \n",
       "mean      11.31      6.14    11460.03   6439.07     7220.26    22966.40   \n",
       "std       43.44      1.46    43105.19   3720.23     4170.08    74981.36   \n",
       "min        0.00      0.00        0.00      0.00        0.00        0.00   \n",
       "25%        1.00      5.55       46.00   3216.25     3611.50      245.00   \n",
       "50%        1.00      6.37      501.00   6441.50     7225.50     1679.50   \n",
       "75%       12.00      7.06     3941.50   9664.00    10827.75    10379.00   \n",
       "max     1818.00     10.00  1009477.00  12919.00    14487.00  1456378.00   \n",
       "\n",
       "       favorites  \n",
       "count   14478.00  \n",
       "mean      311.65  \n",
       "std      2615.55  \n",
       "min         0.00  \n",
       "25%         0.00  \n",
       "50%         2.00  \n",
       "75%        23.00  \n",
       "max    106895.00  "
      ]
     },
     "execution_count": 19,
     "metadata": {},
     "output_type": "execute_result"
    }
   ],
   "source": [
    "np.round(anime.drop(columns=[\"anime_id\"]).describe(),2)"
   ]
  },
  {
   "cell_type": "markdown",
   "metadata": {},
   "source": [
    "### Some notes:\n",
    "- There are some suspicious columns, including `aired`, `aired_string`, and `airing`. These columns maybe redundant and not up-to-date.\n",
    "- `background` contains mostly null values, which means almost animes have no background information. This is maybe due to data crawling error. As a result, we may consider dropping it.\n",
    "- There are some animes with 0 episodes. The anime should be unaired yet. But we should check if there is any error."
   ]
  },
  {
   "cell_type": "markdown",
   "metadata": {},
   "source": [
    "# III. Data Cleaning"
   ]
  },
  {
   "cell_type": "code",
   "execution_count": 20,
   "metadata": {},
   "outputs": [
    {
     "data": {
      "text/plain": [
       "Index(['anime_id', 'title', 'title_english', 'title_japanese',\n",
       "       'title_synonyms', 'image_url', 'type', 'source', 'episodes', 'status',\n",
       "       'airing', 'aired_string', 'aired', 'duration', 'rating', 'score',\n",
       "       'scored_by', 'rank', 'popularity', 'members', 'favorites', 'background',\n",
       "       'premiered', 'broadcast', 'related', 'producer', 'licensor', 'studio',\n",
       "       'genre', 'opening_theme', 'ending_theme'],\n",
       "      dtype='object')"
      ]
     },
     "execution_count": 20,
     "metadata": {},
     "output_type": "execute_result"
    }
   ],
   "source": [
    "## Reprint all the columns for references\n",
    "anime.columns"
   ]
  },
  {
   "cell_type": "markdown",
   "metadata": {},
   "source": [
    "### 1. Anime ID"
   ]
  },
  {
   "cell_type": "code",
   "execution_count": 21,
   "metadata": {},
   "outputs": [
    {
     "data": {
      "text/plain": [
       "dtype('int64')"
      ]
     },
     "execution_count": 21,
     "metadata": {},
     "output_type": "execute_result"
    }
   ],
   "source": [
    "anime.anime_id.dtype"
   ]
  },
  {
   "cell_type": "code",
   "execution_count": 22,
   "metadata": {},
   "outputs": [
    {
     "data": {
      "text/plain": [
       "0"
      ]
     },
     "execution_count": 22,
     "metadata": {},
     "output_type": "execute_result"
    }
   ],
   "source": [
    "anime.anime_id.isnull().sum()"
   ]
  },
  {
   "cell_type": "code",
   "execution_count": 23,
   "metadata": {},
   "outputs": [
    {
     "data": {
      "text/plain": [
       "True"
      ]
     },
     "execution_count": 23,
     "metadata": {},
     "output_type": "execute_result"
    }
   ],
   "source": [
    "anime.anime_id.nunique() == len(anime)"
   ]
  },
  {
   "cell_type": "markdown",
   "metadata": {},
   "source": [
    "It does seem that this column is fine. As there is no null value (each `anime_id` represents an anime). Therefore, we can use this column as an index column or a primary key in our database."
   ]
  },
  {
   "cell_type": "markdown",
   "metadata": {},
   "source": [
    "### 2. Anime titles (`title`, `title_english`, `title_japanese`,`title_synonyms`)"
   ]
  },
  {
   "cell_type": "code",
   "execution_count": 24,
   "metadata": {},
   "outputs": [
    {
     "data": {
      "text/html": [
       "<div>\n",
       "<style scoped>\n",
       "    .dataframe tbody tr th:only-of-type {\n",
       "        vertical-align: middle;\n",
       "    }\n",
       "\n",
       "    .dataframe tbody tr th {\n",
       "        vertical-align: top;\n",
       "    }\n",
       "\n",
       "    .dataframe thead th {\n",
       "        text-align: right;\n",
       "    }\n",
       "</style>\n",
       "<table border=\"1\" class=\"dataframe\">\n",
       "  <thead>\n",
       "    <tr style=\"text-align: right;\">\n",
       "      <th></th>\n",
       "      <th>title</th>\n",
       "      <th>title_english</th>\n",
       "      <th>title_japanese</th>\n",
       "      <th>title_synonyms</th>\n",
       "    </tr>\n",
       "  </thead>\n",
       "  <tbody>\n",
       "    <tr>\n",
       "      <th>0</th>\n",
       "      <td>Inu x Boku SS</td>\n",
       "      <td>Inu X Boku Secret Service</td>\n",
       "      <td>妖狐×僕SS</td>\n",
       "      <td>Youko x Boku SS</td>\n",
       "    </tr>\n",
       "    <tr>\n",
       "      <th>1</th>\n",
       "      <td>Seto no Hanayome</td>\n",
       "      <td>My Bride is a Mermaid</td>\n",
       "      <td>瀬戸の花嫁</td>\n",
       "      <td>The Inland Sea Bride</td>\n",
       "    </tr>\n",
       "    <tr>\n",
       "      <th>2</th>\n",
       "      <td>Shugo Chara!! Doki</td>\n",
       "      <td>Shugo Chara!! Doki</td>\n",
       "      <td>しゅごキャラ！！どきっ</td>\n",
       "      <td>Shugo Chara Ninenme, Shugo Chara! Second Year</td>\n",
       "    </tr>\n",
       "    <tr>\n",
       "      <th>3</th>\n",
       "      <td>Princess Tutu</td>\n",
       "      <td>Princess Tutu</td>\n",
       "      <td>プリンセスチュチュ</td>\n",
       "      <td>NaN</td>\n",
       "    </tr>\n",
       "    <tr>\n",
       "      <th>4</th>\n",
       "      <td>Bakuman. 3rd Season</td>\n",
       "      <td>Bakuman.</td>\n",
       "      <td>バクマン。</td>\n",
       "      <td>Bakuman Season 3</td>\n",
       "    </tr>\n",
       "  </tbody>\n",
       "</table>\n",
       "</div>"
      ],
      "text/plain": [
       "                 title              title_english title_japanese  \\\n",
       "0        Inu x Boku SS  Inu X Boku Secret Service         妖狐×僕SS   \n",
       "1     Seto no Hanayome      My Bride is a Mermaid          瀬戸の花嫁   \n",
       "2   Shugo Chara!! Doki         Shugo Chara!! Doki    しゅごキャラ！！どきっ   \n",
       "3        Princess Tutu              Princess Tutu      プリンセスチュチュ   \n",
       "4  Bakuman. 3rd Season                   Bakuman.          バクマン。   \n",
       "\n",
       "                                  title_synonyms  \n",
       "0                                Youko x Boku SS  \n",
       "1                           The Inland Sea Bride  \n",
       "2  Shugo Chara Ninenme, Shugo Chara! Second Year  \n",
       "3                                            NaN  \n",
       "4                               Bakuman Season 3  "
      ]
     },
     "execution_count": 24,
     "metadata": {},
     "output_type": "execute_result"
    }
   ],
   "source": [
    "anime[['title', 'title_english', 'title_japanese', 'title_synonyms']].head()"
   ]
  },
  {
   "cell_type": "code",
   "execution_count": 25,
   "metadata": {},
   "outputs": [
    {
     "data": {
      "text/html": [
       "<div>\n",
       "<style scoped>\n",
       "    .dataframe tbody tr th:only-of-type {\n",
       "        vertical-align: middle;\n",
       "    }\n",
       "\n",
       "    .dataframe tbody tr th {\n",
       "        vertical-align: top;\n",
       "    }\n",
       "\n",
       "    .dataframe thead th {\n",
       "        text-align: right;\n",
       "    }\n",
       "</style>\n",
       "<table border=\"1\" class=\"dataframe\">\n",
       "  <thead>\n",
       "    <tr style=\"text-align: right;\">\n",
       "      <th></th>\n",
       "      <th>anime_id</th>\n",
       "      <th>title</th>\n",
       "      <th>title_english</th>\n",
       "      <th>title_japanese</th>\n",
       "      <th>title_synonyms</th>\n",
       "      <th>image_url</th>\n",
       "      <th>type</th>\n",
       "      <th>source</th>\n",
       "      <th>episodes</th>\n",
       "      <th>status</th>\n",
       "      <th>...</th>\n",
       "      <th>background</th>\n",
       "      <th>premiered</th>\n",
       "      <th>broadcast</th>\n",
       "      <th>related</th>\n",
       "      <th>producer</th>\n",
       "      <th>licensor</th>\n",
       "      <th>studio</th>\n",
       "      <th>genre</th>\n",
       "      <th>opening_theme</th>\n",
       "      <th>ending_theme</th>\n",
       "    </tr>\n",
       "  </thead>\n",
       "  <tbody>\n",
       "    <tr>\n",
       "      <th>797</th>\n",
       "      <td>33449</td>\n",
       "      <td>Moving Colors</td>\n",
       "      <td>NaN</td>\n",
       "      <td>NaN</td>\n",
       "      <td>NaN</td>\n",
       "      <td>https://myanimelist.cdn-dena.com/images/anime/...</td>\n",
       "      <td>Movie</td>\n",
       "      <td>Original</td>\n",
       "      <td>1</td>\n",
       "      <td>Finished Airing</td>\n",
       "      <td>...</td>\n",
       "      <td>NaN</td>\n",
       "      <td>NaN</td>\n",
       "      <td>NaN</td>\n",
       "      <td>[]</td>\n",
       "      <td>Decovocal</td>\n",
       "      <td>NaN</td>\n",
       "      <td>NaN</td>\n",
       "      <td>Dementia</td>\n",
       "      <td>[]</td>\n",
       "      <td>[]</td>\n",
       "    </tr>\n",
       "    <tr>\n",
       "      <th>1021</th>\n",
       "      <td>34060</td>\n",
       "      <td>Dead World</td>\n",
       "      <td>NaN</td>\n",
       "      <td>NaN</td>\n",
       "      <td>NaN</td>\n",
       "      <td>https://myanimelist.cdn-dena.com/images/anime/...</td>\n",
       "      <td>ONA</td>\n",
       "      <td>Original</td>\n",
       "      <td>1</td>\n",
       "      <td>Finished Airing</td>\n",
       "      <td>...</td>\n",
       "      <td>NaN</td>\n",
       "      <td>NaN</td>\n",
       "      <td>NaN</td>\n",
       "      <td>[]</td>\n",
       "      <td>NaN</td>\n",
       "      <td>NaN</td>\n",
       "      <td>NaN</td>\n",
       "      <td>Horror</td>\n",
       "      <td>[]</td>\n",
       "      <td>[]</td>\n",
       "    </tr>\n",
       "    <tr>\n",
       "      <th>1597</th>\n",
       "      <td>34151</td>\n",
       "      <td>Landreaall</td>\n",
       "      <td>NaN</td>\n",
       "      <td>NaN</td>\n",
       "      <td>NaN</td>\n",
       "      <td>https://myanimelist.cdn-dena.com/images/anime/...</td>\n",
       "      <td>OVA</td>\n",
       "      <td>Manga</td>\n",
       "      <td>0</td>\n",
       "      <td>Finished Airing</td>\n",
       "      <td>...</td>\n",
       "      <td>NaN</td>\n",
       "      <td>NaN</td>\n",
       "      <td>NaN</td>\n",
       "      <td>{'Adaptation': [{'mal_id': 8751, 'type': 'mang...</td>\n",
       "      <td>NaN</td>\n",
       "      <td>NaN</td>\n",
       "      <td>Will Palette</td>\n",
       "      <td>Action, Adventure, Romance, Martial Arts, Fantasy</td>\n",
       "      <td>[]</td>\n",
       "      <td>[]</td>\n",
       "    </tr>\n",
       "  </tbody>\n",
       "</table>\n",
       "<p>3 rows × 31 columns</p>\n",
       "</div>"
      ],
      "text/plain": [
       "      anime_id          title title_english title_japanese title_synonyms  \\\n",
       "797      33449  Moving Colors           NaN            NaN            NaN   \n",
       "1021     34060     Dead World           NaN            NaN            NaN   \n",
       "1597     34151     Landreaall           NaN            NaN            NaN   \n",
       "\n",
       "                                              image_url   type    source  \\\n",
       "797   https://myanimelist.cdn-dena.com/images/anime/...  Movie  Original   \n",
       "1021  https://myanimelist.cdn-dena.com/images/anime/...    ONA  Original   \n",
       "1597  https://myanimelist.cdn-dena.com/images/anime/...    OVA     Manga   \n",
       "\n",
       "      episodes           status  ...  background premiered broadcast  \\\n",
       "797          1  Finished Airing  ...         NaN       NaN       NaN   \n",
       "1021         1  Finished Airing  ...         NaN       NaN       NaN   \n",
       "1597         0  Finished Airing  ...         NaN       NaN       NaN   \n",
       "\n",
       "                                                related   producer  licensor  \\\n",
       "797                                                  []  Decovocal       NaN   \n",
       "1021                                                 []        NaN       NaN   \n",
       "1597  {'Adaptation': [{'mal_id': 8751, 'type': 'mang...        NaN       NaN   \n",
       "\n",
       "            studio                                              genre  \\\n",
       "797            NaN                                           Dementia   \n",
       "1021           NaN                                             Horror   \n",
       "1597  Will Palette  Action, Adventure, Romance, Martial Arts, Fantasy   \n",
       "\n",
       "      opening_theme  ending_theme  \n",
       "797              []            []  \n",
       "1021             []            []  \n",
       "1597             []            []  \n",
       "\n",
       "[3 rows x 31 columns]"
      ]
     },
     "execution_count": 25,
     "metadata": {},
     "output_type": "execute_result"
    }
   ],
   "source": [
    "anime[anime['title_english'].isnull() & anime['title_japanese'].isnull() & anime['title_synonyms'].isnull()].head(3)"
   ]
  },
  {
   "cell_type": "markdown",
   "metadata": {},
   "source": [
    "There are such animes that all `title_english`, `title_japanese`, `title_synonyms` are `NaN`. "
   ]
  },
  {
   "cell_type": "code",
   "execution_count": 26,
   "metadata": {},
   "outputs": [
    {
     "data": {
      "text/plain": [
       "797     8\n",
       "1021    9\n",
       "1597    8\n",
       "3411    9\n",
       "4251    8\n",
       "dtype: int64"
      ]
     },
     "execution_count": 26,
     "metadata": {},
     "output_type": "execute_result"
    }
   ],
   "source": [
    "anime[anime['title_english'].isnull() & anime['title_japanese'].isnull() & anime['title_synonyms'].isnull()].head().isnull().sum(axis=1)"
   ]
  },
  {
   "cell_type": "markdown",
   "metadata": {},
   "source": [
    "As the basic information, roughly 60% of the English title and 38% of the synonyms title is missing. But no title is empty and thus, we can easily define an anime given a `title`. Therefore, `title_english`, `title_japanese`, `title_synonyms` are optional and we can safely keep them."
   ]
  },
  {
   "cell_type": "code",
   "execution_count": 27,
   "metadata": {},
   "outputs": [
    {
     "data": {
      "text/html": [
       "<div>\n",
       "<style scoped>\n",
       "    .dataframe tbody tr th:only-of-type {\n",
       "        vertical-align: middle;\n",
       "    }\n",
       "\n",
       "    .dataframe tbody tr th {\n",
       "        vertical-align: top;\n",
       "    }\n",
       "\n",
       "    .dataframe thead th {\n",
       "        text-align: right;\n",
       "    }\n",
       "</style>\n",
       "<table border=\"1\" class=\"dataframe\">\n",
       "  <thead>\n",
       "    <tr style=\"text-align: right;\">\n",
       "      <th></th>\n",
       "      <th>anime_id</th>\n",
       "      <th>title</th>\n",
       "      <th>title_english</th>\n",
       "      <th>title_japanese</th>\n",
       "      <th>title_synonyms</th>\n",
       "      <th>image_url</th>\n",
       "      <th>type</th>\n",
       "      <th>source</th>\n",
       "      <th>episodes</th>\n",
       "      <th>status</th>\n",
       "      <th>...</th>\n",
       "      <th>background</th>\n",
       "      <th>premiered</th>\n",
       "      <th>broadcast</th>\n",
       "      <th>related</th>\n",
       "      <th>producer</th>\n",
       "      <th>licensor</th>\n",
       "      <th>studio</th>\n",
       "      <th>genre</th>\n",
       "      <th>opening_theme</th>\n",
       "      <th>ending_theme</th>\n",
       "    </tr>\n",
       "  </thead>\n",
       "  <tbody>\n",
       "    <tr>\n",
       "      <th>114</th>\n",
       "      <td>1778</td>\n",
       "      <td>Dae Jang Geum: Jang Geum&amp;#039;s Dream</td>\n",
       "      <td>NaN</td>\n",
       "      <td>少女チャングムの夢</td>\n",
       "      <td>Shoujo Changumu no Yume, Janggeum&amp;#039;s Dream...</td>\n",
       "      <td>https://myanimelist.cdn-dena.com/images/anime/...</td>\n",
       "      <td>TV</td>\n",
       "      <td>Other</td>\n",
       "      <td>26</td>\n",
       "      <td>Finished Airing</td>\n",
       "      <td>...</td>\n",
       "      <td>NaN</td>\n",
       "      <td>Fall 2005</td>\n",
       "      <td>Unknown</td>\n",
       "      <td>{'Sequel': [{'mal_id': 9200, 'type': 'anime', ...</td>\n",
       "      <td>Heewon Entertainment</td>\n",
       "      <td>NaN</td>\n",
       "      <td>NaN</td>\n",
       "      <td>Adventure, Comedy, Historical</td>\n",
       "      <td>[\"Ima ga Daisuki\" by Younha]</td>\n",
       "      <td>[\"Moonlight Girl (달빛 소녀)\" by Lee Seung Hwan (이...</td>\n",
       "    </tr>\n",
       "    <tr>\n",
       "      <th>162</th>\n",
       "      <td>23855</td>\n",
       "      <td>Dennou Sentai Voogie&amp;#039;s★Angel Gaiden: Susu...</td>\n",
       "      <td>NaN</td>\n",
       "      <td>電脳戦隊ヴギィ&amp;#039;ズ★エンジェル外伝 進め! スーパー★エンジェルス!</td>\n",
       "      <td>Voogie&amp;#039;s Angel OVA, Susume! Super Angels!</td>\n",
       "      <td>https://myanimelist.cdn-dena.com/images/anime/...</td>\n",
       "      <td>OVA</td>\n",
       "      <td>Unknown</td>\n",
       "      <td>2</td>\n",
       "      <td>Finished Airing</td>\n",
       "      <td>...</td>\n",
       "      <td>NaN</td>\n",
       "      <td>NaN</td>\n",
       "      <td>NaN</td>\n",
       "      <td>{'Parent story': [{'mal_id': 2453, 'type': 'an...</td>\n",
       "      <td>NaN</td>\n",
       "      <td>NaN</td>\n",
       "      <td>J.C.Staff</td>\n",
       "      <td>Action, Comedy, Mecha, Parody, Sci-Fi</td>\n",
       "      <td>[]</td>\n",
       "      <td>[]</td>\n",
       "    </tr>\n",
       "    <tr>\n",
       "      <th>213</th>\n",
       "      <td>1640</td>\n",
       "      <td>Angel&amp;#039;s Feather</td>\n",
       "      <td>Angel&amp;#039;s Feather</td>\n",
       "      <td>エンジェルズフェザー Angel&amp;#039;s Feather</td>\n",
       "      <td>NaN</td>\n",
       "      <td>https://myanimelist.cdn-dena.com/images/anime/...</td>\n",
       "      <td>OVA</td>\n",
       "      <td>Visual novel</td>\n",
       "      <td>2</td>\n",
       "      <td>Finished Airing</td>\n",
       "      <td>...</td>\n",
       "      <td>NaN</td>\n",
       "      <td>NaN</td>\n",
       "      <td>NaN</td>\n",
       "      <td>[]</td>\n",
       "      <td>NaN</td>\n",
       "      <td>Media Blasters</td>\n",
       "      <td>Venet</td>\n",
       "      <td>Sci-Fi, Supernatural, Drama, Romance, Fantasy,...</td>\n",
       "      <td>[\"ROCK STAR\" by Kakihara Tetsuya &amp; Hatano Wataru]</td>\n",
       "      <td>[\"LAST SONG\" by Ishikawa Hideo &amp; Suzuki Chihiro]</td>\n",
       "    </tr>\n",
       "  </tbody>\n",
       "</table>\n",
       "<p>3 rows × 31 columns</p>\n",
       "</div>"
      ],
      "text/plain": [
       "     anime_id                                              title  \\\n",
       "114      1778              Dae Jang Geum: Jang Geum&#039;s Dream   \n",
       "162     23855  Dennou Sentai Voogie&#039;s★Angel Gaiden: Susu...   \n",
       "213      1640                               Angel&#039;s Feather   \n",
       "\n",
       "            title_english                           title_japanese  \\\n",
       "114                   NaN                                少女チャングムの夢   \n",
       "162                   NaN  電脳戦隊ヴギィ&#039;ズ★エンジェル外伝 進め! スーパー★エンジェルス!   \n",
       "213  Angel&#039;s Feather          エンジェルズフェザー Angel&#039;s Feather   \n",
       "\n",
       "                                        title_synonyms  \\\n",
       "114  Shoujo Changumu no Yume, Janggeum&#039;s Dream...   \n",
       "162     Voogie&#039;s Angel OVA, Susume! Super Angels!   \n",
       "213                                                NaN   \n",
       "\n",
       "                                             image_url type        source  \\\n",
       "114  https://myanimelist.cdn-dena.com/images/anime/...   TV         Other   \n",
       "162  https://myanimelist.cdn-dena.com/images/anime/...  OVA       Unknown   \n",
       "213  https://myanimelist.cdn-dena.com/images/anime/...  OVA  Visual novel   \n",
       "\n",
       "     episodes           status  ...  background  premiered broadcast  \\\n",
       "114        26  Finished Airing  ...         NaN  Fall 2005   Unknown   \n",
       "162         2  Finished Airing  ...         NaN        NaN       NaN   \n",
       "213         2  Finished Airing  ...         NaN        NaN       NaN   \n",
       "\n",
       "                                               related              producer  \\\n",
       "114  {'Sequel': [{'mal_id': 9200, 'type': 'anime', ...  Heewon Entertainment   \n",
       "162  {'Parent story': [{'mal_id': 2453, 'type': 'an...                   NaN   \n",
       "213                                                 []                   NaN   \n",
       "\n",
       "           licensor     studio  \\\n",
       "114             NaN        NaN   \n",
       "162             NaN  J.C.Staff   \n",
       "213  Media Blasters      Venet   \n",
       "\n",
       "                                                 genre  \\\n",
       "114                      Adventure, Comedy, Historical   \n",
       "162              Action, Comedy, Mecha, Parody, Sci-Fi   \n",
       "213  Sci-Fi, Supernatural, Drama, Romance, Fantasy,...   \n",
       "\n",
       "                                         opening_theme  \\\n",
       "114                       [\"Ima ga Daisuki\" by Younha]   \n",
       "162                                                 []   \n",
       "213  [\"ROCK STAR\" by Kakihara Tetsuya & Hatano Wataru]   \n",
       "\n",
       "                                          ending_theme  \n",
       "114  [\"Moonlight Girl (달빛 소녀)\" by Lee Seung Hwan (이...  \n",
       "162                                                 []  \n",
       "213   [\"LAST SONG\" by Ishikawa Hideo & Suzuki Chihiro]  \n",
       "\n",
       "[3 rows x 31 columns]"
      ]
     },
     "execution_count": 27,
     "metadata": {},
     "output_type": "execute_result"
    }
   ],
   "source": [
    "anime[anime[\"title\"].str.contains(\"&#039;\")].head(3)"
   ]
  },
  {
   "cell_type": "code",
   "execution_count": 28,
   "metadata": {},
   "outputs": [],
   "source": [
    "def replace_catastrophe(string):\n",
    "    if isinstance(string, str):\n",
    "        return string.replace(\"&#039;\", \"'\")\n",
    "    return string"
   ]
  },
  {
   "cell_type": "code",
   "execution_count": 29,
   "metadata": {},
   "outputs": [],
   "source": [
    "anime_fixed = anime.copy()"
   ]
  },
  {
   "cell_type": "code",
   "execution_count": 30,
   "metadata": {},
   "outputs": [],
   "source": [
    "for col in list(set(categorical_cols) - {\"related\", \"opening_theme\", \"ending_theme\"}):\n",
    "    anime_fixed[col] = anime_fixed[col].apply(replace_catastrophe)"
   ]
  },
  {
   "cell_type": "code",
   "execution_count": 31,
   "metadata": {},
   "outputs": [
    {
     "data": {
      "text/html": [
       "<div>\n",
       "<style scoped>\n",
       "    .dataframe tbody tr th:only-of-type {\n",
       "        vertical-align: middle;\n",
       "    }\n",
       "\n",
       "    .dataframe tbody tr th {\n",
       "        vertical-align: top;\n",
       "    }\n",
       "\n",
       "    .dataframe thead th {\n",
       "        text-align: right;\n",
       "    }\n",
       "</style>\n",
       "<table border=\"1\" class=\"dataframe\">\n",
       "  <thead>\n",
       "    <tr style=\"text-align: right;\">\n",
       "      <th></th>\n",
       "      <th>anime_id</th>\n",
       "      <th>title</th>\n",
       "      <th>title_english</th>\n",
       "      <th>title_japanese</th>\n",
       "      <th>title_synonyms</th>\n",
       "      <th>image_url</th>\n",
       "      <th>type</th>\n",
       "      <th>source</th>\n",
       "      <th>episodes</th>\n",
       "      <th>status</th>\n",
       "      <th>...</th>\n",
       "      <th>background</th>\n",
       "      <th>premiered</th>\n",
       "      <th>broadcast</th>\n",
       "      <th>related</th>\n",
       "      <th>producer</th>\n",
       "      <th>licensor</th>\n",
       "      <th>studio</th>\n",
       "      <th>genre</th>\n",
       "      <th>opening_theme</th>\n",
       "      <th>ending_theme</th>\n",
       "    </tr>\n",
       "  </thead>\n",
       "  <tbody>\n",
       "    <tr>\n",
       "      <th>114</th>\n",
       "      <td>1778</td>\n",
       "      <td>Dae Jang Geum: Jang Geum's Dream</td>\n",
       "      <td>NaN</td>\n",
       "      <td>少女チャングムの夢</td>\n",
       "      <td>Shoujo Changumu no Yume, Janggeum's Dream, Cha...</td>\n",
       "      <td>https://myanimelist.cdn-dena.com/images/anime/...</td>\n",
       "      <td>TV</td>\n",
       "      <td>Other</td>\n",
       "      <td>26</td>\n",
       "      <td>Finished Airing</td>\n",
       "      <td>...</td>\n",
       "      <td>NaN</td>\n",
       "      <td>Fall 2005</td>\n",
       "      <td>Unknown</td>\n",
       "      <td>{'Sequel': [{'mal_id': 9200, 'type': 'anime', ...</td>\n",
       "      <td>Heewon Entertainment</td>\n",
       "      <td>NaN</td>\n",
       "      <td>NaN</td>\n",
       "      <td>Adventure, Comedy, Historical</td>\n",
       "      <td>[\"Ima ga Daisuki\" by Younha]</td>\n",
       "      <td>[\"Moonlight Girl (달빛 소녀)\" by Lee Seung Hwan (이...</td>\n",
       "    </tr>\n",
       "  </tbody>\n",
       "</table>\n",
       "<p>1 rows × 31 columns</p>\n",
       "</div>"
      ],
      "text/plain": [
       "     anime_id                             title title_english title_japanese  \\\n",
       "114      1778  Dae Jang Geum: Jang Geum's Dream           NaN      少女チャングムの夢   \n",
       "\n",
       "                                        title_synonyms  \\\n",
       "114  Shoujo Changumu no Yume, Janggeum's Dream, Cha...   \n",
       "\n",
       "                                             image_url type source  episodes  \\\n",
       "114  https://myanimelist.cdn-dena.com/images/anime/...   TV  Other        26   \n",
       "\n",
       "              status  ...  background  premiered broadcast  \\\n",
       "114  Finished Airing  ...         NaN  Fall 2005   Unknown   \n",
       "\n",
       "                                               related              producer  \\\n",
       "114  {'Sequel': [{'mal_id': 9200, 'type': 'anime', ...  Heewon Entertainment   \n",
       "\n",
       "     licensor  studio                          genre  \\\n",
       "114       NaN     NaN  Adventure, Comedy, Historical   \n",
       "\n",
       "                    opening_theme  \\\n",
       "114  [\"Ima ga Daisuki\" by Younha]   \n",
       "\n",
       "                                          ending_theme  \n",
       "114  [\"Moonlight Girl (달빛 소녀)\" by Lee Seung Hwan (이...  \n",
       "\n",
       "[1 rows x 31 columns]"
      ]
     },
     "execution_count": 31,
     "metadata": {},
     "output_type": "execute_result"
    }
   ],
   "source": [
    "anime_fixed[anime_fixed.anime_id == 1778]"
   ]
  },
  {
   "cell_type": "markdown",
   "metadata": {},
   "source": [
    "### 3. Image Url (`image_url`)"
   ]
  },
  {
   "cell_type": "markdown",
   "metadata": {},
   "source": [
    "First of all, we get the first 5 image_url link and then try to access them."
   ]
  },
  {
   "cell_type": "code",
   "execution_count": 32,
   "metadata": {},
   "outputs": [
    {
     "data": {
      "text/plain": [
       "0    https://myanimelist.cdn-dena.com/images/anime/...\n",
       "1    https://myanimelist.cdn-dena.com/images/anime/...\n",
       "2    https://myanimelist.cdn-dena.com/images/anime/...\n",
       "3    https://myanimelist.cdn-dena.com/images/anime/...\n",
       "4    https://myanimelist.cdn-dena.com/images/anime/...\n",
       "Name: image_url, dtype: object"
      ]
     },
     "execution_count": 32,
     "metadata": {},
     "output_type": "execute_result"
    }
   ],
   "source": [
    "anime_fixed.image_url.head()"
   ]
  },
  {
   "cell_type": "markdown",
   "metadata": {},
   "source": [
    "The column's dtype is object and is `str` in python. Therefore, we will replace `NaN` (96 values) by `\"\"`. "
   ]
  },
  {
   "cell_type": "code",
   "execution_count": 33,
   "metadata": {},
   "outputs": [],
   "source": [
    "anime_filled = anime_fixed.copy()"
   ]
  },
  {
   "cell_type": "code",
   "execution_count": 34,
   "metadata": {},
   "outputs": [],
   "source": [
    "anime_filled[\"image_url\"].fillna(\"\", inplace=True)"
   ]
  },
  {
   "cell_type": "code",
   "execution_count": 35,
   "metadata": {},
   "outputs": [
    {
     "name": "stdout",
     "output_type": "stream",
     "text": [
      "https://myanimelist.cdn-dena.com/images/anime/12/35893.jpg\n",
      "https://myanimelist.cdn-dena.com/images/anime/13/58383.jpg\n",
      "https://myanimelist.cdn-dena.com/images/anime/11/10645.jpg\n",
      "https://myanimelist.cdn-dena.com/images/anime/13/32209.jpg\n",
      "https://myanimelist.cdn-dena.com/images/anime/6/41845.jpg\n"
     ]
    }
   ],
   "source": [
    "for i in range(5):\n",
    "    print(anime_filled.loc[i,'image_url'])"
   ]
  },
  {
   "cell_type": "markdown",
   "metadata": {},
   "source": [
    "We then welcome with an error indicated that there is no such domain.\n",
    "<img src=\"./images/image_url.png\">"
   ]
  },
  {
   "cell_type": "markdown",
   "metadata": {},
   "source": [
    "By visiting myanimelist and getting the image links, we find that the right domain name must be `cdn.myanimelist.net` instead of `myanimelist.cdn-dena.com`.\n",
    "\n",
    "And this is the first link after changing: `https://cdn.myanimelist.net/images/anime/12/35893.jpg`\n",
    "\n",
    "<img src=\"https://cdn.myanimelist.net/images/anime/12/35893.jpg\">"
   ]
  },
  {
   "cell_type": "markdown",
   "metadata": {},
   "source": [
    "Which is the true image for the first anime:"
   ]
  },
  {
   "cell_type": "code",
   "execution_count": 36,
   "metadata": {},
   "outputs": [
    {
     "data": {
      "text/html": [
       "<div>\n",
       "<style scoped>\n",
       "    .dataframe tbody tr th:only-of-type {\n",
       "        vertical-align: middle;\n",
       "    }\n",
       "\n",
       "    .dataframe tbody tr th {\n",
       "        vertical-align: top;\n",
       "    }\n",
       "\n",
       "    .dataframe thead th {\n",
       "        text-align: right;\n",
       "    }\n",
       "</style>\n",
       "<table border=\"1\" class=\"dataframe\">\n",
       "  <thead>\n",
       "    <tr style=\"text-align: right;\">\n",
       "      <th></th>\n",
       "      <th>anime_id</th>\n",
       "      <th>title</th>\n",
       "      <th>title_english</th>\n",
       "      <th>title_japanese</th>\n",
       "      <th>title_synonyms</th>\n",
       "      <th>image_url</th>\n",
       "      <th>type</th>\n",
       "      <th>source</th>\n",
       "      <th>episodes</th>\n",
       "      <th>status</th>\n",
       "      <th>...</th>\n",
       "      <th>background</th>\n",
       "      <th>premiered</th>\n",
       "      <th>broadcast</th>\n",
       "      <th>related</th>\n",
       "      <th>producer</th>\n",
       "      <th>licensor</th>\n",
       "      <th>studio</th>\n",
       "      <th>genre</th>\n",
       "      <th>opening_theme</th>\n",
       "      <th>ending_theme</th>\n",
       "    </tr>\n",
       "  </thead>\n",
       "  <tbody>\n",
       "    <tr>\n",
       "      <th>0</th>\n",
       "      <td>11013</td>\n",
       "      <td>Inu x Boku SS</td>\n",
       "      <td>Inu X Boku Secret Service</td>\n",
       "      <td>妖狐×僕SS</td>\n",
       "      <td>Youko x Boku SS</td>\n",
       "      <td>https://myanimelist.cdn-dena.com/images/anime/...</td>\n",
       "      <td>TV</td>\n",
       "      <td>Manga</td>\n",
       "      <td>12</td>\n",
       "      <td>Finished Airing</td>\n",
       "      <td>...</td>\n",
       "      <td>Inu x Boku SS was licensed by Sentai Filmworks...</td>\n",
       "      <td>Winter 2012</td>\n",
       "      <td>Fridays at Unknown</td>\n",
       "      <td>{'Adaptation': [{'mal_id': 17207, 'type': 'man...</td>\n",
       "      <td>Aniplex, Square Enix, Mainichi Broadcasting Sy...</td>\n",
       "      <td>Sentai Filmworks</td>\n",
       "      <td>David Production</td>\n",
       "      <td>Comedy, Supernatural, Romance, Shounen</td>\n",
       "      <td>[\"Nirvana\" by MUCC]</td>\n",
       "      <td>[#1: \"Nirvana\" by MUCC (eps 1, 11-12), #2: \"Ra...</td>\n",
       "    </tr>\n",
       "  </tbody>\n",
       "</table>\n",
       "<p>1 rows × 31 columns</p>\n",
       "</div>"
      ],
      "text/plain": [
       "   anime_id          title              title_english title_japanese  \\\n",
       "0     11013  Inu x Boku SS  Inu X Boku Secret Service         妖狐×僕SS   \n",
       "\n",
       "    title_synonyms                                          image_url type  \\\n",
       "0  Youko x Boku SS  https://myanimelist.cdn-dena.com/images/anime/...   TV   \n",
       "\n",
       "  source  episodes           status  ...  \\\n",
       "0  Manga        12  Finished Airing  ...   \n",
       "\n",
       "                                          background    premiered  \\\n",
       "0  Inu x Boku SS was licensed by Sentai Filmworks...  Winter 2012   \n",
       "\n",
       "            broadcast                                            related  \\\n",
       "0  Fridays at Unknown  {'Adaptation': [{'mal_id': 17207, 'type': 'man...   \n",
       "\n",
       "                                            producer          licensor  \\\n",
       "0  Aniplex, Square Enix, Mainichi Broadcasting Sy...  Sentai Filmworks   \n",
       "\n",
       "             studio                                   genre  \\\n",
       "0  David Production  Comedy, Supernatural, Romance, Shounen   \n",
       "\n",
       "         opening_theme                                       ending_theme  \n",
       "0  [\"Nirvana\" by MUCC]  [#1: \"Nirvana\" by MUCC (eps 1, 11-12), #2: \"Ra...  \n",
       "\n",
       "[1 rows x 31 columns]"
      ]
     },
     "execution_count": 36,
     "metadata": {},
     "output_type": "execute_result"
    }
   ],
   "source": [
    "anime_filled.head(1)"
   ]
  },
  {
   "cell_type": "markdown",
   "metadata": {},
   "source": [
    "We then write some code to change the domain for `image_url`."
   ]
  },
  {
   "cell_type": "code",
   "execution_count": 37,
   "metadata": {},
   "outputs": [],
   "source": [
    "def fix_image_url(image_url):\n",
    "    if isinstance(image_url, str):\n",
    "        return image_url.replace(\"myanimelist.cdn-dena.com\", \"cdn.myanimelist.net\")\n",
    "    return np.NaN"
   ]
  },
  {
   "cell_type": "code",
   "execution_count": 38,
   "metadata": {},
   "outputs": [],
   "source": [
    "anime_url_fixed = anime_filled.copy()\n",
    "anime_url_fixed[\"image_url\"] = anime_url_fixed[\"image_url\"].apply(fix_image_url)"
   ]
  },
  {
   "cell_type": "code",
   "execution_count": 39,
   "metadata": {},
   "outputs": [
    {
     "data": {
      "text/plain": [
       "0    https://cdn.myanimelist.net/images/anime/12/35...\n",
       "1    https://cdn.myanimelist.net/images/anime/13/58...\n",
       "2    https://cdn.myanimelist.net/images/anime/11/10...\n",
       "3    https://cdn.myanimelist.net/images/anime/13/32...\n",
       "4    https://cdn.myanimelist.net/images/anime/6/418...\n",
       "Name: image_url, dtype: object"
      ]
     },
     "execution_count": 39,
     "metadata": {},
     "output_type": "execute_result"
    }
   ],
   "source": [
    "anime_url_fixed.image_url.head()"
   ]
  },
  {
   "cell_type": "markdown",
   "metadata": {},
   "source": [
    "It seems fine now and we can access the images."
   ]
  },
  {
   "cell_type": "code",
   "execution_count": 40,
   "metadata": {},
   "outputs": [
    {
     "data": {
      "text/html": [
       "<img src=\"https://cdn.myanimelist.net/images/anime/12/35893.jpg\"/>"
      ],
      "text/plain": [
       "<IPython.core.display.Image object>"
      ]
     },
     "execution_count": 40,
     "metadata": {},
     "output_type": "execute_result"
    }
   ],
   "source": [
    "# import image module\n",
    "from IPython.display import Image\n",
    "# get url\n",
    "url = anime_url_fixed.image_url[0]\n",
    "# get the image\n",
    "Image(url=url)"
   ]
  },
  {
   "cell_type": "markdown",
   "metadata": {},
   "source": [
    "### 4. Type, Source (`type`, `source`)"
   ]
  },
  {
   "cell_type": "code",
   "execution_count": 41,
   "metadata": {},
   "outputs": [
    {
     "data": {
      "text/plain": [
       "Unknown          4210\n",
       "Original         3368\n",
       "Manga            3120\n",
       "Visual novel      888\n",
       "Game              607\n",
       "Light novel       563\n",
       "Other             408\n",
       "Novel             359\n",
       "Music             314\n",
       "4-koma manga      224\n",
       "Web manga         150\n",
       "Picture book       96\n",
       "Book               93\n",
       "Card game          59\n",
       "Digital manga      10\n",
       "Radio               9\n",
       "Name: source, dtype: int64"
      ]
     },
     "execution_count": 41,
     "metadata": {},
     "output_type": "execute_result"
    }
   ],
   "source": [
    "# We have already known that these columns are non-null\n",
    "# Get the possible values\n",
    "\n",
    "anime_url_fixed.source.value_counts()"
   ]
  },
  {
   "cell_type": "code",
   "execution_count": 42,
   "metadata": {},
   "outputs": [
    {
     "data": {
      "text/plain": [
       "TV         4271\n",
       "OVA        3612\n",
       "Movie      2624\n",
       "Special    1948\n",
       "ONA        1144\n",
       "Music       849\n",
       "Unknown      30\n",
       "Name: type, dtype: int64"
      ]
     },
     "execution_count": 42,
     "metadata": {},
     "output_type": "execute_result"
    }
   ],
   "source": [
    "anime_url_fixed.type.value_counts()"
   ]
  },
  {
   "cell_type": "markdown",
   "metadata": {},
   "source": [
    "We realize that the null values are categorized as `Unknown` here. Let's change that to `NaN` and pick some of them."
   ]
  },
  {
   "cell_type": "code",
   "execution_count": 43,
   "metadata": {},
   "outputs": [],
   "source": [
    "anime_replaced = anime_url_fixed.copy()"
   ]
  },
  {
   "cell_type": "code",
   "execution_count": 44,
   "metadata": {},
   "outputs": [],
   "source": [
    "anime_replaced[[\"type\", \"source\"]] = anime_url_fixed[[\"type\", \"source\"]].replace({\"Unknown\":np.NaN})"
   ]
  },
  {
   "cell_type": "code",
   "execution_count": 45,
   "metadata": {},
   "outputs": [
    {
     "data": {
      "text/html": [
       "<div>\n",
       "<style scoped>\n",
       "    .dataframe tbody tr th:only-of-type {\n",
       "        vertical-align: middle;\n",
       "    }\n",
       "\n",
       "    .dataframe tbody tr th {\n",
       "        vertical-align: top;\n",
       "    }\n",
       "\n",
       "    .dataframe thead th {\n",
       "        text-align: right;\n",
       "    }\n",
       "</style>\n",
       "<table border=\"1\" class=\"dataframe\">\n",
       "  <thead>\n",
       "    <tr style=\"text-align: right;\">\n",
       "      <th></th>\n",
       "      <th>anime_id</th>\n",
       "      <th>title</th>\n",
       "      <th>title_english</th>\n",
       "      <th>title_japanese</th>\n",
       "      <th>title_synonyms</th>\n",
       "      <th>image_url</th>\n",
       "      <th>type</th>\n",
       "      <th>source</th>\n",
       "      <th>episodes</th>\n",
       "      <th>status</th>\n",
       "      <th>...</th>\n",
       "      <th>background</th>\n",
       "      <th>premiered</th>\n",
       "      <th>broadcast</th>\n",
       "      <th>related</th>\n",
       "      <th>producer</th>\n",
       "      <th>licensor</th>\n",
       "      <th>studio</th>\n",
       "      <th>genre</th>\n",
       "      <th>opening_theme</th>\n",
       "      <th>ending_theme</th>\n",
       "    </tr>\n",
       "  </thead>\n",
       "  <tbody>\n",
       "    <tr>\n",
       "      <th>4681</th>\n",
       "      <td>24023</td>\n",
       "      <td>Project758</td>\n",
       "      <td>NaN</td>\n",
       "      <td>PROJECT758</td>\n",
       "      <td>NaN</td>\n",
       "      <td>https://cdn.myanimelist.net/images/anime/7/622...</td>\n",
       "      <td>NaN</td>\n",
       "      <td>NaN</td>\n",
       "      <td>0</td>\n",
       "      <td>Not yet aired</td>\n",
       "      <td>...</td>\n",
       "      <td>NaN</td>\n",
       "      <td>NaN</td>\n",
       "      <td>NaN</td>\n",
       "      <td>[]</td>\n",
       "      <td>NaN</td>\n",
       "      <td>NaN</td>\n",
       "      <td>NaN</td>\n",
       "      <td>Drama</td>\n",
       "      <td>[]</td>\n",
       "      <td>[]</td>\n",
       "    </tr>\n",
       "    <tr>\n",
       "      <th>5029</th>\n",
       "      <td>32455</td>\n",
       "      <td>Gekidol</td>\n",
       "      <td>NaN</td>\n",
       "      <td>ゲキドル</td>\n",
       "      <td>NaN</td>\n",
       "      <td>https://cdn.myanimelist.net/images/anime/6/778...</td>\n",
       "      <td>NaN</td>\n",
       "      <td>NaN</td>\n",
       "      <td>0</td>\n",
       "      <td>Not yet aired</td>\n",
       "      <td>...</td>\n",
       "      <td>NaN</td>\n",
       "      <td>NaN</td>\n",
       "      <td>NaN</td>\n",
       "      <td>[]</td>\n",
       "      <td>NaN</td>\n",
       "      <td>NaN</td>\n",
       "      <td>NaN</td>\n",
       "      <td>Music</td>\n",
       "      <td>[]</td>\n",
       "      <td>[]</td>\n",
       "    </tr>\n",
       "    <tr>\n",
       "      <th>14296</th>\n",
       "      <td>37117</td>\n",
       "      <td>Bakutsuri Bar Hunter</td>\n",
       "      <td>NaN</td>\n",
       "      <td>爆釣バーハンター</td>\n",
       "      <td>NaN</td>\n",
       "      <td>https://cdn.myanimelist.net/images/anime/8/900...</td>\n",
       "      <td>NaN</td>\n",
       "      <td>NaN</td>\n",
       "      <td>0</td>\n",
       "      <td>Not yet aired</td>\n",
       "      <td>...</td>\n",
       "      <td>NaN</td>\n",
       "      <td>NaN</td>\n",
       "      <td>NaN</td>\n",
       "      <td>[]</td>\n",
       "      <td>NaN</td>\n",
       "      <td>NaN</td>\n",
       "      <td>Toei Animation</td>\n",
       "      <td>Adventure, Kids</td>\n",
       "      <td>[]</td>\n",
       "      <td>[]</td>\n",
       "    </tr>\n",
       "  </tbody>\n",
       "</table>\n",
       "<p>3 rows × 31 columns</p>\n",
       "</div>"
      ],
      "text/plain": [
       "       anime_id                 title title_english title_japanese  \\\n",
       "4681      24023            Project758           NaN     PROJECT758   \n",
       "5029      32455               Gekidol           NaN           ゲキドル   \n",
       "14296     37117  Bakutsuri Bar Hunter           NaN       爆釣バーハンター   \n",
       "\n",
       "      title_synonyms                                          image_url type  \\\n",
       "4681             NaN  https://cdn.myanimelist.net/images/anime/7/622...  NaN   \n",
       "5029             NaN  https://cdn.myanimelist.net/images/anime/6/778...  NaN   \n",
       "14296            NaN  https://cdn.myanimelist.net/images/anime/8/900...  NaN   \n",
       "\n",
       "      source  episodes         status  ...  background premiered broadcast  \\\n",
       "4681     NaN         0  Not yet aired  ...         NaN       NaN       NaN   \n",
       "5029     NaN         0  Not yet aired  ...         NaN       NaN       NaN   \n",
       "14296    NaN         0  Not yet aired  ...         NaN       NaN       NaN   \n",
       "\n",
       "      related producer  licensor          studio            genre  \\\n",
       "4681       []      NaN       NaN             NaN            Drama   \n",
       "5029       []      NaN       NaN             NaN            Music   \n",
       "14296      []      NaN       NaN  Toei Animation  Adventure, Kids   \n",
       "\n",
       "       opening_theme  ending_theme  \n",
       "4681              []            []  \n",
       "5029              []            []  \n",
       "14296             []            []  \n",
       "\n",
       "[3 rows x 31 columns]"
      ]
     },
     "execution_count": 45,
     "metadata": {},
     "output_type": "execute_result"
    }
   ],
   "source": [
    "anime_replaced[(anime_replaced.source.isnull()) & (anime_replaced.type.isnull())].head()"
   ]
  },
  {
   "cell_type": "markdown",
   "metadata": {},
   "source": [
    "There are 3 animes with both `Unknown` type and source. These animes weren't aired yet when the dataset was created. Notably, almost all the columns are null. "
   ]
  },
  {
   "cell_type": "code",
   "execution_count": 46,
   "metadata": {},
   "outputs": [
    {
     "data": {
      "text/html": [
       "<div>\n",
       "<style scoped>\n",
       "    .dataframe tbody tr th:only-of-type {\n",
       "        vertical-align: middle;\n",
       "    }\n",
       "\n",
       "    .dataframe tbody tr th {\n",
       "        vertical-align: top;\n",
       "    }\n",
       "\n",
       "    .dataframe thead th {\n",
       "        text-align: right;\n",
       "    }\n",
       "</style>\n",
       "<table border=\"1\" class=\"dataframe\">\n",
       "  <thead>\n",
       "    <tr style=\"text-align: right;\">\n",
       "      <th></th>\n",
       "      <th>anime_id</th>\n",
       "      <th>title</th>\n",
       "      <th>title_english</th>\n",
       "      <th>title_japanese</th>\n",
       "      <th>title_synonyms</th>\n",
       "      <th>image_url</th>\n",
       "      <th>type</th>\n",
       "      <th>source</th>\n",
       "      <th>episodes</th>\n",
       "      <th>status</th>\n",
       "      <th>...</th>\n",
       "      <th>background</th>\n",
       "      <th>premiered</th>\n",
       "      <th>broadcast</th>\n",
       "      <th>related</th>\n",
       "      <th>producer</th>\n",
       "      <th>licensor</th>\n",
       "      <th>studio</th>\n",
       "      <th>genre</th>\n",
       "      <th>opening_theme</th>\n",
       "      <th>ending_theme</th>\n",
       "    </tr>\n",
       "  </thead>\n",
       "  <tbody>\n",
       "    <tr>\n",
       "      <th>54</th>\n",
       "      <td>11547</td>\n",
       "      <td>Sengoku☆Paradise Kiwami</td>\n",
       "      <td>NaN</td>\n",
       "      <td>戦国☆パラダイス-極-（きわみ）</td>\n",
       "      <td>NaN</td>\n",
       "      <td>https://cdn.myanimelist.net/images/anime/11/39...</td>\n",
       "      <td>TV</td>\n",
       "      <td>NaN</td>\n",
       "      <td>26</td>\n",
       "      <td>Finished Airing</td>\n",
       "      <td>...</td>\n",
       "      <td>NaN</td>\n",
       "      <td>Fall 2011</td>\n",
       "      <td>Unknown</td>\n",
       "      <td>[]</td>\n",
       "      <td>TV Tokyo, G-mode</td>\n",
       "      <td>NaN</td>\n",
       "      <td>Milky Cartoon, LMD</td>\n",
       "      <td>Action, Comedy, Drama, Historical, Romance, Sa...</td>\n",
       "      <td>[#01: \"Return Ranse Dokugan Ryuu (リターン乱世独眼竜)\" ...</td>\n",
       "      <td>[\"Return Ranse Dokugan Ryuu (リターン乱世独眼竜)\" by Te...</td>\n",
       "    </tr>\n",
       "    <tr>\n",
       "      <th>58</th>\n",
       "      <td>7605</td>\n",
       "      <td>Parasol Henbei</td>\n",
       "      <td>NaN</td>\n",
       "      <td>パラソルヘンべえ</td>\n",
       "      <td>Henbe, Parasol Henbee</td>\n",
       "      <td>https://cdn.myanimelist.net/images/anime/6/447...</td>\n",
       "      <td>TV</td>\n",
       "      <td>NaN</td>\n",
       "      <td>200</td>\n",
       "      <td>Finished Airing</td>\n",
       "      <td>...</td>\n",
       "      <td>NaN</td>\n",
       "      <td>Fall 1989</td>\n",
       "      <td>Unknown</td>\n",
       "      <td>[]</td>\n",
       "      <td>NaN</td>\n",
       "      <td>NaN</td>\n",
       "      <td>NaN</td>\n",
       "      <td>Adventure, Comedy, Fantasy, Kids, Magic</td>\n",
       "      <td>[]</td>\n",
       "      <td>[]</td>\n",
       "    </tr>\n",
       "    <tr>\n",
       "      <th>59</th>\n",
       "      <td>9389</td>\n",
       "      <td>Ginga Hyouryuu Vifam: Kieta 12-nin</td>\n",
       "      <td>NaN</td>\n",
       "      <td>銀河漂流バイファム 消えた12人</td>\n",
       "      <td>Galactic Drifter Vifam: 12 Fade Away, Round Ve...</td>\n",
       "      <td>https://cdn.myanimelist.net/images/anime/11/59...</td>\n",
       "      <td>OVA</td>\n",
       "      <td>NaN</td>\n",
       "      <td>1</td>\n",
       "      <td>Finished Airing</td>\n",
       "      <td>...</td>\n",
       "      <td>NaN</td>\n",
       "      <td>NaN</td>\n",
       "      <td>NaN</td>\n",
       "      <td>{'Parent story': [{'mal_id': 2987, 'type': 'an...</td>\n",
       "      <td>NaN</td>\n",
       "      <td>NaN</td>\n",
       "      <td>Sunrise</td>\n",
       "      <td>Sci-Fi, Adventure, Space, Mecha</td>\n",
       "      <td>[]</td>\n",
       "      <td>[]</td>\n",
       "    </tr>\n",
       "  </tbody>\n",
       "</table>\n",
       "<p>3 rows × 31 columns</p>\n",
       "</div>"
      ],
      "text/plain": [
       "    anime_id                               title title_english  \\\n",
       "54     11547             Sengoku☆Paradise Kiwami           NaN   \n",
       "58      7605                      Parasol Henbei           NaN   \n",
       "59      9389  Ginga Hyouryuu Vifam: Kieta 12-nin           NaN   \n",
       "\n",
       "      title_japanese                                     title_synonyms  \\\n",
       "54  戦国☆パラダイス-極-（きわみ）                                                NaN   \n",
       "58          パラソルヘンべえ                              Henbe, Parasol Henbee   \n",
       "59  銀河漂流バイファム 消えた12人  Galactic Drifter Vifam: 12 Fade Away, Round Ve...   \n",
       "\n",
       "                                            image_url type source  episodes  \\\n",
       "54  https://cdn.myanimelist.net/images/anime/11/39...   TV    NaN        26   \n",
       "58  https://cdn.myanimelist.net/images/anime/6/447...   TV    NaN       200   \n",
       "59  https://cdn.myanimelist.net/images/anime/11/59...  OVA    NaN         1   \n",
       "\n",
       "             status  ...  background  premiered broadcast  \\\n",
       "54  Finished Airing  ...         NaN  Fall 2011   Unknown   \n",
       "58  Finished Airing  ...         NaN  Fall 1989   Unknown   \n",
       "59  Finished Airing  ...         NaN        NaN       NaN   \n",
       "\n",
       "                                              related          producer  \\\n",
       "54                                                 []  TV Tokyo, G-mode   \n",
       "58                                                 []               NaN   \n",
       "59  {'Parent story': [{'mal_id': 2987, 'type': 'an...               NaN   \n",
       "\n",
       "    licensor              studio  \\\n",
       "54       NaN  Milky Cartoon, LMD   \n",
       "58       NaN                 NaN   \n",
       "59       NaN             Sunrise   \n",
       "\n",
       "                                                genre  \\\n",
       "54  Action, Comedy, Drama, Historical, Romance, Sa...   \n",
       "58            Adventure, Comedy, Fantasy, Kids, Magic   \n",
       "59                    Sci-Fi, Adventure, Space, Mecha   \n",
       "\n",
       "                                        opening_theme  \\\n",
       "54  [#01: \"Return Ranse Dokugan Ryuu (リターン乱世独眼竜)\" ...   \n",
       "58                                                 []   \n",
       "59                                                 []   \n",
       "\n",
       "                                         ending_theme  \n",
       "54  [\"Return Ranse Dokugan Ryuu (リターン乱世独眼竜)\" by Te...  \n",
       "58                                                 []  \n",
       "59                                                 []  \n",
       "\n",
       "[3 rows x 31 columns]"
      ]
     },
     "execution_count": 46,
     "metadata": {},
     "output_type": "execute_result"
    }
   ],
   "source": [
    "anime_replaced[anime_replaced.source.isnull()].head(3)"
   ]
  },
  {
   "cell_type": "code",
   "execution_count": 47,
   "metadata": {},
   "outputs": [
    {
     "data": {
      "text/html": [
       "<div>\n",
       "<style scoped>\n",
       "    .dataframe tbody tr th:only-of-type {\n",
       "        vertical-align: middle;\n",
       "    }\n",
       "\n",
       "    .dataframe tbody tr th {\n",
       "        vertical-align: top;\n",
       "    }\n",
       "\n",
       "    .dataframe thead th {\n",
       "        text-align: right;\n",
       "    }\n",
       "</style>\n",
       "<table border=\"1\" class=\"dataframe\">\n",
       "  <thead>\n",
       "    <tr style=\"text-align: right;\">\n",
       "      <th></th>\n",
       "      <th>anime_id</th>\n",
       "      <th>title</th>\n",
       "      <th>title_english</th>\n",
       "      <th>title_japanese</th>\n",
       "      <th>title_synonyms</th>\n",
       "      <th>image_url</th>\n",
       "      <th>type</th>\n",
       "      <th>source</th>\n",
       "      <th>episodes</th>\n",
       "      <th>status</th>\n",
       "      <th>...</th>\n",
       "      <th>background</th>\n",
       "      <th>premiered</th>\n",
       "      <th>broadcast</th>\n",
       "      <th>related</th>\n",
       "      <th>producer</th>\n",
       "      <th>licensor</th>\n",
       "      <th>studio</th>\n",
       "      <th>genre</th>\n",
       "      <th>opening_theme</th>\n",
       "      <th>ending_theme</th>\n",
       "    </tr>\n",
       "  </thead>\n",
       "  <tbody>\n",
       "    <tr>\n",
       "      <th>187</th>\n",
       "      <td>35759</td>\n",
       "      <td>Sidonia no Kishi 3</td>\n",
       "      <td>Knights of Sidonia</td>\n",
       "      <td>シドニアの騎士 3</td>\n",
       "      <td>NaN</td>\n",
       "      <td>https://cdn.myanimelist.net/images/anime/6/863...</td>\n",
       "      <td>NaN</td>\n",
       "      <td>Manga</td>\n",
       "      <td>0</td>\n",
       "      <td>Not yet aired</td>\n",
       "      <td>...</td>\n",
       "      <td>NaN</td>\n",
       "      <td>NaN</td>\n",
       "      <td>NaN</td>\n",
       "      <td>{'Adaptation': [{'mal_id': 13723, 'type': 'man...</td>\n",
       "      <td>NaN</td>\n",
       "      <td>NaN</td>\n",
       "      <td>NaN</td>\n",
       "      <td>Action, Sci-Fi, Space, Mecha, Seinen</td>\n",
       "      <td>[]</td>\n",
       "      <td>[]</td>\n",
       "    </tr>\n",
       "    <tr>\n",
       "      <th>511</th>\n",
       "      <td>37651</td>\n",
       "      <td>Fate/Extra: Last Encore - Irusterias Tendouron</td>\n",
       "      <td>NaN</td>\n",
       "      <td>Fate/EXTRA Last Encore イルステリアス天動説</td>\n",
       "      <td>Fate/Extra: Last Encore - Irusterias Ptolemaic...</td>\n",
       "      <td>https://cdn.myanimelist.net/images/anime/1951/...</td>\n",
       "      <td>NaN</td>\n",
       "      <td>Game</td>\n",
       "      <td>0</td>\n",
       "      <td>Not yet aired</td>\n",
       "      <td>...</td>\n",
       "      <td>NaN</td>\n",
       "      <td>NaN</td>\n",
       "      <td>NaN</td>\n",
       "      <td>{'Adaptation': [{'mal_id': 32425, 'type': 'man...</td>\n",
       "      <td>NaN</td>\n",
       "      <td>NaN</td>\n",
       "      <td>NaN</td>\n",
       "      <td>Action, Magic, Fantasy</td>\n",
       "      <td>[]</td>\n",
       "      <td>[]</td>\n",
       "    </tr>\n",
       "    <tr>\n",
       "      <th>1396</th>\n",
       "      <td>35252</td>\n",
       "      <td>Hatena☆Illusion</td>\n",
       "      <td>NaN</td>\n",
       "      <td>はてな☆イリュージョン</td>\n",
       "      <td>NaN</td>\n",
       "      <td>https://cdn.myanimelist.net/images/anime/3/849...</td>\n",
       "      <td>NaN</td>\n",
       "      <td>Light novel</td>\n",
       "      <td>0</td>\n",
       "      <td>Not yet aired</td>\n",
       "      <td>...</td>\n",
       "      <td>NaN</td>\n",
       "      <td>NaN</td>\n",
       "      <td>NaN</td>\n",
       "      <td>{'Adaptation': [{'mal_id': 80851, 'type': 'man...</td>\n",
       "      <td>NaN</td>\n",
       "      <td>NaN</td>\n",
       "      <td>NaN</td>\n",
       "      <td>Comedy, Supernatural, Romance, Ecchi</td>\n",
       "      <td>[]</td>\n",
       "      <td>[]</td>\n",
       "    </tr>\n",
       "  </tbody>\n",
       "</table>\n",
       "<p>3 rows × 31 columns</p>\n",
       "</div>"
      ],
      "text/plain": [
       "      anime_id                                           title  \\\n",
       "187      35759                              Sidonia no Kishi 3   \n",
       "511      37651  Fate/Extra: Last Encore - Irusterias Tendouron   \n",
       "1396     35252                                 Hatena☆Illusion   \n",
       "\n",
       "           title_english                     title_japanese  \\\n",
       "187   Knights of Sidonia                          シドニアの騎士 3   \n",
       "511                  NaN  Fate/EXTRA Last Encore イルステリアス天動説   \n",
       "1396                 NaN                        はてな☆イリュージョン   \n",
       "\n",
       "                                         title_synonyms  \\\n",
       "187                                                 NaN   \n",
       "511   Fate/Extra: Last Encore - Irusterias Ptolemaic...   \n",
       "1396                                                NaN   \n",
       "\n",
       "                                              image_url type       source  \\\n",
       "187   https://cdn.myanimelist.net/images/anime/6/863...  NaN        Manga   \n",
       "511   https://cdn.myanimelist.net/images/anime/1951/...  NaN         Game   \n",
       "1396  https://cdn.myanimelist.net/images/anime/3/849...  NaN  Light novel   \n",
       "\n",
       "      episodes         status  ...  background premiered broadcast  \\\n",
       "187          0  Not yet aired  ...         NaN       NaN       NaN   \n",
       "511          0  Not yet aired  ...         NaN       NaN       NaN   \n",
       "1396         0  Not yet aired  ...         NaN       NaN       NaN   \n",
       "\n",
       "                                                related producer  licensor  \\\n",
       "187   {'Adaptation': [{'mal_id': 13723, 'type': 'man...      NaN       NaN   \n",
       "511   {'Adaptation': [{'mal_id': 32425, 'type': 'man...      NaN       NaN   \n",
       "1396  {'Adaptation': [{'mal_id': 80851, 'type': 'man...      NaN       NaN   \n",
       "\n",
       "      studio                                 genre  opening_theme  \\\n",
       "187      NaN  Action, Sci-Fi, Space, Mecha, Seinen             []   \n",
       "511      NaN                Action, Magic, Fantasy             []   \n",
       "1396     NaN  Comedy, Supernatural, Romance, Ecchi             []   \n",
       "\n",
       "      ending_theme  \n",
       "187             []  \n",
       "511             []  \n",
       "1396            []  \n",
       "\n",
       "[3 rows x 31 columns]"
      ]
     },
     "execution_count": 47,
     "metadata": {},
     "output_type": "execute_result"
    }
   ],
   "source": [
    "anime_replaced[anime_replaced.type.isnull()].head(3)"
   ]
  },
  {
   "cell_type": "markdown",
   "metadata": {},
   "source": [
    "We will choose an anime to check for information on MyAnimeList, in this case `Parasol Henbei`. Even on MyAnimeList, these information is still unknown. It seems that the anime was unpopular; thus, information is missing.\n",
    "\n",
    "<img src=\"./images/type_source.png\">"
   ]
  },
  {
   "cell_type": "markdown",
   "metadata": {},
   "source": [
    "### 5. Episodes and Duration"
   ]
  },
  {
   "cell_type": "code",
   "execution_count": 48,
   "metadata": {},
   "outputs": [
    {
     "data": {
      "text/plain": [
       "0"
      ]
     },
     "execution_count": 48,
     "metadata": {},
     "output_type": "execute_result"
    }
   ],
   "source": [
    "anime_replaced.episodes.isnull().sum()"
   ]
  },
  {
   "cell_type": "markdown",
   "metadata": {},
   "source": [
    "As expected, null values are replaced by 0."
   ]
  },
  {
   "cell_type": "code",
   "execution_count": 49,
   "metadata": {},
   "outputs": [
    {
     "data": {
      "text/plain": [
       "count    14478.000000\n",
       "mean        11.308399\n",
       "std         43.443451\n",
       "min          0.000000\n",
       "25%          1.000000\n",
       "50%          1.000000\n",
       "75%         12.000000\n",
       "max       1818.000000\n",
       "Name: episodes, dtype: float64"
      ]
     },
     "execution_count": 49,
     "metadata": {},
     "output_type": "execute_result"
    }
   ],
   "source": [
    "anime_replaced.episodes.describe()"
   ]
  },
  {
   "cell_type": "markdown",
   "metadata": {},
   "source": [
    "The statistics seem normal. There are some animes with 0 episode, which means they have not been aired yet. "
   ]
  },
  {
   "cell_type": "code",
   "execution_count": 50,
   "metadata": {},
   "outputs": [
    {
     "data": {
      "text/html": [
       "<div>\n",
       "<style scoped>\n",
       "    .dataframe tbody tr th:only-of-type {\n",
       "        vertical-align: middle;\n",
       "    }\n",
       "\n",
       "    .dataframe tbody tr th {\n",
       "        vertical-align: top;\n",
       "    }\n",
       "\n",
       "    .dataframe thead th {\n",
       "        text-align: right;\n",
       "    }\n",
       "</style>\n",
       "<table border=\"1\" class=\"dataframe\">\n",
       "  <thead>\n",
       "    <tr style=\"text-align: right;\">\n",
       "      <th></th>\n",
       "      <th>anime_id</th>\n",
       "      <th>title</th>\n",
       "      <th>title_english</th>\n",
       "      <th>title_japanese</th>\n",
       "      <th>title_synonyms</th>\n",
       "      <th>image_url</th>\n",
       "      <th>type</th>\n",
       "      <th>source</th>\n",
       "      <th>episodes</th>\n",
       "      <th>status</th>\n",
       "      <th>...</th>\n",
       "      <th>background</th>\n",
       "      <th>premiered</th>\n",
       "      <th>broadcast</th>\n",
       "      <th>related</th>\n",
       "      <th>producer</th>\n",
       "      <th>licensor</th>\n",
       "      <th>studio</th>\n",
       "      <th>genre</th>\n",
       "      <th>opening_theme</th>\n",
       "      <th>ending_theme</th>\n",
       "    </tr>\n",
       "  </thead>\n",
       "  <tbody>\n",
       "    <tr>\n",
       "      <th>11627</th>\n",
       "      <td>12393</td>\n",
       "      <td>Oyako Club</td>\n",
       "      <td>NaN</td>\n",
       "      <td>親子クラブ</td>\n",
       "      <td>NaN</td>\n",
       "      <td>https://cdn.myanimelist.net/images/anime/8/348...</td>\n",
       "      <td>TV</td>\n",
       "      <td>Original</td>\n",
       "      <td>1818</td>\n",
       "      <td>Finished Airing</td>\n",
       "      <td>...</td>\n",
       "      <td>NaN</td>\n",
       "      <td>Fall 1994</td>\n",
       "      <td>Unknown</td>\n",
       "      <td>[]</td>\n",
       "      <td>Fuji TV</td>\n",
       "      <td>NaN</td>\n",
       "      <td>Eiken</td>\n",
       "      <td>Slice of Life, Comedy</td>\n",
       "      <td>[]</td>\n",
       "      <td>[]</td>\n",
       "    </tr>\n",
       "  </tbody>\n",
       "</table>\n",
       "<p>1 rows × 31 columns</p>\n",
       "</div>"
      ],
      "text/plain": [
       "       anime_id       title title_english title_japanese title_synonyms  \\\n",
       "11627     12393  Oyako Club           NaN          親子クラブ            NaN   \n",
       "\n",
       "                                               image_url type    source  \\\n",
       "11627  https://cdn.myanimelist.net/images/anime/8/348...   TV  Original   \n",
       "\n",
       "       episodes           status  ...  background  premiered broadcast  \\\n",
       "11627      1818  Finished Airing  ...         NaN  Fall 1994   Unknown   \n",
       "\n",
       "      related producer  licensor  studio                  genre  \\\n",
       "11627      []  Fuji TV       NaN   Eiken  Slice of Life, Comedy   \n",
       "\n",
       "       opening_theme  ending_theme  \n",
       "11627             []            []  \n",
       "\n",
       "[1 rows x 31 columns]"
      ]
     },
     "execution_count": 50,
     "metadata": {},
     "output_type": "execute_result"
    }
   ],
   "source": [
    "# Quite curious about the 1818 episodes anime.\n",
    "\n",
    "anime_replaced[anime_replaced[\"episodes\"] == anime_replaced[\"episodes\"].max()]"
   ]
  },
  {
   "cell_type": "markdown",
   "metadata": {},
   "source": [
    "Notice that, `related`, `opening_theme`, and `ending_theme` are empty lists. It should be `NaN`. Therefore, we are replacing them with `NaN`."
   ]
  },
  {
   "cell_type": "code",
   "execution_count": 51,
   "metadata": {},
   "outputs": [],
   "source": [
    "def replace_list(empty_lst):\n",
    "    if empty_lst == []:\n",
    "        return np.NaN\n",
    "\n",
    "    return empty_lst "
   ]
  },
  {
   "cell_type": "code",
   "execution_count": 52,
   "metadata": {},
   "outputs": [],
   "source": [
    "for col in [\"related\", \"opening_theme\", \"ending_theme\"]:\n",
    "    anime_replaced[col] = anime_replaced[col].apply(replace_list)"
   ]
  },
  {
   "cell_type": "code",
   "execution_count": 53,
   "metadata": {},
   "outputs": [
    {
     "data": {
      "text/html": [
       "<div>\n",
       "<style scoped>\n",
       "    .dataframe tbody tr th:only-of-type {\n",
       "        vertical-align: middle;\n",
       "    }\n",
       "\n",
       "    .dataframe tbody tr th {\n",
       "        vertical-align: top;\n",
       "    }\n",
       "\n",
       "    .dataframe thead th {\n",
       "        text-align: right;\n",
       "    }\n",
       "</style>\n",
       "<table border=\"1\" class=\"dataframe\">\n",
       "  <thead>\n",
       "    <tr style=\"text-align: right;\">\n",
       "      <th></th>\n",
       "      <th>anime_id</th>\n",
       "      <th>title</th>\n",
       "      <th>title_english</th>\n",
       "      <th>title_japanese</th>\n",
       "      <th>title_synonyms</th>\n",
       "      <th>image_url</th>\n",
       "      <th>type</th>\n",
       "      <th>source</th>\n",
       "      <th>episodes</th>\n",
       "      <th>status</th>\n",
       "      <th>...</th>\n",
       "      <th>background</th>\n",
       "      <th>premiered</th>\n",
       "      <th>broadcast</th>\n",
       "      <th>related</th>\n",
       "      <th>producer</th>\n",
       "      <th>licensor</th>\n",
       "      <th>studio</th>\n",
       "      <th>genre</th>\n",
       "      <th>opening_theme</th>\n",
       "      <th>ending_theme</th>\n",
       "    </tr>\n",
       "  </thead>\n",
       "  <tbody>\n",
       "    <tr>\n",
       "      <th>11627</th>\n",
       "      <td>12393</td>\n",
       "      <td>Oyako Club</td>\n",
       "      <td>NaN</td>\n",
       "      <td>親子クラブ</td>\n",
       "      <td>NaN</td>\n",
       "      <td>https://cdn.myanimelist.net/images/anime/8/348...</td>\n",
       "      <td>TV</td>\n",
       "      <td>Original</td>\n",
       "      <td>1818</td>\n",
       "      <td>Finished Airing</td>\n",
       "      <td>...</td>\n",
       "      <td>NaN</td>\n",
       "      <td>Fall 1994</td>\n",
       "      <td>Unknown</td>\n",
       "      <td>NaN</td>\n",
       "      <td>Fuji TV</td>\n",
       "      <td>NaN</td>\n",
       "      <td>Eiken</td>\n",
       "      <td>Slice of Life, Comedy</td>\n",
       "      <td>NaN</td>\n",
       "      <td>NaN</td>\n",
       "    </tr>\n",
       "  </tbody>\n",
       "</table>\n",
       "<p>1 rows × 31 columns</p>\n",
       "</div>"
      ],
      "text/plain": [
       "       anime_id       title title_english title_japanese title_synonyms  \\\n",
       "11627     12393  Oyako Club           NaN          親子クラブ            NaN   \n",
       "\n",
       "                                               image_url type    source  \\\n",
       "11627  https://cdn.myanimelist.net/images/anime/8/348...   TV  Original   \n",
       "\n",
       "       episodes           status  ...  background  premiered broadcast  \\\n",
       "11627      1818  Finished Airing  ...         NaN  Fall 1994   Unknown   \n",
       "\n",
       "      related producer  licensor  studio                  genre  \\\n",
       "11627     NaN  Fuji TV       NaN   Eiken  Slice of Life, Comedy   \n",
       "\n",
       "       opening_theme  ending_theme  \n",
       "11627            NaN           NaN  \n",
       "\n",
       "[1 rows x 31 columns]"
      ]
     },
     "execution_count": 53,
     "metadata": {},
     "output_type": "execute_result"
    }
   ],
   "source": [
    "anime_replaced[anime_replaced[\"episodes\"] == anime_replaced[\"episodes\"].max()]"
   ]
  },
  {
   "cell_type": "code",
   "execution_count": 54,
   "metadata": {},
   "outputs": [
    {
     "data": {
      "text/plain": [
       "0    24 min. per ep.\n",
       "1    24 min. per ep.\n",
       "2    24 min. per ep.\n",
       "3    16 min. per ep.\n",
       "4    24 min. per ep.\n",
       "Name: duration, dtype: object"
      ]
     },
     "execution_count": 54,
     "metadata": {},
     "output_type": "execute_result"
    }
   ],
   "source": [
    "anime_replaced.duration.head()"
   ]
  },
  {
   "cell_type": "markdown",
   "metadata": {},
   "source": [
    "Therefore, `duration` is a qualitative attribute."
   ]
  },
  {
   "cell_type": "code",
   "execution_count": 55,
   "metadata": {},
   "outputs": [
    {
     "data": {
      "text/plain": [
       "301"
      ]
     },
     "execution_count": 55,
     "metadata": {},
     "output_type": "execute_result"
    }
   ],
   "source": [
    "anime_replaced.duration.nunique()"
   ]
  },
  {
   "cell_type": "code",
   "execution_count": 56,
   "metadata": {},
   "outputs": [
    {
     "data": {
      "text/plain": [
       "24 min. per ep.          1513\n",
       "25 min. per ep.           808\n",
       "23 min. per ep.           797\n",
       "30 min. per ep.           749\n",
       "2 min.                    476\n",
       "                         ... \n",
       "46 sec. per ep.             1\n",
       "1 hr. 17 min. per ep.       1\n",
       "49 sec. per ep.             1\n",
       "2 hr. 19 min.               1\n",
       "12 sec. per ep.             1\n",
       "Name: duration, Length: 301, dtype: int64"
      ]
     },
     "execution_count": 56,
     "metadata": {},
     "output_type": "execute_result"
    }
   ],
   "source": [
    "anime_replaced.duration.value_counts()"
   ]
  },
  {
   "cell_type": "code",
   "execution_count": 57,
   "metadata": {},
   "outputs": [],
   "source": [
    "anime_replaced[\"duration\"] = anime_url_fixed[\"duration\"].replace({\"Unknown\":np.NaN})"
   ]
  },
  {
   "cell_type": "code",
   "execution_count": 58,
   "metadata": {},
   "outputs": [
    {
     "data": {
      "text/plain": [
       "405"
      ]
     },
     "execution_count": 58,
     "metadata": {},
     "output_type": "execute_result"
    }
   ],
   "source": [
    "anime_replaced.duration.isnull().sum()"
   ]
  },
  {
   "cell_type": "code",
   "execution_count": 59,
   "metadata": {},
   "outputs": [
    {
     "name": "stdout",
     "output_type": "stream",
     "text": [
      "Column title_english: Missing 8754 values, about 60.46%.\n",
      "Column title_japanese: Missing 35 values, about 0.24%.\n",
      "Column title_synonyms: Missing 5541 values, about 38.27%.\n",
      "Column type: Missing 30 values, about 0.21%.\n",
      "Column source: Missing 4210 values, about 29.08%.\n",
      "Column duration: Missing 405 values, about 2.80%.\n",
      "Column rank: Missing 1574 values, about 10.87%.\n",
      "Column background: Missing 13421 values, about 92.70%.\n",
      "Column premiered: Missing 10382 values, about 71.71%.\n",
      "Column broadcast: Missing 10207 values, about 70.50%.\n",
      "Column related: Missing 4515 values, about 31.19%.\n",
      "Column producer: Missing 6190 values, about 42.75%.\n",
      "Column licensor: Missing 11105 values, about 76.70%.\n",
      "Column studio: Missing 5934 values, about 40.99%.\n",
      "Column genre: Missing 64 values, about 0.44%.\n",
      "Column opening_theme: Missing 9784 values, about 67.58%.\n",
      "Column ending_theme: Missing 8807 values, about 60.83%.\n"
     ]
    }
   ],
   "source": [
    "num_rows = anime_replaced.shape[0]\n",
    "for col in anime_replaced.columns:\n",
    "    num_missing = anime_replaced[col].isnull().sum()\n",
    "    if num_missing > 0:\n",
    "        print(f\"Column {col}: Missing {num_missing} values, about {num_missing/num_rows*100:.2f}%.\")"
   ]
  },
  {
   "cell_type": "markdown",
   "metadata": {},
   "source": [
    "### 6. Airing Status\n",
    "\n",
    "These attributes include `status`, `airing`, `aired_string`, `aired`. We have stated that these attributes may have correlation. "
   ]
  },
  {
   "cell_type": "markdown",
   "metadata": {},
   "source": [
    "Selecting the first 5 animes to get some basic information about these columns."
   ]
  },
  {
   "cell_type": "code",
   "execution_count": 60,
   "metadata": {},
   "outputs": [
    {
     "data": {
      "text/html": [
       "<div>\n",
       "<style scoped>\n",
       "    .dataframe tbody tr th:only-of-type {\n",
       "        vertical-align: middle;\n",
       "    }\n",
       "\n",
       "    .dataframe tbody tr th {\n",
       "        vertical-align: top;\n",
       "    }\n",
       "\n",
       "    .dataframe thead th {\n",
       "        text-align: right;\n",
       "    }\n",
       "</style>\n",
       "<table border=\"1\" class=\"dataframe\">\n",
       "  <thead>\n",
       "    <tr style=\"text-align: right;\">\n",
       "      <th></th>\n",
       "      <th>status</th>\n",
       "      <th>airing</th>\n",
       "      <th>aired_string</th>\n",
       "      <th>aired</th>\n",
       "      <th>premiered</th>\n",
       "      <th>broadcast</th>\n",
       "    </tr>\n",
       "  </thead>\n",
       "  <tbody>\n",
       "    <tr>\n",
       "      <th>0</th>\n",
       "      <td>Finished Airing</td>\n",
       "      <td>False</td>\n",
       "      <td>Jan 13, 2012 to Mar 30, 2012</td>\n",
       "      <td>{'from': '2012-01-13', 'to': '2012-03-30'}</td>\n",
       "      <td>Winter 2012</td>\n",
       "      <td>Fridays at Unknown</td>\n",
       "    </tr>\n",
       "    <tr>\n",
       "      <th>1</th>\n",
       "      <td>Finished Airing</td>\n",
       "      <td>False</td>\n",
       "      <td>Apr 2, 2007 to Oct 1, 2007</td>\n",
       "      <td>{'from': '2007-04-02', 'to': '2007-10-01'}</td>\n",
       "      <td>Spring 2007</td>\n",
       "      <td>Unknown</td>\n",
       "    </tr>\n",
       "    <tr>\n",
       "      <th>2</th>\n",
       "      <td>Finished Airing</td>\n",
       "      <td>False</td>\n",
       "      <td>Oct 4, 2008 to Sep 25, 2009</td>\n",
       "      <td>{'from': '2008-10-04', 'to': '2009-09-25'}</td>\n",
       "      <td>Fall 2008</td>\n",
       "      <td>Unknown</td>\n",
       "    </tr>\n",
       "    <tr>\n",
       "      <th>3</th>\n",
       "      <td>Finished Airing</td>\n",
       "      <td>False</td>\n",
       "      <td>Aug 16, 2002 to May 23, 2003</td>\n",
       "      <td>{'from': '2002-08-16', 'to': '2003-05-23'}</td>\n",
       "      <td>Summer 2002</td>\n",
       "      <td>Fridays at Unknown</td>\n",
       "    </tr>\n",
       "    <tr>\n",
       "      <th>4</th>\n",
       "      <td>Finished Airing</td>\n",
       "      <td>False</td>\n",
       "      <td>Oct 6, 2012 to Mar 30, 2013</td>\n",
       "      <td>{'from': '2012-10-06', 'to': '2013-03-30'}</td>\n",
       "      <td>Fall 2012</td>\n",
       "      <td>Unknown</td>\n",
       "    </tr>\n",
       "  </tbody>\n",
       "</table>\n",
       "</div>"
      ],
      "text/plain": [
       "            status  airing                  aired_string  \\\n",
       "0  Finished Airing   False  Jan 13, 2012 to Mar 30, 2012   \n",
       "1  Finished Airing   False    Apr 2, 2007 to Oct 1, 2007   \n",
       "2  Finished Airing   False   Oct 4, 2008 to Sep 25, 2009   \n",
       "3  Finished Airing   False  Aug 16, 2002 to May 23, 2003   \n",
       "4  Finished Airing   False   Oct 6, 2012 to Mar 30, 2013   \n",
       "\n",
       "                                        aired    premiered           broadcast  \n",
       "0  {'from': '2012-01-13', 'to': '2012-03-30'}  Winter 2012  Fridays at Unknown  \n",
       "1  {'from': '2007-04-02', 'to': '2007-10-01'}  Spring 2007             Unknown  \n",
       "2  {'from': '2008-10-04', 'to': '2009-09-25'}    Fall 2008             Unknown  \n",
       "3  {'from': '2002-08-16', 'to': '2003-05-23'}  Summer 2002  Fridays at Unknown  \n",
       "4  {'from': '2012-10-06', 'to': '2013-03-30'}    Fall 2012             Unknown  "
      ]
     },
     "execution_count": 60,
     "metadata": {},
     "output_type": "execute_result"
    }
   ],
   "source": [
    "anime_replaced[['status','airing', 'aired_string', 'aired', 'premiered', 'broadcast']].head()"
   ]
  },
  {
   "cell_type": "markdown",
   "metadata": {},
   "source": [
    "We can see that `status` and `airing` are qualitative data. On the other hand, `aired_string` and `aired` seem to represent the same information: The starting date and the ending date of the anime. Therefore, we can delete one column and keep the other.\n",
    "\n",
    "The `premiered` column shows the season of the anime whereas `broadcast` indicates the day where the anime is broadcasted."
   ]
  },
  {
   "cell_type": "code",
   "execution_count": 61,
   "metadata": {},
   "outputs": [
    {
     "data": {
      "text/plain": [
       "Finished Airing     13791\n",
       "Currently Airing      351\n",
       "Not yet aired         336\n",
       "Name: status, dtype: int64"
      ]
     },
     "execution_count": 61,
     "metadata": {},
     "output_type": "execute_result"
    }
   ],
   "source": [
    "anime_replaced.status.value_counts()"
   ]
  },
  {
   "cell_type": "code",
   "execution_count": 62,
   "metadata": {},
   "outputs": [
    {
     "data": {
      "text/plain": [
       "False    14127\n",
       "True       351\n",
       "Name: airing, dtype: int64"
      ]
     },
     "execution_count": 62,
     "metadata": {},
     "output_type": "execute_result"
    }
   ],
   "source": [
    "anime_replaced.airing.value_counts()"
   ]
  },
  {
   "cell_type": "markdown",
   "metadata": {},
   "source": [
    "We can think that there are 2 cases of `airing`:\n",
    "- `True`: `Currently Airing` in `status`\n",
    "- `False`: `Finished Airing` and `Not yet aired`.\n",
    "Therefore, `status` implies `airing`. "
   ]
  },
  {
   "cell_type": "code",
   "execution_count": 63,
   "metadata": {},
   "outputs": [
    {
     "data": {
      "text/html": [
       "<div>\n",
       "<style scoped>\n",
       "    .dataframe tbody tr th:only-of-type {\n",
       "        vertical-align: middle;\n",
       "    }\n",
       "\n",
       "    .dataframe tbody tr th {\n",
       "        vertical-align: top;\n",
       "    }\n",
       "\n",
       "    .dataframe thead th {\n",
       "        text-align: right;\n",
       "    }\n",
       "</style>\n",
       "<table border=\"1\" class=\"dataframe\">\n",
       "  <thead>\n",
       "    <tr style=\"text-align: right;\">\n",
       "      <th></th>\n",
       "      <th>status</th>\n",
       "      <th>airing</th>\n",
       "      <th>aired_string</th>\n",
       "      <th>aired</th>\n",
       "    </tr>\n",
       "  </thead>\n",
       "  <tbody>\n",
       "    <tr>\n",
       "      <th>31</th>\n",
       "      <td>Currently Airing</td>\n",
       "      <td>True</td>\n",
       "      <td>Apr 13, 1992 to ?</td>\n",
       "      <td>{'from': '1992-04-13', 'to': None}</td>\n",
       "    </tr>\n",
       "    <tr>\n",
       "      <th>34</th>\n",
       "      <td>Currently Airing</td>\n",
       "      <td>True</td>\n",
       "      <td>Oct 20, 1999 to ?</td>\n",
       "      <td>{'from': '1999-10-20', 'to': None}</td>\n",
       "    </tr>\n",
       "  </tbody>\n",
       "</table>\n",
       "</div>"
      ],
      "text/plain": [
       "              status  airing       aired_string  \\\n",
       "31  Currently Airing    True  Apr 13, 1992 to ?   \n",
       "34  Currently Airing    True  Oct 20, 1999 to ?   \n",
       "\n",
       "                                 aired  \n",
       "31  {'from': '1992-04-13', 'to': None}  \n",
       "34  {'from': '1999-10-20', 'to': None}  "
      ]
     },
     "execution_count": 63,
     "metadata": {},
     "output_type": "execute_result"
    }
   ],
   "source": [
    "anime_replaced[['status','airing', 'aired_string', 'aired']][anime_replaced.status == 'Currently Airing'].head(2)"
   ]
  },
  {
   "cell_type": "code",
   "execution_count": 64,
   "metadata": {},
   "outputs": [
    {
     "data": {
      "text/plain": [
       "True    351\n",
       "Name: airing, dtype: int64"
      ]
     },
     "execution_count": 64,
     "metadata": {},
     "output_type": "execute_result"
    }
   ],
   "source": [
    "anime_replaced[anime_replaced.status == 'Currently Airing']['airing'].value_counts()"
   ]
  },
  {
   "cell_type": "code",
   "execution_count": 65,
   "metadata": {},
   "outputs": [
    {
     "data": {
      "text/html": [
       "<div>\n",
       "<style scoped>\n",
       "    .dataframe tbody tr th:only-of-type {\n",
       "        vertical-align: middle;\n",
       "    }\n",
       "\n",
       "    .dataframe tbody tr th {\n",
       "        vertical-align: top;\n",
       "    }\n",
       "\n",
       "    .dataframe thead th {\n",
       "        text-align: right;\n",
       "    }\n",
       "</style>\n",
       "<table border=\"1\" class=\"dataframe\">\n",
       "  <thead>\n",
       "    <tr style=\"text-align: right;\">\n",
       "      <th></th>\n",
       "      <th>status</th>\n",
       "      <th>airing</th>\n",
       "      <th>aired_string</th>\n",
       "      <th>aired</th>\n",
       "    </tr>\n",
       "  </thead>\n",
       "  <tbody>\n",
       "    <tr>\n",
       "      <th>0</th>\n",
       "      <td>Finished Airing</td>\n",
       "      <td>False</td>\n",
       "      <td>Jan 13, 2012 to Mar 30, 2012</td>\n",
       "      <td>{'from': '2012-01-13', 'to': '2012-03-30'}</td>\n",
       "    </tr>\n",
       "    <tr>\n",
       "      <th>1</th>\n",
       "      <td>Finished Airing</td>\n",
       "      <td>False</td>\n",
       "      <td>Apr 2, 2007 to Oct 1, 2007</td>\n",
       "      <td>{'from': '2007-04-02', 'to': '2007-10-01'}</td>\n",
       "    </tr>\n",
       "  </tbody>\n",
       "</table>\n",
       "</div>"
      ],
      "text/plain": [
       "            status  airing                  aired_string  \\\n",
       "0  Finished Airing   False  Jan 13, 2012 to Mar 30, 2012   \n",
       "1  Finished Airing   False    Apr 2, 2007 to Oct 1, 2007   \n",
       "\n",
       "                                        aired  \n",
       "0  {'from': '2012-01-13', 'to': '2012-03-30'}  \n",
       "1  {'from': '2007-04-02', 'to': '2007-10-01'}  "
      ]
     },
     "execution_count": 65,
     "metadata": {},
     "output_type": "execute_result"
    }
   ],
   "source": [
    "anime_replaced[['status','airing', 'aired_string', 'aired']][anime_replaced.status == 'Finished Airing'].head(2)"
   ]
  },
  {
   "cell_type": "code",
   "execution_count": 66,
   "metadata": {},
   "outputs": [
    {
     "data": {
      "text/plain": [
       "False    13791\n",
       "Name: airing, dtype: int64"
      ]
     },
     "execution_count": 66,
     "metadata": {},
     "output_type": "execute_result"
    }
   ],
   "source": [
    "anime_replaced[anime_replaced.status == 'Finished Airing']['airing'].value_counts()"
   ]
  },
  {
   "cell_type": "code",
   "execution_count": 67,
   "metadata": {},
   "outputs": [
    {
     "data": {
      "text/html": [
       "<div>\n",
       "<style scoped>\n",
       "    .dataframe tbody tr th:only-of-type {\n",
       "        vertical-align: middle;\n",
       "    }\n",
       "\n",
       "    .dataframe tbody tr th {\n",
       "        vertical-align: top;\n",
       "    }\n",
       "\n",
       "    .dataframe thead th {\n",
       "        text-align: right;\n",
       "    }\n",
       "</style>\n",
       "<table border=\"1\" class=\"dataframe\">\n",
       "  <thead>\n",
       "    <tr style=\"text-align: right;\">\n",
       "      <th></th>\n",
       "      <th>status</th>\n",
       "      <th>airing</th>\n",
       "      <th>aired_string</th>\n",
       "      <th>aired</th>\n",
       "    </tr>\n",
       "  </thead>\n",
       "  <tbody>\n",
       "    <tr>\n",
       "      <th>55</th>\n",
       "      <td>Not yet aired</td>\n",
       "      <td>False</td>\n",
       "      <td>Jun 2, 2018</td>\n",
       "      <td>{'from': '2018-06-02', 'to': '2018-06-02'}</td>\n",
       "    </tr>\n",
       "    <tr>\n",
       "      <th>76</th>\n",
       "      <td>Not yet aired</td>\n",
       "      <td>False</td>\n",
       "      <td>Not available</td>\n",
       "      <td>{'from': None, 'to': None}</td>\n",
       "    </tr>\n",
       "  </tbody>\n",
       "</table>\n",
       "</div>"
      ],
      "text/plain": [
       "           status  airing   aired_string  \\\n",
       "55  Not yet aired   False    Jun 2, 2018   \n",
       "76  Not yet aired   False  Not available   \n",
       "\n",
       "                                         aired  \n",
       "55  {'from': '2018-06-02', 'to': '2018-06-02'}  \n",
       "76                  {'from': None, 'to': None}  "
      ]
     },
     "execution_count": 67,
     "metadata": {},
     "output_type": "execute_result"
    }
   ],
   "source": [
    "anime_replaced[anime_replaced.status == 'Not yet aired'][['status','airing', 'aired_string', 'aired']].head(2)"
   ]
  },
  {
   "cell_type": "code",
   "execution_count": 68,
   "metadata": {},
   "outputs": [
    {
     "data": {
      "text/plain": [
       "False    336\n",
       "Name: airing, dtype: int64"
      ]
     },
     "execution_count": 68,
     "metadata": {},
     "output_type": "execute_result"
    }
   ],
   "source": [
    "anime_replaced[anime_replaced.status == 'Not yet aired']['airing'].value_counts()"
   ]
  },
  {
   "cell_type": "markdown",
   "metadata": {},
   "source": [
    "We will analyze `aired` and `aired_string`."
   ]
  },
  {
   "cell_type": "code",
   "execution_count": 69,
   "metadata": {},
   "outputs": [
    {
     "data": {
      "text/plain": [
       "Not available     223\n",
       "2005               47\n",
       "2004               43\n",
       "Jul, 2018 to ?     41\n",
       "2000               40\n",
       "Name: aired_string, dtype: int64"
      ]
     },
     "execution_count": 69,
     "metadata": {},
     "output_type": "execute_result"
    }
   ],
   "source": [
    "anime_replaced.aired_string.value_counts().head()"
   ]
  },
  {
   "cell_type": "code",
   "execution_count": 70,
   "metadata": {},
   "outputs": [
    {
     "data": {
      "text/plain": [
       "{'from': None, 'to': None}                    1691\n",
       "{'from': '2018-05-11', 'to': None}              39\n",
       "{'from': '2018-07-11', 'to': None}              24\n",
       "{'from': '2018-05-11', 'to': '2018-05-11'}      18\n",
       "{'from': '2018-10-11', 'to': None}              15\n",
       "Name: aired, dtype: int64"
      ]
     },
     "execution_count": 70,
     "metadata": {},
     "output_type": "execute_result"
    }
   ],
   "source": [
    "anime_replaced.aired.value_counts().head()"
   ]
  },
  {
   "cell_type": "markdown",
   "metadata": {},
   "source": [
    "We will drop aired_string and keep aired. Note that if a date is Unknown, it is set to `None`."
   ]
  },
  {
   "cell_type": "code",
   "execution_count": 71,
   "metadata": {},
   "outputs": [],
   "source": [
    "# We will drop aired_string and keep aired\n",
    "\n",
    "anime_dropped = anime_replaced.drop(columns=[\"aired_string\"])"
   ]
  },
  {
   "cell_type": "code",
   "execution_count": 72,
   "metadata": {},
   "outputs": [
    {
     "data": {
      "text/plain": [
       "str"
      ]
     },
     "execution_count": 72,
     "metadata": {},
     "output_type": "execute_result"
    }
   ],
   "source": [
    "type(anime_dropped.aired[0])"
   ]
  },
  {
   "cell_type": "code",
   "execution_count": 73,
   "metadata": {},
   "outputs": [],
   "source": [
    "anime_dropped[\"aired\"] = anime_dropped[\"aired\"].apply(eval)"
   ]
  },
  {
   "cell_type": "code",
   "execution_count": 74,
   "metadata": {},
   "outputs": [],
   "source": [
    "def get_date(aired:dict, is_from=True):\n",
    "    if is_from:\n",
    "        return aired[\"from\"]\n",
    "    return aired[\"to\"]"
   ]
  },
  {
   "cell_type": "code",
   "execution_count": 75,
   "metadata": {},
   "outputs": [],
   "source": [
    "anime_dropped[\"aired_from\"] = pd.to_datetime(anime_dropped[\"aired\"].apply(get_date))"
   ]
  },
  {
   "cell_type": "code",
   "execution_count": 76,
   "metadata": {},
   "outputs": [
    {
     "data": {
      "text/plain": [
       "0   2012-01-13\n",
       "1   2007-04-02\n",
       "2   2008-10-04\n",
       "3   2002-08-16\n",
       "4   2012-10-06\n",
       "Name: aired_from, dtype: datetime64[ns]"
      ]
     },
     "execution_count": 76,
     "metadata": {},
     "output_type": "execute_result"
    }
   ],
   "source": [
    "anime_dropped.aired_from.head()"
   ]
  },
  {
   "cell_type": "code",
   "execution_count": 77,
   "metadata": {},
   "outputs": [
    {
     "name": "stdout",
     "output_type": "stream",
     "text": [
      "Number of missing from date: 1691\n"
     ]
    }
   ],
   "source": [
    "print(f\"Number of missing from date: {anime_dropped.aired_from.isnull().sum()}\")"
   ]
  },
  {
   "cell_type": "code",
   "execution_count": 78,
   "metadata": {},
   "outputs": [],
   "source": [
    "anime_dropped[\"aired_to\"] = pd.to_datetime(anime_dropped[\"aired\"].apply(get_date, args=(False,)))"
   ]
  },
  {
   "cell_type": "code",
   "execution_count": 79,
   "metadata": {},
   "outputs": [
    {
     "data": {
      "text/plain": [
       "0   2012-03-30\n",
       "1   2007-10-01\n",
       "2   2009-09-25\n",
       "3   2003-05-23\n",
       "4   2013-03-30\n",
       "Name: aired_to, dtype: datetime64[ns]"
      ]
     },
     "execution_count": 79,
     "metadata": {},
     "output_type": "execute_result"
    }
   ],
   "source": [
    "anime_dropped.aired_to.head()"
   ]
  },
  {
   "cell_type": "code",
   "execution_count": 80,
   "metadata": {},
   "outputs": [
    {
     "name": "stdout",
     "output_type": "stream",
     "text": [
      "Number of missing end date: 2191\n"
     ]
    }
   ],
   "source": [
    "print(f\"Number of missing end date: {anime_dropped.aired_to.isnull().sum()}\")"
   ]
  },
  {
   "cell_type": "code",
   "execution_count": 81,
   "metadata": {},
   "outputs": [],
   "source": [
    "anime_dropped.drop(columns=[\"aired\", \"airing\"], inplace=True)"
   ]
  },
  {
   "cell_type": "markdown",
   "metadata": {},
   "source": [
    "Another point to notice is `broadcast` and `premiered` may also related to Airing columns."
   ]
  },
  {
   "cell_type": "code",
   "execution_count": 82,
   "metadata": {},
   "outputs": [
    {
     "data": {
      "text/plain": [
       "Spring 2017    80\n",
       "Spring 2018    79\n",
       "Fall 2016      77\n",
       "Spring 2016    72\n",
       "Spring 2006    71\n",
       "               ..\n",
       "Winter 1963     1\n",
       "Summer 1974     1\n",
       "Winter 1985     1\n",
       "Summer 1967     1\n",
       "Spring 1964     1\n",
       "Name: premiered, Length: 221, dtype: int64"
      ]
     },
     "execution_count": 82,
     "metadata": {},
     "output_type": "execute_result"
    }
   ],
   "source": [
    "anime_dropped[\"premiered\"].value_counts()"
   ]
  },
  {
   "cell_type": "code",
   "execution_count": 83,
   "metadata": {},
   "outputs": [
    {
     "data": {
      "text/plain": [
       "premiered    10382\n",
       "broadcast    10207\n",
       "dtype: int64"
      ]
     },
     "execution_count": 83,
     "metadata": {},
     "output_type": "execute_result"
    }
   ],
   "source": [
    "anime_dropped[[\"premiered\", \"broadcast\"]].isnull().sum()"
   ]
  },
  {
   "cell_type": "markdown",
   "metadata": {},
   "source": [
    "Approximately 70% of animes are missing their `premiered`, `broadcast`. We would infer the `premiered` column using the `aired_start` column. "
   ]
  },
  {
   "cell_type": "code",
   "execution_count": 84,
   "metadata": {},
   "outputs": [
    {
     "data": {
      "text/html": [
       "<div>\n",
       "<style scoped>\n",
       "    .dataframe tbody tr th:only-of-type {\n",
       "        vertical-align: middle;\n",
       "    }\n",
       "\n",
       "    .dataframe tbody tr th {\n",
       "        vertical-align: top;\n",
       "    }\n",
       "\n",
       "    .dataframe thead th {\n",
       "        text-align: right;\n",
       "    }\n",
       "</style>\n",
       "<table border=\"1\" class=\"dataframe\">\n",
       "  <thead>\n",
       "    <tr style=\"text-align: right;\">\n",
       "      <th></th>\n",
       "      <th>premiered</th>\n",
       "      <th>aired_from</th>\n",
       "    </tr>\n",
       "  </thead>\n",
       "  <tbody>\n",
       "    <tr>\n",
       "      <th>0</th>\n",
       "      <td>Winter 2012</td>\n",
       "      <td>2012-01-13</td>\n",
       "    </tr>\n",
       "    <tr>\n",
       "      <th>1</th>\n",
       "      <td>Spring 2007</td>\n",
       "      <td>2007-04-02</td>\n",
       "    </tr>\n",
       "    <tr>\n",
       "      <th>2</th>\n",
       "      <td>Fall 2008</td>\n",
       "      <td>2008-10-04</td>\n",
       "    </tr>\n",
       "    <tr>\n",
       "      <th>3</th>\n",
       "      <td>Summer 2002</td>\n",
       "      <td>2002-08-16</td>\n",
       "    </tr>\n",
       "    <tr>\n",
       "      <th>4</th>\n",
       "      <td>Fall 2012</td>\n",
       "      <td>2012-10-06</td>\n",
       "    </tr>\n",
       "  </tbody>\n",
       "</table>\n",
       "</div>"
      ],
      "text/plain": [
       "     premiered aired_from\n",
       "0  Winter 2012 2012-01-13\n",
       "1  Spring 2007 2007-04-02\n",
       "2    Fall 2008 2008-10-04\n",
       "3  Summer 2002 2002-08-16\n",
       "4    Fall 2012 2012-10-06"
      ]
     },
     "execution_count": 84,
     "metadata": {},
     "output_type": "execute_result"
    }
   ],
   "source": [
    "anime_dropped[[\"premiered\", \"aired_from\"]].head()"
   ]
  },
  {
   "cell_type": "code",
   "execution_count": 85,
   "metadata": {},
   "outputs": [
    {
     "data": {
      "text/html": [
       "<div>\n",
       "<style scoped>\n",
       "    .dataframe tbody tr th:only-of-type {\n",
       "        vertical-align: middle;\n",
       "    }\n",
       "\n",
       "    .dataframe tbody tr th {\n",
       "        vertical-align: top;\n",
       "    }\n",
       "\n",
       "    .dataframe thead th {\n",
       "        text-align: right;\n",
       "    }\n",
       "</style>\n",
       "<table border=\"1\" class=\"dataframe\">\n",
       "  <thead>\n",
       "    <tr style=\"text-align: right;\">\n",
       "      <th></th>\n",
       "      <th>premiered</th>\n",
       "      <th>aired_from</th>\n",
       "    </tr>\n",
       "  </thead>\n",
       "  <tbody>\n",
       "    <tr>\n",
       "      <th>55</th>\n",
       "      <td>NaN</td>\n",
       "      <td>2018-06-02</td>\n",
       "    </tr>\n",
       "    <tr>\n",
       "      <th>56</th>\n",
       "      <td>NaN</td>\n",
       "      <td>2006-10-02</td>\n",
       "    </tr>\n",
       "    <tr>\n",
       "      <th>57</th>\n",
       "      <td>NaN</td>\n",
       "      <td>2013-02-15</td>\n",
       "    </tr>\n",
       "    <tr>\n",
       "      <th>59</th>\n",
       "      <td>NaN</td>\n",
       "      <td>1985-02-25</td>\n",
       "    </tr>\n",
       "    <tr>\n",
       "      <th>60</th>\n",
       "      <td>NaN</td>\n",
       "      <td>2017-01-12</td>\n",
       "    </tr>\n",
       "  </tbody>\n",
       "</table>\n",
       "</div>"
      ],
      "text/plain": [
       "   premiered aired_from\n",
       "55       NaN 2018-06-02\n",
       "56       NaN 2006-10-02\n",
       "57       NaN 2013-02-15\n",
       "59       NaN 1985-02-25\n",
       "60       NaN 2017-01-12"
      ]
     },
     "execution_count": 85,
     "metadata": {},
     "output_type": "execute_result"
    }
   ],
   "source": [
    "anime_dropped[[\"premiered\", \"aired_from\"]][anime_dropped[\"premiered\"].isnull() & ~anime_dropped[\"aired_from\"].isnull()].head()"
   ]
  },
  {
   "cell_type": "markdown",
   "metadata": {},
   "source": [
    "According to theotakubox, \n",
    "- Winter season (1st quarter) from January to March.\n",
    "- Spring season (2nd quarter) from April to June.\n",
    "- Summer season (3rd quarter) from July from September.\n",
    "- Fall season (4th quarter) from October to December."
   ]
  },
  {
   "cell_type": "code",
   "execution_count": 86,
   "metadata": {},
   "outputs": [
    {
     "data": {
      "text/plain": [
       "True"
      ]
     },
     "execution_count": 86,
     "metadata": {},
     "output_type": "execute_result"
    }
   ],
   "source": [
    "1<= anime_dropped.aired_from[0].month <= 4"
   ]
  },
  {
   "cell_type": "code",
   "execution_count": 87,
   "metadata": {},
   "outputs": [],
   "source": [
    "def get_season(start_time):\n",
    "    year = start_time.year\n",
    "    month = start_time.month\n",
    "\n",
    "    if np.isnan(year) or np.isnan(month):\n",
    "        return np.NaN\n",
    "    \n",
    "    if 1 <= month < 3:\n",
    "        season = \"Winter\"\n",
    "    elif month < 7:\n",
    "        season = \"Spring\"\n",
    "    elif month < 10:\n",
    "        season = \"Summer\"\n",
    "    elif month <= 12:\n",
    "        season = \"Fall\"\n",
    "    \n",
    "    return season + \" \" + str(year)\n"
   ]
  },
  {
   "cell_type": "code",
   "execution_count": 88,
   "metadata": {},
   "outputs": [],
   "source": [
    "anime_dropped[\"premiered\"] = anime_dropped[\"aired_from\"].apply(get_season)"
   ]
  },
  {
   "cell_type": "code",
   "execution_count": 89,
   "metadata": {},
   "outputs": [
    {
     "data": {
      "text/plain": [
       "0    Winter 2012\n",
       "1    Spring 2007\n",
       "2      Fall 2008\n",
       "3    Summer 2002\n",
       "4      Fall 2012\n",
       "Name: premiered, dtype: object"
      ]
     },
     "execution_count": 89,
     "metadata": {},
     "output_type": "execute_result"
    }
   ],
   "source": [
    "anime_dropped.premiered.head()"
   ]
  },
  {
   "cell_type": "code",
   "execution_count": 90,
   "metadata": {},
   "outputs": [
    {
     "data": {
      "text/html": [
       "<div>\n",
       "<style scoped>\n",
       "    .dataframe tbody tr th:only-of-type {\n",
       "        vertical-align: middle;\n",
       "    }\n",
       "\n",
       "    .dataframe tbody tr th {\n",
       "        vertical-align: top;\n",
       "    }\n",
       "\n",
       "    .dataframe thead th {\n",
       "        text-align: right;\n",
       "    }\n",
       "</style>\n",
       "<table border=\"1\" class=\"dataframe\">\n",
       "  <thead>\n",
       "    <tr style=\"text-align: right;\">\n",
       "      <th></th>\n",
       "      <th>premiered</th>\n",
       "      <th>aired_from</th>\n",
       "    </tr>\n",
       "  </thead>\n",
       "  <tbody>\n",
       "  </tbody>\n",
       "</table>\n",
       "</div>"
      ],
      "text/plain": [
       "Empty DataFrame\n",
       "Columns: [premiered, aired_from]\n",
       "Index: []"
      ]
     },
     "execution_count": 90,
     "metadata": {},
     "output_type": "execute_result"
    }
   ],
   "source": [
    "anime_dropped[[\"premiered\", \"aired_from\"]][anime_dropped[\"premiered\"].isnull() & ~anime_dropped[\"aired_from\"].isnull()].head()"
   ]
  },
  {
   "cell_type": "code",
   "execution_count": 91,
   "metadata": {},
   "outputs": [
    {
     "data": {
      "text/plain": [
       "1691"
      ]
     },
     "execution_count": 91,
     "metadata": {},
     "output_type": "execute_result"
    }
   ],
   "source": [
    "anime_dropped.premiered.isnull().sum()"
   ]
  },
  {
   "cell_type": "markdown",
   "metadata": {},
   "source": [
    "We succesfully recreated the `premiered` column, and trim down the number of null values from 10382 to 1691!"
   ]
  },
  {
   "cell_type": "markdown",
   "metadata": {},
   "source": [
    "We have no way to recreate the `broadcast` column, so dropping this column."
   ]
  },
  {
   "cell_type": "code",
   "execution_count": 92,
   "metadata": {},
   "outputs": [],
   "source": [
    "anime_dropped = anime_dropped.drop(columns=[\"broadcast\"])"
   ]
  },
  {
   "cell_type": "markdown",
   "metadata": {},
   "source": [
    "### 7. Anime Statistics\n",
    "Include `rating`, `score`, `scored_by`, `rank`, `popularity`, `members`, `favorites`"
   ]
  },
  {
   "cell_type": "code",
   "execution_count": 93,
   "metadata": {},
   "outputs": [
    {
     "data": {
      "text/html": [
       "<div>\n",
       "<style scoped>\n",
       "    .dataframe tbody tr th:only-of-type {\n",
       "        vertical-align: middle;\n",
       "    }\n",
       "\n",
       "    .dataframe tbody tr th {\n",
       "        vertical-align: top;\n",
       "    }\n",
       "\n",
       "    .dataframe thead th {\n",
       "        text-align: right;\n",
       "    }\n",
       "</style>\n",
       "<table border=\"1\" class=\"dataframe\">\n",
       "  <thead>\n",
       "    <tr style=\"text-align: right;\">\n",
       "      <th></th>\n",
       "      <th>rating</th>\n",
       "      <th>score</th>\n",
       "      <th>scored_by</th>\n",
       "      <th>rank</th>\n",
       "      <th>popularity</th>\n",
       "      <th>members</th>\n",
       "      <th>favorites</th>\n",
       "    </tr>\n",
       "  </thead>\n",
       "  <tbody>\n",
       "    <tr>\n",
       "      <th>0</th>\n",
       "      <td>PG-13 - Teens 13 or older</td>\n",
       "      <td>7.63</td>\n",
       "      <td>139250</td>\n",
       "      <td>1274.0</td>\n",
       "      <td>231</td>\n",
       "      <td>283882</td>\n",
       "      <td>2809</td>\n",
       "    </tr>\n",
       "    <tr>\n",
       "      <th>1</th>\n",
       "      <td>PG-13 - Teens 13 or older</td>\n",
       "      <td>7.89</td>\n",
       "      <td>91206</td>\n",
       "      <td>727.0</td>\n",
       "      <td>366</td>\n",
       "      <td>204003</td>\n",
       "      <td>2579</td>\n",
       "    </tr>\n",
       "    <tr>\n",
       "      <th>2</th>\n",
       "      <td>PG - Children</td>\n",
       "      <td>7.55</td>\n",
       "      <td>37129</td>\n",
       "      <td>1508.0</td>\n",
       "      <td>1173</td>\n",
       "      <td>70127</td>\n",
       "      <td>802</td>\n",
       "    </tr>\n",
       "    <tr>\n",
       "      <th>3</th>\n",
       "      <td>PG-13 - Teens 13 or older</td>\n",
       "      <td>8.21</td>\n",
       "      <td>36501</td>\n",
       "      <td>307.0</td>\n",
       "      <td>916</td>\n",
       "      <td>93312</td>\n",
       "      <td>3344</td>\n",
       "    </tr>\n",
       "    <tr>\n",
       "      <th>4</th>\n",
       "      <td>PG-13 - Teens 13 or older</td>\n",
       "      <td>8.67</td>\n",
       "      <td>107767</td>\n",
       "      <td>50.0</td>\n",
       "      <td>426</td>\n",
       "      <td>182765</td>\n",
       "      <td>2082</td>\n",
       "    </tr>\n",
       "  </tbody>\n",
       "</table>\n",
       "</div>"
      ],
      "text/plain": [
       "                      rating  score  scored_by    rank  popularity  members  \\\n",
       "0  PG-13 - Teens 13 or older   7.63     139250  1274.0         231   283882   \n",
       "1  PG-13 - Teens 13 or older   7.89      91206   727.0         366   204003   \n",
       "2              PG - Children   7.55      37129  1508.0        1173    70127   \n",
       "3  PG-13 - Teens 13 or older   8.21      36501   307.0         916    93312   \n",
       "4  PG-13 - Teens 13 or older   8.67     107767    50.0         426   182765   \n",
       "\n",
       "   favorites  \n",
       "0       2809  \n",
       "1       2579  \n",
       "2        802  \n",
       "3       3344  \n",
       "4       2082  "
      ]
     },
     "execution_count": 93,
     "metadata": {},
     "output_type": "execute_result"
    }
   ],
   "source": [
    "anime_dropped[['rating', 'score', 'scored_by', 'rank', 'popularity', 'members', 'favorites']].head()"
   ]
  },
  {
   "cell_type": "code",
   "execution_count": 94,
   "metadata": {},
   "outputs": [
    {
     "data": {
      "text/plain": [
       "PG-13 - Teens 13 or older         5020\n",
       "G - All Ages                      4541\n",
       "PG - Children                     1279\n",
       "Rx - Hentai                       1219\n",
       "R - 17+ (violence & profanity)     997\n",
       "R+ - Mild Nudity                   878\n",
       "None                               544\n",
       "Name: rating, dtype: int64"
      ]
     },
     "execution_count": 94,
     "metadata": {},
     "output_type": "execute_result"
    }
   ],
   "source": [
    "anime_dropped['rating'].value_counts()"
   ]
  },
  {
   "cell_type": "code",
   "execution_count": 95,
   "metadata": {},
   "outputs": [
    {
     "data": {
      "text/plain": [
       "0"
      ]
     },
     "execution_count": 95,
     "metadata": {},
     "output_type": "execute_result"
    }
   ],
   "source": [
    "anime_dropped.rating.isnull().sum()"
   ]
  },
  {
   "cell_type": "markdown",
   "metadata": {},
   "source": [
    "We would change the `None` rating into `NaN`."
   ]
  },
  {
   "cell_type": "code",
   "execution_count": 96,
   "metadata": {},
   "outputs": [],
   "source": [
    "anime_dropped.rating.replace(\"None\", np.NaN, inplace=True)"
   ]
  },
  {
   "cell_type": "code",
   "execution_count": 97,
   "metadata": {},
   "outputs": [
    {
     "data": {
      "text/plain": [
       "544"
      ]
     },
     "execution_count": 97,
     "metadata": {},
     "output_type": "execute_result"
    }
   ],
   "source": [
    "anime_dropped.rating.isnull().sum()"
   ]
  },
  {
   "cell_type": "code",
   "execution_count": 98,
   "metadata": {},
   "outputs": [
    {
     "data": {
      "text/html": [
       "<div>\n",
       "<style scoped>\n",
       "    .dataframe tbody tr th:only-of-type {\n",
       "        vertical-align: middle;\n",
       "    }\n",
       "\n",
       "    .dataframe tbody tr th {\n",
       "        vertical-align: top;\n",
       "    }\n",
       "\n",
       "    .dataframe thead th {\n",
       "        text-align: right;\n",
       "    }\n",
       "</style>\n",
       "<table border=\"1\" class=\"dataframe\">\n",
       "  <thead>\n",
       "    <tr style=\"text-align: right;\">\n",
       "      <th></th>\n",
       "      <th>score</th>\n",
       "      <th>scored_by</th>\n",
       "      <th>rank</th>\n",
       "      <th>popularity</th>\n",
       "      <th>members</th>\n",
       "      <th>favorites</th>\n",
       "    </tr>\n",
       "  </thead>\n",
       "  <tbody>\n",
       "    <tr>\n",
       "      <th>count</th>\n",
       "      <td>14478.00</td>\n",
       "      <td>14478.00</td>\n",
       "      <td>12904.00</td>\n",
       "      <td>14478.00</td>\n",
       "      <td>14478.00</td>\n",
       "      <td>14478.00</td>\n",
       "    </tr>\n",
       "    <tr>\n",
       "      <th>mean</th>\n",
       "      <td>6.14</td>\n",
       "      <td>11460.03</td>\n",
       "      <td>6439.07</td>\n",
       "      <td>7220.26</td>\n",
       "      <td>22966.40</td>\n",
       "      <td>311.65</td>\n",
       "    </tr>\n",
       "    <tr>\n",
       "      <th>std</th>\n",
       "      <td>1.46</td>\n",
       "      <td>43105.19</td>\n",
       "      <td>3720.23</td>\n",
       "      <td>4170.08</td>\n",
       "      <td>74981.36</td>\n",
       "      <td>2615.55</td>\n",
       "    </tr>\n",
       "    <tr>\n",
       "      <th>min</th>\n",
       "      <td>0.00</td>\n",
       "      <td>0.00</td>\n",
       "      <td>0.00</td>\n",
       "      <td>0.00</td>\n",
       "      <td>0.00</td>\n",
       "      <td>0.00</td>\n",
       "    </tr>\n",
       "    <tr>\n",
       "      <th>25%</th>\n",
       "      <td>5.55</td>\n",
       "      <td>46.00</td>\n",
       "      <td>3216.25</td>\n",
       "      <td>3611.50</td>\n",
       "      <td>245.00</td>\n",
       "      <td>0.00</td>\n",
       "    </tr>\n",
       "    <tr>\n",
       "      <th>50%</th>\n",
       "      <td>6.37</td>\n",
       "      <td>501.00</td>\n",
       "      <td>6441.50</td>\n",
       "      <td>7225.50</td>\n",
       "      <td>1679.50</td>\n",
       "      <td>2.00</td>\n",
       "    </tr>\n",
       "    <tr>\n",
       "      <th>75%</th>\n",
       "      <td>7.06</td>\n",
       "      <td>3941.50</td>\n",
       "      <td>9664.00</td>\n",
       "      <td>10827.75</td>\n",
       "      <td>10379.00</td>\n",
       "      <td>23.00</td>\n",
       "    </tr>\n",
       "    <tr>\n",
       "      <th>max</th>\n",
       "      <td>10.00</td>\n",
       "      <td>1009477.00</td>\n",
       "      <td>12919.00</td>\n",
       "      <td>14487.00</td>\n",
       "      <td>1456378.00</td>\n",
       "      <td>106895.00</td>\n",
       "    </tr>\n",
       "  </tbody>\n",
       "</table>\n",
       "</div>"
      ],
      "text/plain": [
       "          score   scored_by      rank  popularity     members  favorites\n",
       "count  14478.00    14478.00  12904.00    14478.00    14478.00   14478.00\n",
       "mean       6.14    11460.03   6439.07     7220.26    22966.40     311.65\n",
       "std        1.46    43105.19   3720.23     4170.08    74981.36    2615.55\n",
       "min        0.00        0.00      0.00        0.00        0.00       0.00\n",
       "25%        5.55       46.00   3216.25     3611.50      245.00       0.00\n",
       "50%        6.37      501.00   6441.50     7225.50     1679.50       2.00\n",
       "75%        7.06     3941.50   9664.00    10827.75    10379.00      23.00\n",
       "max       10.00  1009477.00  12919.00    14487.00  1456378.00  106895.00"
      ]
     },
     "execution_count": 98,
     "metadata": {},
     "output_type": "execute_result"
    }
   ],
   "source": [
    "np.round(anime_dropped[['score', 'scored_by', 'rank', 'popularity', 'members', 'favorites']].describe(),2)"
   ]
  },
  {
   "cell_type": "code",
   "execution_count": 99,
   "metadata": {},
   "outputs": [
    {
     "data": {
      "text/plain": [
       "<matplotlib.lines.Line2D at 0x7f356685b4f0>"
      ]
     },
     "execution_count": 99,
     "metadata": {},
     "output_type": "execute_result"
    },
    {
     "data": {
      "image/png": "[encoded data removed]",
      "text/plain": [
       "<Figure size 1152x720 with 1 Axes>"
      ]
     },
     "metadata": {
      "needs_background": "light"
     },
     "output_type": "display_data"
    }
   ],
   "source": [
    "plt.figure(figsize=(16,10))\n",
    "sns.histplot(anime_dropped.score, kde=True)\n",
    "plt.axvline(anime_dropped.score.mean(), color=\"red\")"
   ]
  },
  {
   "cell_type": "code",
   "execution_count": 100,
   "metadata": {},
   "outputs": [
    {
     "data": {
      "text/plain": [
       "2.445089100704517"
      ]
     },
     "execution_count": 100,
     "metadata": {},
     "output_type": "execute_result"
    }
   ],
   "source": [
    "len(anime_dropped[anime_dropped.score == 0])/anime_dropped.shape[0]*100"
   ]
  },
  {
   "cell_type": "markdown",
   "metadata": {},
   "source": [
    "By calculation, animes with 0 score take approximately only 2.4% of the animes, but it should be consider significant in the histogram."
   ]
  },
  {
   "cell_type": "code",
   "execution_count": 101,
   "metadata": {},
   "outputs": [
    {
     "data": {
      "text/plain": [
       "Not yet aired       336\n",
       "Finished Airing      12\n",
       "Currently Airing      6\n",
       "Name: status, dtype: int64"
      ]
     },
     "execution_count": 101,
     "metadata": {},
     "output_type": "execute_result"
    }
   ],
   "source": [
    "anime_dropped[anime_dropped.score == 0][\"status\"].value_counts()"
   ]
  },
  {
   "cell_type": "markdown",
   "metadata": {},
   "source": [
    "Most of 0 scored animes are unaired yet. That can be predicted."
   ]
  },
  {
   "cell_type": "code",
   "execution_count": 102,
   "metadata": {},
   "outputs": [
    {
     "data": {
      "text/html": [
       "<div>\n",
       "<style scoped>\n",
       "    .dataframe tbody tr th:only-of-type {\n",
       "        vertical-align: middle;\n",
       "    }\n",
       "\n",
       "    .dataframe tbody tr th {\n",
       "        vertical-align: top;\n",
       "    }\n",
       "\n",
       "    .dataframe thead th {\n",
       "        text-align: right;\n",
       "    }\n",
       "</style>\n",
       "<table border=\"1\" class=\"dataframe\">\n",
       "  <thead>\n",
       "    <tr style=\"text-align: right;\">\n",
       "      <th></th>\n",
       "      <th>anime_id</th>\n",
       "      <th>title</th>\n",
       "      <th>title_english</th>\n",
       "      <th>title_japanese</th>\n",
       "      <th>title_synonyms</th>\n",
       "      <th>image_url</th>\n",
       "      <th>type</th>\n",
       "      <th>source</th>\n",
       "      <th>episodes</th>\n",
       "      <th>status</th>\n",
       "      <th>...</th>\n",
       "      <th>premiered</th>\n",
       "      <th>related</th>\n",
       "      <th>producer</th>\n",
       "      <th>licensor</th>\n",
       "      <th>studio</th>\n",
       "      <th>genre</th>\n",
       "      <th>opening_theme</th>\n",
       "      <th>ending_theme</th>\n",
       "      <th>aired_from</th>\n",
       "      <th>aired_to</th>\n",
       "    </tr>\n",
       "  </thead>\n",
       "  <tbody>\n",
       "    <tr>\n",
       "      <th>14014</th>\n",
       "      <td>37814</td>\n",
       "      <td>Inazuma Eleven Reloaded: Reformation of Soccer</td>\n",
       "      <td>NaN</td>\n",
       "      <td>イナズマイレブン リローデッド ～サッカーの変革へんかく～</td>\n",
       "      <td>NaN</td>\n",
       "      <td>https://cdn.myanimelist.net/images/anime/1946/...</td>\n",
       "      <td>Special</td>\n",
       "      <td>Game</td>\n",
       "      <td>1</td>\n",
       "      <td>Finished Airing</td>\n",
       "      <td>...</td>\n",
       "      <td>Winter 2018</td>\n",
       "      <td>{'Alternative version': [{'mal_id': 5231, 'typ...</td>\n",
       "      <td>NaN</td>\n",
       "      <td>NaN</td>\n",
       "      <td>OLM</td>\n",
       "      <td>Sports</td>\n",
       "      <td>NaN</td>\n",
       "      <td>NaN</td>\n",
       "      <td>2018-01-21</td>\n",
       "      <td>2018-01-21</td>\n",
       "    </tr>\n",
       "    <tr>\n",
       "      <th>14122</th>\n",
       "      <td>37860</td>\n",
       "      <td>Free!: Take Your Marks: Character Butai Aisatsu</td>\n",
       "      <td>NaN</td>\n",
       "      <td>特別版 Free!-Take Your Marks- キャラクター舞台挨拶</td>\n",
       "      <td>NaN</td>\n",
       "      <td>https://cdn.myanimelist.net/images/anime/1131/...</td>\n",
       "      <td>Movie</td>\n",
       "      <td>Original</td>\n",
       "      <td>4</td>\n",
       "      <td>Finished Airing</td>\n",
       "      <td>...</td>\n",
       "      <td>Fall 2017</td>\n",
       "      <td>{'Other': [{'mal_id': 35198, 'type': 'anime', ...</td>\n",
       "      <td>NaN</td>\n",
       "      <td>NaN</td>\n",
       "      <td>Kyoto Animation</td>\n",
       "      <td>Comedy</td>\n",
       "      <td>NaN</td>\n",
       "      <td>NaN</td>\n",
       "      <td>2017-10-28</td>\n",
       "      <td>2017-10-28</td>\n",
       "    </tr>\n",
       "    <tr>\n",
       "      <th>14133</th>\n",
       "      <td>35103</td>\n",
       "      <td>Tanabata Monogatari</td>\n",
       "      <td>NaN</td>\n",
       "      <td>七夕ものがたり</td>\n",
       "      <td>NaN</td>\n",
       "      <td>https://cdn.myanimelist.net/images/anime/12/84...</td>\n",
       "      <td>OVA</td>\n",
       "      <td>Other</td>\n",
       "      <td>1</td>\n",
       "      <td>Finished Airing</td>\n",
       "      <td>...</td>\n",
       "      <td>NaN</td>\n",
       "      <td>NaN</td>\n",
       "      <td>NaN</td>\n",
       "      <td>NaN</td>\n",
       "      <td>NaN</td>\n",
       "      <td>Historical, Kids</td>\n",
       "      <td>NaN</td>\n",
       "      <td>NaN</td>\n",
       "      <td>NaT</td>\n",
       "      <td>NaT</td>\n",
       "    </tr>\n",
       "  </tbody>\n",
       "</table>\n",
       "<p>3 rows × 29 columns</p>\n",
       "</div>"
      ],
      "text/plain": [
       "       anime_id                                            title  \\\n",
       "14014     37814   Inazuma Eleven Reloaded: Reformation of Soccer   \n",
       "14122     37860  Free!: Take Your Marks: Character Butai Aisatsu   \n",
       "14133     35103                              Tanabata Monogatari   \n",
       "\n",
       "      title_english                         title_japanese title_synonyms  \\\n",
       "14014           NaN          イナズマイレブン リローデッド ～サッカーの変革へんかく～            NaN   \n",
       "14122           NaN  特別版 Free!-Take Your Marks- キャラクター舞台挨拶            NaN   \n",
       "14133           NaN                                七夕ものがたり            NaN   \n",
       "\n",
       "                                               image_url     type    source  \\\n",
       "14014  https://cdn.myanimelist.net/images/anime/1946/...  Special      Game   \n",
       "14122  https://cdn.myanimelist.net/images/anime/1131/...    Movie  Original   \n",
       "14133  https://cdn.myanimelist.net/images/anime/12/84...      OVA     Other   \n",
       "\n",
       "       episodes           status  ...    premiered  \\\n",
       "14014         1  Finished Airing  ...  Winter 2018   \n",
       "14122         4  Finished Airing  ...    Fall 2017   \n",
       "14133         1  Finished Airing  ...          NaN   \n",
       "\n",
       "                                                 related  producer  licensor  \\\n",
       "14014  {'Alternative version': [{'mal_id': 5231, 'typ...       NaN       NaN   \n",
       "14122  {'Other': [{'mal_id': 35198, 'type': 'anime', ...       NaN       NaN   \n",
       "14133                                                NaN       NaN       NaN   \n",
       "\n",
       "                studio             genre  opening_theme  ending_theme  \\\n",
       "14014              OLM            Sports            NaN           NaN   \n",
       "14122  Kyoto Animation            Comedy            NaN           NaN   \n",
       "14133              NaN  Historical, Kids            NaN           NaN   \n",
       "\n",
       "      aired_from   aired_to  \n",
       "14014 2018-01-21 2018-01-21  \n",
       "14122 2017-10-28 2017-10-28  \n",
       "14133        NaT        NaT  \n",
       "\n",
       "[3 rows x 29 columns]"
      ]
     },
     "execution_count": 102,
     "metadata": {},
     "output_type": "execute_result"
    }
   ],
   "source": [
    "anime_dropped[(anime_dropped.score == 0) & (anime_dropped.status == \"Finished Airing\")].head(3)"
   ]
  },
  {
   "cell_type": "code",
   "execution_count": 103,
   "metadata": {},
   "outputs": [
    {
     "data": {
      "text/plain": [
       "<AxesSubplot:xlabel='rating', ylabel='score'>"
      ]
     },
     "execution_count": 103,
     "metadata": {},
     "output_type": "execute_result"
    },
    {
     "data": {
      "image/png": "[encoded data removed]",
      "text/plain": [
       "<Figure size 1152x720 with 1 Axes>"
      ]
     },
     "metadata": {
      "needs_background": "light"
     },
     "output_type": "display_data"
    }
   ],
   "source": [
    "plt.figure(figsize=(16,10))\n",
    "sns.boxplot(x=anime_dropped.rating, y=anime_dropped.score)"
   ]
  },
  {
   "cell_type": "code",
   "execution_count": 104,
   "metadata": {},
   "outputs": [
    {
     "data": {
      "text/plain": [
       "<AxesSubplot:xlabel='scored_by', ylabel='Count'>"
      ]
     },
     "execution_count": 104,
     "metadata": {},
     "output_type": "execute_result"
    },
    {
     "data": {
      "image/png": "[encoded data removed]",
      "text/plain": [
       "<Figure size 1152x720 with 1 Axes>"
      ]
     },
     "metadata": {
      "needs_background": "light"
     },
     "output_type": "display_data"
    }
   ],
   "source": [
    "plt.figure(figsize=(16,10))\n",
    "sns.histplot(anime_dropped.scored_by, bins=100, kde=True)\n",
    "\n",
    "# _ = plt.ylim(0,1000)"
   ]
  },
  {
   "cell_type": "markdown",
   "metadata": {},
   "source": [
    "By looking at the statistics and the histogram, the distribution of the attribute is a exponential distribution. "
   ]
  },
  {
   "cell_type": "code",
   "execution_count": 105,
   "metadata": {},
   "outputs": [
    {
     "data": {
      "text/plain": [
       "count      14478.00\n",
       "mean       11460.03\n",
       "std        43105.19\n",
       "min            0.00\n",
       "25%           46.00\n",
       "50%          501.00\n",
       "75%         3941.50\n",
       "max      1009477.00\n",
       "Name: scored_by, dtype: float64"
      ]
     },
     "execution_count": 105,
     "metadata": {},
     "output_type": "execute_result"
    }
   ],
   "source": [
    "np.round(anime_dropped.scored_by.describe(),2)"
   ]
  },
  {
   "cell_type": "code",
   "execution_count": 106,
   "metadata": {},
   "outputs": [
    {
     "name": "stderr",
     "output_type": "stream",
     "text": [
      "/usr/lib/python3.10/site-packages/seaborn/_decorators.py:36: FutureWarning: Pass the following variables as keyword args: x, y. From version 0.12, the only valid positional argument will be `data`, and passing other arguments without an explicit keyword will result in an error or misinterpretation.\n",
      "  warnings.warn(\n"
     ]
    },
    {
     "data": {
      "image/png": "[encoded data removed]",
      "text/plain": [
       "<Figure size 1152x720 with 1 Axes>"
      ]
     },
     "metadata": {
      "needs_background": "light"
     },
     "output_type": "display_data"
    }
   ],
   "source": [
    "plt.figure(figsize=(16,10))\n",
    "sns.scatterplot(anime_dropped.scored_by, anime_dropped.score,alpha=0.2)\n",
    "plt.ticklabel_format(style='plain')"
   ]
  },
  {
   "cell_type": "code",
   "execution_count": 107,
   "metadata": {},
   "outputs": [
    {
     "data": {
      "text/plain": [
       "count    12904.000000\n",
       "mean      6439.065406\n",
       "std       3720.227608\n",
       "min          0.000000\n",
       "25%       3216.250000\n",
       "50%       6441.500000\n",
       "75%       9664.000000\n",
       "max      12919.000000\n",
       "Name: rank, dtype: float64"
      ]
     },
     "execution_count": 107,
     "metadata": {},
     "output_type": "execute_result"
    }
   ],
   "source": [
    "anime_dropped[\"rank\"].describe()"
   ]
  },
  {
   "cell_type": "code",
   "execution_count": 108,
   "metadata": {},
   "outputs": [
    {
     "data": {
      "text/html": [
       "<div>\n",
       "<style scoped>\n",
       "    .dataframe tbody tr th:only-of-type {\n",
       "        vertical-align: middle;\n",
       "    }\n",
       "\n",
       "    .dataframe tbody tr th {\n",
       "        vertical-align: top;\n",
       "    }\n",
       "\n",
       "    .dataframe thead th {\n",
       "        text-align: right;\n",
       "    }\n",
       "</style>\n",
       "<table border=\"1\" class=\"dataframe\">\n",
       "  <thead>\n",
       "    <tr style=\"text-align: right;\">\n",
       "      <th></th>\n",
       "      <th>anime_id</th>\n",
       "      <th>title</th>\n",
       "      <th>title_english</th>\n",
       "      <th>title_japanese</th>\n",
       "      <th>title_synonyms</th>\n",
       "      <th>image_url</th>\n",
       "      <th>type</th>\n",
       "      <th>source</th>\n",
       "      <th>episodes</th>\n",
       "      <th>status</th>\n",
       "      <th>...</th>\n",
       "      <th>premiered</th>\n",
       "      <th>related</th>\n",
       "      <th>producer</th>\n",
       "      <th>licensor</th>\n",
       "      <th>studio</th>\n",
       "      <th>genre</th>\n",
       "      <th>opening_theme</th>\n",
       "      <th>ending_theme</th>\n",
       "      <th>aired_from</th>\n",
       "      <th>aired_to</th>\n",
       "    </tr>\n",
       "  </thead>\n",
       "  <tbody>\n",
       "    <tr>\n",
       "      <th>8397</th>\n",
       "      <td>20261</td>\n",
       "      <td>W-Tails Cat: A Strange Presence</td>\n",
       "      <td>NaN</td>\n",
       "      <td>W・TAILS CAT - A STRANGE PRESENCE</td>\n",
       "      <td>W Tails Cat: A Strange Presence</td>\n",
       "      <td>https://cdn.myanimelist.net/images/anime/4/539...</td>\n",
       "      <td>ONA</td>\n",
       "      <td>Other</td>\n",
       "      <td>7</td>\n",
       "      <td>Finished Airing</td>\n",
       "      <td>...</td>\n",
       "      <td>Spring 2013</td>\n",
       "      <td>NaN</td>\n",
       "      <td>NaN</td>\n",
       "      <td>NaN</td>\n",
       "      <td>NaN</td>\n",
       "      <td>Action, Mecha, Military, Hentai, Sci-Fi, Police</td>\n",
       "      <td>NaN</td>\n",
       "      <td>NaN</td>\n",
       "      <td>2013-05-07</td>\n",
       "      <td>2013-10-24</td>\n",
       "    </tr>\n",
       "    <tr>\n",
       "      <th>14005</th>\n",
       "      <td>37866</td>\n",
       "      <td>Uchuu Senkan Tiramisù Specials</td>\n",
       "      <td>NaN</td>\n",
       "      <td>宇宙戦艦ティラミス</td>\n",
       "      <td>Space Battleship Tiramisu</td>\n",
       "      <td>https://cdn.myanimelist.net/images/anime/1770/...</td>\n",
       "      <td>Special</td>\n",
       "      <td>Web manga</td>\n",
       "      <td>3</td>\n",
       "      <td>Not yet aired</td>\n",
       "      <td>...</td>\n",
       "      <td>Spring 2018</td>\n",
       "      <td>{'Adaptation': [{'mal_id': 109403, 'type': 'ma...</td>\n",
       "      <td>NaN</td>\n",
       "      <td>NaN</td>\n",
       "      <td>NaN</td>\n",
       "      <td>Comedy, Mecha, Sci-Fi, Seinen, Slice of Life, ...</td>\n",
       "      <td>NaN</td>\n",
       "      <td>NaN</td>\n",
       "      <td>2018-06-27</td>\n",
       "      <td>2018-07-25</td>\n",
       "    </tr>\n",
       "    <tr>\n",
       "      <th>14067</th>\n",
       "      <td>37869</td>\n",
       "      <td>BanG Dream! 2nd Season</td>\n",
       "      <td>NaN</td>\n",
       "      <td>BanG Dream!（バンドリ！）第2期</td>\n",
       "      <td>NaN</td>\n",
       "      <td>https://cdn.myanimelist.net/images/anime/1861/...</td>\n",
       "      <td>TV</td>\n",
       "      <td>Manga</td>\n",
       "      <td>0</td>\n",
       "      <td>Not yet aired</td>\n",
       "      <td>...</td>\n",
       "      <td>Spring 2018</td>\n",
       "      <td>{'Adaptation': [{'mal_id': 102005, 'type': 'ma...</td>\n",
       "      <td>NaN</td>\n",
       "      <td>NaN</td>\n",
       "      <td>NaN</td>\n",
       "      <td>Music</td>\n",
       "      <td>NaN</td>\n",
       "      <td>NaN</td>\n",
       "      <td>2018-05-12</td>\n",
       "      <td>NaT</td>\n",
       "    </tr>\n",
       "  </tbody>\n",
       "</table>\n",
       "<p>3 rows × 29 columns</p>\n",
       "</div>"
      ],
      "text/plain": [
       "       anime_id                            title title_english  \\\n",
       "8397      20261  W-Tails Cat: A Strange Presence           NaN   \n",
       "14005     37866   Uchuu Senkan Tiramisù Specials           NaN   \n",
       "14067     37869           BanG Dream! 2nd Season           NaN   \n",
       "\n",
       "                         title_japanese                   title_synonyms  \\\n",
       "8397   W・TAILS CAT - A STRANGE PRESENCE  W Tails Cat: A Strange Presence   \n",
       "14005                         宇宙戦艦ティラミス        Space Battleship Tiramisu   \n",
       "14067             BanG Dream!（バンドリ！）第2期                              NaN   \n",
       "\n",
       "                                               image_url     type     source  \\\n",
       "8397   https://cdn.myanimelist.net/images/anime/4/539...      ONA      Other   \n",
       "14005  https://cdn.myanimelist.net/images/anime/1770/...  Special  Web manga   \n",
       "14067  https://cdn.myanimelist.net/images/anime/1861/...       TV      Manga   \n",
       "\n",
       "       episodes           status  ...    premiered  \\\n",
       "8397          7  Finished Airing  ...  Spring 2013   \n",
       "14005         3    Not yet aired  ...  Spring 2018   \n",
       "14067         0    Not yet aired  ...  Spring 2018   \n",
       "\n",
       "                                                 related  producer  licensor  \\\n",
       "8397                                                 NaN       NaN       NaN   \n",
       "14005  {'Adaptation': [{'mal_id': 109403, 'type': 'ma...       NaN       NaN   \n",
       "14067  {'Adaptation': [{'mal_id': 102005, 'type': 'ma...       NaN       NaN   \n",
       "\n",
       "       studio                                              genre  \\\n",
       "8397      NaN    Action, Mecha, Military, Hentai, Sci-Fi, Police   \n",
       "14005     NaN  Comedy, Mecha, Sci-Fi, Seinen, Slice of Life, ...   \n",
       "14067     NaN                                              Music   \n",
       "\n",
       "       opening_theme  ending_theme aired_from   aired_to  \n",
       "8397             NaN           NaN 2013-05-07 2013-10-24  \n",
       "14005            NaN           NaN 2018-06-27 2018-07-25  \n",
       "14067            NaN           NaN 2018-05-12        NaT  \n",
       "\n",
       "[3 rows x 29 columns]"
      ]
     },
     "execution_count": 108,
     "metadata": {},
     "output_type": "execute_result"
    }
   ],
   "source": [
    "anime_dropped[anime_dropped[\"rank\"] == 0].head(3)"
   ]
  },
  {
   "cell_type": "code",
   "execution_count": 109,
   "metadata": {},
   "outputs": [
    {
     "name": "stderr",
     "output_type": "stream",
     "text": [
      "/usr/lib/python3.10/site-packages/seaborn/_decorators.py:36: FutureWarning: Pass the following variables as keyword args: x, y. From version 0.12, the only valid positional argument will be `data`, and passing other arguments without an explicit keyword will result in an error or misinterpretation.\n",
      "  warnings.warn(\n"
     ]
    },
    {
     "data": {
      "text/plain": [
       "<AxesSubplot:xlabel='score', ylabel='rank'>"
      ]
     },
     "execution_count": 109,
     "metadata": {},
     "output_type": "execute_result"
    },
    {
     "data": {
      "image/png": "[encoded data removed]",
      "text/plain": [
       "<Figure size 1152x720 with 1 Axes>"
      ]
     },
     "metadata": {
      "needs_background": "light"
     },
     "output_type": "display_data"
    }
   ],
   "source": [
    "plt.figure(figsize=(16,10))\n",
    "sns.scatterplot(anime_dropped[\"score\"], -anime_dropped[\"rank\"], alpha=0.2)"
   ]
  },
  {
   "cell_type": "markdown",
   "metadata": {},
   "source": [
    "What a scatter plot! We can spot a curve on top and a cluster on the bottom. The lower the rank, the higher the score is. Moreover, most of the animes would have the ranking between 10000 and 12000 and the average score would be 5."
   ]
  },
  {
   "cell_type": "code",
   "execution_count": 110,
   "metadata": {},
   "outputs": [
    {
     "data": {
      "text/plain": [
       "<matplotlib.lines.Line2D at 0x7f356697d360>"
      ]
     },
     "execution_count": 110,
     "metadata": {},
     "output_type": "execute_result"
    },
    {
     "data": {
      "image/png": "[encoded data removed]",
      "text/plain": [
       "<Figure size 1152x720 with 1 Axes>"
      ]
     },
     "metadata": {
      "needs_background": "light"
     },
     "output_type": "display_data"
    }
   ],
   "source": [
    "plt.figure(figsize=(16,10))\n",
    "sns.histplot(anime_dropped[anime_dropped[\"rank\"] > 9000][\"score\"], kde=True)\n",
    "plt.axvline(anime_dropped[anime_dropped[\"rank\"] > 9000][\"score\"].mean(), color=\"red\")"
   ]
  },
  {
   "cell_type": "code",
   "execution_count": 111,
   "metadata": {},
   "outputs": [
    {
     "data": {
      "text/plain": [
       "<matplotlib.lines.Line2D at 0x7f356887f250>"
      ]
     },
     "execution_count": 111,
     "metadata": {},
     "output_type": "execute_result"
    },
    {
     "data": {
      "image/png": "[encoded data removed]",
      "text/plain": [
       "<Figure size 1152x720 with 1 Axes>"
      ]
     },
     "metadata": {
      "needs_background": "light"
     },
     "output_type": "display_data"
    }
   ],
   "source": [
    "plt.figure(figsize=(16,10))\n",
    "sns.histplot(anime_dropped[anime_dropped[\"rank\"] < 9000][\"score\"], kde=True)\n",
    "plt.axvline(anime_dropped[anime_dropped[\"rank\"] < 9000][\"score\"].mean(), color=\"red\")"
   ]
  },
  {
   "cell_type": "markdown",
   "metadata": {},
   "source": [
    "This is where we realize that we can split the animes into 2 types:\n",
    "- \"Popular\" anime: Well-known, therefore, have higher ranking.\n",
    "- \"Average\" anime: impopular, which means have less audience and lower ranking."
   ]
  },
  {
   "cell_type": "code",
   "execution_count": 112,
   "metadata": {},
   "outputs": [
    {
     "data": {
      "text/html": [
       "<div>\n",
       "<style scoped>\n",
       "    .dataframe tbody tr th:only-of-type {\n",
       "        vertical-align: middle;\n",
       "    }\n",
       "\n",
       "    .dataframe tbody tr th {\n",
       "        vertical-align: top;\n",
       "    }\n",
       "\n",
       "    .dataframe thead th {\n",
       "        text-align: right;\n",
       "    }\n",
       "</style>\n",
       "<table border=\"1\" class=\"dataframe\">\n",
       "  <thead>\n",
       "    <tr style=\"text-align: right;\">\n",
       "      <th></th>\n",
       "      <th>popularity</th>\n",
       "      <th>members</th>\n",
       "      <th>favorites</th>\n",
       "    </tr>\n",
       "  </thead>\n",
       "  <tbody>\n",
       "    <tr>\n",
       "      <th>count</th>\n",
       "      <td>14478.00</td>\n",
       "      <td>14478.00</td>\n",
       "      <td>14478.00</td>\n",
       "    </tr>\n",
       "    <tr>\n",
       "      <th>mean</th>\n",
       "      <td>7220.26</td>\n",
       "      <td>22966.40</td>\n",
       "      <td>311.65</td>\n",
       "    </tr>\n",
       "    <tr>\n",
       "      <th>std</th>\n",
       "      <td>4170.08</td>\n",
       "      <td>74981.36</td>\n",
       "      <td>2615.55</td>\n",
       "    </tr>\n",
       "    <tr>\n",
       "      <th>min</th>\n",
       "      <td>0.00</td>\n",
       "      <td>0.00</td>\n",
       "      <td>0.00</td>\n",
       "    </tr>\n",
       "    <tr>\n",
       "      <th>25%</th>\n",
       "      <td>3611.50</td>\n",
       "      <td>245.00</td>\n",
       "      <td>0.00</td>\n",
       "    </tr>\n",
       "    <tr>\n",
       "      <th>50%</th>\n",
       "      <td>7225.50</td>\n",
       "      <td>1679.50</td>\n",
       "      <td>2.00</td>\n",
       "    </tr>\n",
       "    <tr>\n",
       "      <th>75%</th>\n",
       "      <td>10827.75</td>\n",
       "      <td>10379.00</td>\n",
       "      <td>23.00</td>\n",
       "    </tr>\n",
       "    <tr>\n",
       "      <th>max</th>\n",
       "      <td>14487.00</td>\n",
       "      <td>1456378.00</td>\n",
       "      <td>106895.00</td>\n",
       "    </tr>\n",
       "  </tbody>\n",
       "</table>\n",
       "</div>"
      ],
      "text/plain": [
       "       popularity     members  favorites\n",
       "count    14478.00    14478.00   14478.00\n",
       "mean      7220.26    22966.40     311.65\n",
       "std       4170.08    74981.36    2615.55\n",
       "min          0.00        0.00       0.00\n",
       "25%       3611.50      245.00       0.00\n",
       "50%       7225.50     1679.50       2.00\n",
       "75%      10827.75    10379.00      23.00\n",
       "max      14487.00  1456378.00  106895.00"
      ]
     },
     "execution_count": 112,
     "metadata": {},
     "output_type": "execute_result"
    }
   ],
   "source": [
    "# popularity, members, favorite\n",
    "np.round(anime_dropped[['popularity', 'members', 'favorites']].describe(),2)"
   ]
  },
  {
   "cell_type": "code",
   "execution_count": 113,
   "metadata": {},
   "outputs": [
    {
     "name": "stderr",
     "output_type": "stream",
     "text": [
      "/usr/lib/python3.10/site-packages/seaborn/_decorators.py:36: FutureWarning: Pass the following variables as keyword args: x, y. From version 0.12, the only valid positional argument will be `data`, and passing other arguments without an explicit keyword will result in an error or misinterpretation.\n",
      "  warnings.warn(\n"
     ]
    },
    {
     "data": {
      "image/png": "[encoded data removed]",
      "text/plain": [
       "<Figure size 1152x720 with 1 Axes>"
      ]
     },
     "metadata": {
      "needs_background": "light"
     },
     "output_type": "display_data"
    }
   ],
   "source": [
    "plt.figure(figsize=(16,10))\n",
    "sns.scatterplot(-anime_dropped.popularity, anime_dropped.members)\n",
    "plt.ticklabel_format(style='plain')"
   ]
  },
  {
   "cell_type": "code",
   "execution_count": 114,
   "metadata": {},
   "outputs": [
    {
     "name": "stderr",
     "output_type": "stream",
     "text": [
      "/usr/lib/python3.10/site-packages/seaborn/_decorators.py:36: FutureWarning: Pass the following variables as keyword args: x, y. From version 0.12, the only valid positional argument will be `data`, and passing other arguments without an explicit keyword will result in an error or misinterpretation.\n",
      "  warnings.warn(\n"
     ]
    },
    {
     "data": {
      "image/png": "[encoded data removed]",
      "text/plain": [
       "<Figure size 1152x720 with 1 Axes>"
      ]
     },
     "metadata": {
      "needs_background": "light"
     },
     "output_type": "display_data"
    }
   ],
   "source": [
    "plt.figure(figsize=(16,10))\n",
    "sns.scatterplot(-anime_dropped.popularity, anime_dropped.favorites)\n",
    "plt.ticklabel_format(style='plain')"
   ]
  },
  {
   "cell_type": "code",
   "execution_count": 115,
   "metadata": {},
   "outputs": [
    {
     "name": "stderr",
     "output_type": "stream",
     "text": [
      "/usr/lib/python3.10/site-packages/seaborn/_decorators.py:36: FutureWarning: Pass the following variables as keyword args: x, y. From version 0.12, the only valid positional argument will be `data`, and passing other arguments without an explicit keyword will result in an error or misinterpretation.\n",
      "  warnings.warn(\n"
     ]
    },
    {
     "data": {
      "image/png": "[encoded data removed]",
      "text/plain": [
       "<Figure size 1152x720 with 1 Axes>"
      ]
     },
     "metadata": {
      "needs_background": "light"
     },
     "output_type": "display_data"
    }
   ],
   "source": [
    "plt.figure(figsize=(16,10))\n",
    "sns.regplot(anime_dropped.members, anime_dropped.favorites)\n",
    "plt.ticklabel_format(style='plain')"
   ]
  },
  {
   "cell_type": "code",
   "execution_count": 116,
   "metadata": {},
   "outputs": [
    {
     "data": {
      "image/png": "[encoded data removed]",
      "text/plain": [
       "<Figure size 1152x720 with 1 Axes>"
      ]
     },
     "metadata": {
      "needs_background": "light"
     },
     "output_type": "display_data"
    }
   ],
   "source": [
    "plt.figure(figsize=(16,10))\n",
    "sns.scatterplot(anime_dropped.members, -anime_dropped[\"rank\"])\n",
    "plt.ticklabel_format(style='plain')"
   ]
  },
  {
   "cell_type": "markdown",
   "metadata": {},
   "source": [
    "### Background\n",
    "This column contains almost null values. Therefore, we would spend some amount of time to decide whether we should drop this column."
   ]
  },
  {
   "cell_type": "code",
   "execution_count": 117,
   "metadata": {},
   "outputs": [
    {
     "data": {
      "text/html": [
       "<div>\n",
       "<style scoped>\n",
       "    .dataframe tbody tr th:only-of-type {\n",
       "        vertical-align: middle;\n",
       "    }\n",
       "\n",
       "    .dataframe tbody tr th {\n",
       "        vertical-align: top;\n",
       "    }\n",
       "\n",
       "    .dataframe thead th {\n",
       "        text-align: right;\n",
       "    }\n",
       "</style>\n",
       "<table border=\"1\" class=\"dataframe\">\n",
       "  <thead>\n",
       "    <tr style=\"text-align: right;\">\n",
       "      <th></th>\n",
       "      <th>title</th>\n",
       "      <th>background</th>\n",
       "    </tr>\n",
       "  </thead>\n",
       "  <tbody>\n",
       "    <tr>\n",
       "      <th>0</th>\n",
       "      <td>Inu x Boku SS</td>\n",
       "      <td>Inu x Boku SS was licensed by Sentai Filmworks...</td>\n",
       "    </tr>\n",
       "    <tr>\n",
       "      <th>3</th>\n",
       "      <td>Princess Tutu</td>\n",
       "      <td>Princess Tutu aired in two parts. The first pa...</td>\n",
       "    </tr>\n",
       "    <tr>\n",
       "      <th>12</th>\n",
       "      <td>Sekaiichi Hatsukoi 2</td>\n",
       "      <td>An event to show ep.1 of season 2 (along with ...</td>\n",
       "    </tr>\n",
       "    <tr>\n",
       "      <th>14</th>\n",
       "      <td>Bleach</td>\n",
       "      <td>Bleach adapts the first 54 volumes of Tite Kub...</td>\n",
       "    </tr>\n",
       "    <tr>\n",
       "      <th>15</th>\n",
       "      <td>Chobits</td>\n",
       "      <td>The original episodes 9 and 18 are \"recap\" epi...</td>\n",
       "    </tr>\n",
       "  </tbody>\n",
       "</table>\n",
       "</div>"
      ],
      "text/plain": [
       "                   title                                         background\n",
       "0          Inu x Boku SS  Inu x Boku SS was licensed by Sentai Filmworks...\n",
       "3          Princess Tutu  Princess Tutu aired in two parts. The first pa...\n",
       "12  Sekaiichi Hatsukoi 2  An event to show ep.1 of season 2 (along with ...\n",
       "14                Bleach  Bleach adapts the first 54 volumes of Tite Kub...\n",
       "15               Chobits  The original episodes 9 and 18 are \"recap\" epi..."
      ]
     },
     "execution_count": 117,
     "metadata": {},
     "output_type": "execute_result"
    }
   ],
   "source": [
    "anime_dropped[~anime_dropped.background.isnull()][[\"title\", \"background\"]].head()"
   ]
  },
  {
   "cell_type": "code",
   "execution_count": 118,
   "metadata": {},
   "outputs": [
    {
     "name": "stdout",
     "output_type": "stream",
     "text": [
      "background    Inu x Boku SS was licensed by Sentai Filmworks...\n",
      "Name: 0, dtype: object\n"
     ]
    }
   ],
   "source": [
    "print(anime_dropped.loc[0,[\"background\"]])"
   ]
  },
  {
   "cell_type": "markdown",
   "metadata": {},
   "source": [
    "We can see that the background consists some redundant for the first 2 animes that have values. For `Inu x Boku SS`, the information contains the licensor, which is the same as `licensor` column."
   ]
  },
  {
   "cell_type": "code",
   "execution_count": 119,
   "metadata": {},
   "outputs": [
    {
     "data": {
      "text/plain": [
       "title                                             Inu x Boku SS\n",
       "background    Inu x Boku SS was licensed by Sentai Filmworks...\n",
       "licensor                                       Sentai Filmworks\n",
       "Name: 0, dtype: object"
      ]
     },
     "execution_count": 119,
     "metadata": {},
     "output_type": "execute_result"
    }
   ],
   "source": [
    "anime_dropped.loc[0,[\"title\",\"background\",\"licensor\"]]"
   ]
  },
  {
   "cell_type": "markdown",
   "metadata": {},
   "source": [
    "My first thought is, `background` column would represent the origin of the anime. Therefore, it would give the same information as `producer`, `licensor`, `source`, `type` and `related`. Moreover, over 90% values of this column is null. As a result, we could consider dropping this column."
   ]
  },
  {
   "cell_type": "code",
   "execution_count": 120,
   "metadata": {},
   "outputs": [],
   "source": [
    "anime_dropped_back = anime_dropped.drop(columns=[\"background\"])"
   ]
  },
  {
   "cell_type": "markdown",
   "metadata": {},
   "source": [
    "### Related"
   ]
  },
  {
   "cell_type": "markdown",
   "metadata": {},
   "source": [
    "We transformed `related` from string representation of a dict to `dict` in the previous section."
   ]
  },
  {
   "cell_type": "code",
   "execution_count": 121,
   "metadata": {},
   "outputs": [
    {
     "data": {
      "text/plain": [
       "0    {'Adaptation': [{'mal_id': 17207, 'type': 'man...\n",
       "1    {'Adaptation': [{'mal_id': 759, 'type': 'manga...\n",
       "2    {'Adaptation': [{'mal_id': 101, 'type': 'manga...\n",
       "3    {'Adaptation': [{'mal_id': 1581, 'type': 'mang...\n",
       "4    {'Adaptation': [{'mal_id': 9711, 'type': 'mang...\n",
       "Name: related, dtype: object"
      ]
     },
     "execution_count": 121,
     "metadata": {},
     "output_type": "execute_result"
    }
   ],
   "source": [
    "anime_dropped_back.related.head()"
   ]
  },
  {
   "cell_type": "code",
   "execution_count": 122,
   "metadata": {},
   "outputs": [
    {
     "data": {
      "text/plain": [
       "{'Adaptation': [{'mal_id': 17207,\n",
       "   'type': 'manga',\n",
       "   'url': 'https://myanimelist.net/manga/17207/Inu_x_Boku_SS',\n",
       "   'title': 'Inu x Boku SS'}],\n",
       " 'Sequel': [{'mal_id': 13403,\n",
       "   'type': 'anime',\n",
       "   'url': 'https://myanimelist.net/anime/13403/Inu_x_Boku_SS_Special',\n",
       "   'title': 'Inu x Boku SS Special'}]}"
      ]
     },
     "execution_count": 122,
     "metadata": {},
     "output_type": "execute_result"
    }
   ],
   "source": [
    "anime_dropped_back.related[0]"
   ]
  },
  {
   "cell_type": "markdown",
   "metadata": {},
   "source": [
    "It seems that there are different keys on the `related` column. Moreover, since there is a N-N relationship `Related` from the animes, we would like to change `related` column into a new Relationship:\n",
    "-  `Related(anime_id, related_anime_id, relation_type)`\n",
    "\n",
    "Additionally, `Inu x Boku SS` has the Adaptation of manga, but in this dataset, we only has anime. Therefore, we must remove any relation with `type` different than `anime`. We can remove the `url` and the `title` from the Relation as this is not needed."
   ]
  },
  {
   "cell_type": "markdown",
   "metadata": {},
   "source": [
    "First of all, we would retrieve all the possible relationships."
   ]
  },
  {
   "cell_type": "code",
   "execution_count": 123,
   "metadata": {},
   "outputs": [],
   "source": [
    "keys = anime_dropped_back.related.apply(lambda relation: set(relation.keys()) if isinstance(relation,dict) else {})"
   ]
  },
  {
   "cell_type": "code",
   "execution_count": 124,
   "metadata": {},
   "outputs": [
    {
     "data": {
      "text/plain": [
       "0                                 {Sequel, Adaptation}\n",
       "1    {Sequel, Side story, Adaptation, Alternative v...\n",
       "2                        {Prequel, Sequel, Adaptation}\n",
       "3                                {Summary, Adaptation}\n",
       "4                         {Prequel, Other, Adaptation}\n",
       "Name: related, dtype: object"
      ]
     },
     "execution_count": 124,
     "metadata": {},
     "output_type": "execute_result"
    }
   ],
   "source": [
    "keys.head()"
   ]
  },
  {
   "cell_type": "code",
   "execution_count": 125,
   "metadata": {},
   "outputs": [],
   "source": [
    "relation_list = set.union(*keys)"
   ]
  },
  {
   "cell_type": "code",
   "execution_count": 126,
   "metadata": {},
   "outputs": [
    {
     "data": {
      "text/plain": [
       "{'Adaptation',\n",
       " 'Alternative setting',\n",
       " 'Alternative version',\n",
       " 'Character',\n",
       " 'Full story',\n",
       " 'Other',\n",
       " 'Parent story',\n",
       " 'Prequel',\n",
       " 'Sequel',\n",
       " 'Side story',\n",
       " 'Spin-off',\n",
       " 'Summary'}"
      ]
     },
     "execution_count": 126,
     "metadata": {},
     "output_type": "execute_result"
    }
   ],
   "source": [
    "relation_list"
   ]
  },
  {
   "cell_type": "code",
   "execution_count": 127,
   "metadata": {},
   "outputs": [],
   "source": [
    "relation = []\n",
    "for i in range(anime_dropped_back.shape[0]):\n",
    "    if isinstance(anime_dropped_back[\"related\"][i], dict):\n",
    "        for key in anime_dropped_back[\"related\"][i].keys():\n",
    "            for value in range(len(anime_dropped_back[\"related\"][i][key])):\n",
    "                if anime_dropped_back[\"related\"][i][key][value][\"type\"] == \"anime\":\n",
    "                    relation.append([anime_dropped_back.anime_id[i], anime_dropped_back[\"related\"][i][key][value][\"mal_id\"], key])"
   ]
  },
  {
   "cell_type": "code",
   "execution_count": 128,
   "metadata": {},
   "outputs": [],
   "source": [
    "related = pd.DataFrame(relation, columns=[\"anime_id\", \"related_anime_id\", \"relation_type\"])"
   ]
  },
  {
   "cell_type": "code",
   "execution_count": 129,
   "metadata": {},
   "outputs": [
    {
     "data": {
      "text/html": [
       "<div>\n",
       "<style scoped>\n",
       "    .dataframe tbody tr th:only-of-type {\n",
       "        vertical-align: middle;\n",
       "    }\n",
       "\n",
       "    .dataframe tbody tr th {\n",
       "        vertical-align: top;\n",
       "    }\n",
       "\n",
       "    .dataframe thead th {\n",
       "        text-align: right;\n",
       "    }\n",
       "</style>\n",
       "<table border=\"1\" class=\"dataframe\">\n",
       "  <thead>\n",
       "    <tr style=\"text-align: right;\">\n",
       "      <th></th>\n",
       "      <th>anime_id</th>\n",
       "      <th>related_anime_id</th>\n",
       "      <th>relation_type</th>\n",
       "    </tr>\n",
       "  </thead>\n",
       "  <tbody>\n",
       "    <tr>\n",
       "      <th>0</th>\n",
       "      <td>11013</td>\n",
       "      <td>13403</td>\n",
       "      <td>Sequel</td>\n",
       "    </tr>\n",
       "    <tr>\n",
       "      <th>1</th>\n",
       "      <td>2104</td>\n",
       "      <td>4163</td>\n",
       "      <td>Sequel</td>\n",
       "    </tr>\n",
       "    <tr>\n",
       "      <th>2</th>\n",
       "      <td>2104</td>\n",
       "      <td>5199</td>\n",
       "      <td>Side story</td>\n",
       "    </tr>\n",
       "    <tr>\n",
       "      <th>3</th>\n",
       "      <td>2104</td>\n",
       "      <td>28385</td>\n",
       "      <td>Alternative version</td>\n",
       "    </tr>\n",
       "    <tr>\n",
       "      <th>4</th>\n",
       "      <td>5262</td>\n",
       "      <td>2923</td>\n",
       "      <td>Prequel</td>\n",
       "    </tr>\n",
       "  </tbody>\n",
       "</table>\n",
       "</div>"
      ],
      "text/plain": [
       "   anime_id  related_anime_id        relation_type\n",
       "0     11013             13403               Sequel\n",
       "1      2104              4163               Sequel\n",
       "2      2104              5199           Side story\n",
       "3      2104             28385  Alternative version\n",
       "4      5262              2923              Prequel"
      ]
     },
     "execution_count": 129,
     "metadata": {},
     "output_type": "execute_result"
    }
   ],
   "source": [
    "related.head()"
   ]
  },
  {
   "cell_type": "code",
   "execution_count": 130,
   "metadata": {},
   "outputs": [],
   "source": [
    "related.to_csv(\"../../data/csv/output/related.csv\", index=False)"
   ]
  },
  {
   "cell_type": "code",
   "execution_count": 131,
   "metadata": {},
   "outputs": [],
   "source": [
    "anime_dropped_related = anime_dropped_back.drop(columns=[\"related\"])"
   ]
  },
  {
   "cell_type": "markdown",
   "metadata": {},
   "source": [
    "### Creators"
   ]
  },
  {
   "cell_type": "code",
   "execution_count": 132,
   "metadata": {},
   "outputs": [
    {
     "data": {
      "text/html": [
       "<div>\n",
       "<style scoped>\n",
       "    .dataframe tbody tr th:only-of-type {\n",
       "        vertical-align: middle;\n",
       "    }\n",
       "\n",
       "    .dataframe tbody tr th {\n",
       "        vertical-align: top;\n",
       "    }\n",
       "\n",
       "    .dataframe thead th {\n",
       "        text-align: right;\n",
       "    }\n",
       "</style>\n",
       "<table border=\"1\" class=\"dataframe\">\n",
       "  <thead>\n",
       "    <tr style=\"text-align: right;\">\n",
       "      <th></th>\n",
       "      <th>anime_id</th>\n",
       "      <th>producer</th>\n",
       "      <th>licensor</th>\n",
       "      <th>studio</th>\n",
       "    </tr>\n",
       "  </thead>\n",
       "  <tbody>\n",
       "    <tr>\n",
       "      <th>0</th>\n",
       "      <td>11013</td>\n",
       "      <td>Aniplex, Square Enix, Mainichi Broadcasting Sy...</td>\n",
       "      <td>Sentai Filmworks</td>\n",
       "      <td>David Production</td>\n",
       "    </tr>\n",
       "    <tr>\n",
       "      <th>1</th>\n",
       "      <td>2104</td>\n",
       "      <td>TV Tokyo, AIC, Square Enix, Sotsu</td>\n",
       "      <td>Funimation</td>\n",
       "      <td>Gonzo</td>\n",
       "    </tr>\n",
       "    <tr>\n",
       "      <th>2</th>\n",
       "      <td>5262</td>\n",
       "      <td>TV Tokyo, Sotsu</td>\n",
       "      <td>NaN</td>\n",
       "      <td>Satelight</td>\n",
       "    </tr>\n",
       "    <tr>\n",
       "      <th>3</th>\n",
       "      <td>721</td>\n",
       "      <td>Memory-Tech, GANSIS, Marvelous AQL</td>\n",
       "      <td>ADV Films</td>\n",
       "      <td>Hal Film Maker</td>\n",
       "    </tr>\n",
       "    <tr>\n",
       "      <th>4</th>\n",
       "      <td>12365</td>\n",
       "      <td>NHK, Shueisha</td>\n",
       "      <td>NaN</td>\n",
       "      <td>J.C.Staff</td>\n",
       "    </tr>\n",
       "  </tbody>\n",
       "</table>\n",
       "</div>"
      ],
      "text/plain": [
       "   anime_id                                           producer  \\\n",
       "0     11013  Aniplex, Square Enix, Mainichi Broadcasting Sy...   \n",
       "1      2104                  TV Tokyo, AIC, Square Enix, Sotsu   \n",
       "2      5262                                    TV Tokyo, Sotsu   \n",
       "3       721                 Memory-Tech, GANSIS, Marvelous AQL   \n",
       "4     12365                                      NHK, Shueisha   \n",
       "\n",
       "           licensor            studio  \n",
       "0  Sentai Filmworks  David Production  \n",
       "1        Funimation             Gonzo  \n",
       "2               NaN         Satelight  \n",
       "3         ADV Films    Hal Film Maker  \n",
       "4               NaN         J.C.Staff  "
      ]
     },
     "execution_count": 132,
     "metadata": {},
     "output_type": "execute_result"
    }
   ],
   "source": [
    "anime_dropped_related[[\"anime_id\", 'producer', 'licensor','studio']].head()"
   ]
  },
  {
   "cell_type": "markdown",
   "metadata": {},
   "source": [
    "There are many producers per anime. Moreover, a producer can produce lots of animes. Therefore, we can create a `Producer` entity, which has the following schema `(producer_id, producer_name)`. Then create a relationship `Produces` which has the schema of `(anime_id, producer_id)`"
   ]
  },
  {
   "cell_type": "code",
   "execution_count": 133,
   "metadata": {},
   "outputs": [
    {
     "data": {
      "text/plain": [
       "producer     6190\n",
       "licensor    11105\n",
       "studio       5934\n",
       "dtype: int64"
      ]
     },
     "execution_count": 133,
     "metadata": {},
     "output_type": "execute_result"
    }
   ],
   "source": [
    "anime_dropped_related[['producer', 'licensor','studio']].isnull().sum()"
   ]
  },
  {
   "cell_type": "code",
   "execution_count": 134,
   "metadata": {},
   "outputs": [],
   "source": [
    "def create_list(value):\n",
    "    if isinstance(value, str):\n",
    "        return set(value.split(\", \"))\n",
    "    return {}"
   ]
  },
  {
   "cell_type": "code",
   "execution_count": 135,
   "metadata": {},
   "outputs": [],
   "source": [
    "producer = anime_dropped_related.producer.apply(create_list)"
   ]
  },
  {
   "cell_type": "code",
   "execution_count": 136,
   "metadata": {},
   "outputs": [
    {
     "data": {
      "text/plain": [
       "['Cookie Jar Entertainment',\n",
       " \"I'm Enterprise\",\n",
       " 'Toppan Printing',\n",
       " 'Sanyo Bussan',\n",
       " 'Crunchyroll SC Anime Fund',\n",
       " 'Techno Sound',\n",
       " 'Studio Izena',\n",
       " 'Jam',\n",
       " 'Assez Finaud Fabric',\n",
       " 'Wako Productions',\n",
       " 'Pazzy Entertainment',\n",
       " 'Cosmic Ray',\n",
       " 'Ajia-Do',\n",
       " 'Agent 21',\n",
       " 'Diabolik Lovers MB Project',\n",
       " 'Visual 80',\n",
       " 'Studio Tron',\n",
       " 'Usagi Ou',\n",
       " 'Dream Force',\n",
       " 'Tokai Television',\n",
       " 'SBS TV Production',\n",
       " 'Amber Film Works',\n",
       " 'Seta Corporation',\n",
       " 'C &amp; I entertainment',\n",
       " 'Digital Media Lab',\n",
       " 'Just Pro',\n",
       " 'Union Cho',\n",
       " 'RoiVisual',\n",
       " 'Emon',\n",
       " 'Image Kei',\n",
       " 'Shogakukan Productions',\n",
       " 'LIDENFILMS',\n",
       " 'KlockWorx',\n",
       " 'Group TAC',\n",
       " 'Fuji Pacific Music Publishing',\n",
       " 'King Records',\n",
       " 'Studio Kelmadick',\n",
       " 'TUBA',\n",
       " 'Imagin',\n",
       " 'Enterbrain',\n",
       " 'Meruhensha',\n",
       " 'Sumitomo',\n",
       " 'Jinnis Animation Studios',\n",
       " 'Studio Anima',\n",
       " 'Avaco Creative Studios',\n",
       " 'Chugai Mining Co.',\n",
       " 'Hisashishi Videos',\n",
       " 'Kokusai Eigasha',\n",
       " 'Toho',\n",
       " 'Lune Pictures',\n",
       " 'NIANTIC',\n",
       " 'Azeta Pictures',\n",
       " 'Sola Digital Arts',\n",
       " 'DMM.futureworks',\n",
       " 'Nichion',\n",
       " 'KENMedia',\n",
       " 'Koei Tecmo Games',\n",
       " 'Mippei Eigeki Kiryuukan',\n",
       " 'Highlights Entertainment',\n",
       " 'RTHK',\n",
       " 'Azumaker',\n",
       " 'Tokyo Movie Shinsha',\n",
       " 'Postgal Workshop',\n",
       " 'Ashi Production',\n",
       " 'AKABEiSOFT2',\n",
       " 'Bulls Eye',\n",
       " 'CIC',\n",
       " 'Kyotoma',\n",
       " 'Delfi Sound',\n",
       " 'Lastrum Music',\n",
       " 'D.A.S.T.',\n",
       " 'L.',\n",
       " 'SKY Perfect Well Think',\n",
       " 'Daiichikosho',\n",
       " 'Frencel',\n",
       " 'DMM.com',\n",
       " 'Victor Entertainment',\n",
       " 'Tonko House',\n",
       " 'Hiroshi Planning',\n",
       " 'Infinite',\n",
       " 'MS Pictures',\n",
       " 'Mag Garden',\n",
       " 'Coolism Productions',\n",
       " 'Animation 21',\n",
       " 'Zack Promotion',\n",
       " 'Cyclone Graphics inc',\n",
       " 'AG-ONE',\n",
       " 'Tokyu Recreation',\n",
       " 'bilibili',\n",
       " 'Digiturbo',\n",
       " 'JM Animation',\n",
       " 'Movic',\n",
       " 'Tsuburaya Productions',\n",
       " 'tsuritama partners',\n",
       " 'NAZ',\n",
       " 'Parco',\n",
       " 'Sunwoo Entertainment',\n",
       " 'Atelier Musa',\n",
       " 'Polygon Pictures',\n",
       " 'Universal Music Japan',\n",
       " 'Studio Dadashow',\n",
       " 'Tavac',\n",
       " 'Success Co.',\n",
       " 'Vega Entertainment',\n",
       " 'Three Fat Samurai',\n",
       " 'Imagica',\n",
       " 'Trans Arts',\n",
       " 'EMI',\n",
       " 'Japan Home Video',\n",
       " 'Oh! Production',\n",
       " 'Sony Music Communications',\n",
       " 'Soft on Demand',\n",
       " 'Happy Elements',\n",
       " 'LTD.',\n",
       " 'Media Blasters',\n",
       " 'Phoenix Entertainment',\n",
       " 'Echoes',\n",
       " 'Links',\n",
       " 'ensky',\n",
       " 'Universal Pictures Japan',\n",
       " 'Aubec',\n",
       " 'Shinwon Productions',\n",
       " 'TCJ',\n",
       " 'Project IS',\n",
       " 'Studio MWP',\n",
       " 'Fuji Video',\n",
       " 'Studio Cab',\n",
       " 'Nippon Television Network',\n",
       " 'Bee Train',\n",
       " 'Schoolzone',\n",
       " 'Tokyo MX',\n",
       " 'Khara',\n",
       " 'Kujou-kun no Bonnou wo Mimamoru-kai',\n",
       " 'Yoshimoto Creative Agency',\n",
       " 'KAGAYA Studio',\n",
       " '1st PLACE',\n",
       " 'Studio Junio',\n",
       " 'Carp Studio',\n",
       " 'Wonder Kids',\n",
       " 'T.O Entertainment',\n",
       " 'Project No.9',\n",
       " 'Beijing Sunchime Happy Culture Company',\n",
       " 'Soft Garage',\n",
       " 'Marza Animation Planet',\n",
       " 'Daiei',\n",
       " 'Viki',\n",
       " 'I was a Ballerina',\n",
       " 'Heroz',\n",
       " 'Sanyo',\n",
       " 'Shinyusha',\n",
       " 'Donuts',\n",
       " 'Ankama',\n",
       " 'Kyoraku Industrial Holdings',\n",
       " 'Epoch',\n",
       " 'NHK-BS2',\n",
       " 'Silky’s',\n",
       " 'Sony Pictures Entertainment',\n",
       " 'Takahashi Studio',\n",
       " 'Digital Frontier',\n",
       " 'Project Team Eikyuu Kikan',\n",
       " 'Studio Flag',\n",
       " 'Kawamoto Productions',\n",
       " 'famima.com',\n",
       " 'Shinano Kikaku',\n",
       " 'Nihon Hoso Eigasha',\n",
       " 'TV Asahi',\n",
       " 'Dynamo Pictures',\n",
       " 'Studio Mir',\n",
       " \"Toy's Factory\",\n",
       " 'Akita Shoten',\n",
       " 'G.CMay Animation &amp; Film',\n",
       " 'Studio Kuma',\n",
       " 'Hulu',\n",
       " 'INCS toenter',\n",
       " 'Studio Core',\n",
       " 'Think Corporation',\n",
       " 'N&amp;G Production',\n",
       " 'Koei',\n",
       " 'Five Ways',\n",
       " 'KLab',\n",
       " 'Studio CHANT',\n",
       " 'Marui Group',\n",
       " 'Sakura Color Film',\n",
       " 'Quick Corporation',\n",
       " 'Daichi Doga',\n",
       " 'Studio Tulip',\n",
       " 'Byakuya Shobo',\n",
       " 'Calf Studio',\n",
       " 'Soyuzmultfilm',\n",
       " 'Memory-Tech',\n",
       " 'Casio Entertainment',\n",
       " 'Itasca Studio',\n",
       " 'L²Studio',\n",
       " 'TV Aichi',\n",
       " 'Film Workshop',\n",
       " 'Peter Pan Creation',\n",
       " 'Orchid Seed',\n",
       " 'Future Planet',\n",
       " 'Banpresto',\n",
       " 'Studio Binzo',\n",
       " 'Myung Films',\n",
       " 'Fanworks',\n",
       " 'Studio GOONEYS',\n",
       " 'Critical Mass Video',\n",
       " 'Gendai Production',\n",
       " 'Beijing Rocen Digital',\n",
       " 'Heewon Entertainment',\n",
       " 'Benesse Corporation',\n",
       " 'AYCO',\n",
       " 'Tokyo University of the Arts',\n",
       " 'Nikkatsu',\n",
       " 'Dongyang Animation',\n",
       " 'Kids Station',\n",
       " 'China Animation Characters',\n",
       " 'Planet',\n",
       " 'Being',\n",
       " 'Fields',\n",
       " 'Universal Radio Studio',\n",
       " 'Radix',\n",
       " 'Square Enix',\n",
       " 'Hakusensha',\n",
       " 'Oz',\n",
       " 'Studio Matrix',\n",
       " 'DeNA',\n",
       " 'THINKR',\n",
       " 'AniMan',\n",
       " 'Tezuka Productions',\n",
       " 'Wit Studio',\n",
       " 'Knack Productions',\n",
       " 'Milky Cartoon',\n",
       " 'Maikaze',\n",
       " 'BEAM Entertainment',\n",
       " 'Sogo Vision',\n",
       " 'Meiji Seika',\n",
       " 'teamKG',\n",
       " 'Top Marshal',\n",
       " 'Senran Kagura Partners',\n",
       " 'Gold Bear',\n",
       " 'Takeshobo',\n",
       " 'APPP',\n",
       " 'Kyodo Eiga',\n",
       " 'Studio A-CAT',\n",
       " 'Iyasakadou Film',\n",
       " 'RCC Chugoku Broadcasting',\n",
       " 'Katsudou-manga-kan',\n",
       " 'Voyager Entertainment',\n",
       " 'Wawayu Animation',\n",
       " 'Fuji&amp;gumi Games',\n",
       " 'Kotobukiya',\n",
       " 'HeART-BIT',\n",
       " 'FUJIYAMA PROJECT JAPAN',\n",
       " 'Tencent Penguin Pictures',\n",
       " 'Tosho Printing',\n",
       " 'JTB Entertainment',\n",
       " 'Natsuiro Kiseki Production Partners',\n",
       " 'The Answer Studio',\n",
       " 'Glovision',\n",
       " 'PoRO',\n",
       " 'A-Craft',\n",
       " 'Filmlink International',\n",
       " 'Nippon Ichi Software',\n",
       " 'Bandai Namco Rights Marketing',\n",
       " 'Dynamic Planning',\n",
       " 'Mad Box',\n",
       " 'Studio Ponoc',\n",
       " 'Bishop',\n",
       " 'Hipland Music Corporation',\n",
       " 'Haoliners Animation League',\n",
       " 'DJI',\n",
       " 'Zexcs',\n",
       " 'Chrono Gear Creative',\n",
       " 'On The Run',\n",
       " 'Frontier Works',\n",
       " 'Dwango',\n",
       " 'Medicos Entertainment',\n",
       " 'Quaras',\n",
       " 'Jade Animation',\n",
       " 'Natural High',\n",
       " 'Panda Factory',\n",
       " 'Marubeni',\n",
       " 'Datam Polystar',\n",
       " 'Plum',\n",
       " 'Anime Consortium Japan',\n",
       " 'StudioRF Inc.',\n",
       " 'Studio Hibari',\n",
       " 'C2C',\n",
       " 'Cospa',\n",
       " 'ACC Production',\n",
       " 'Trinity Sound',\n",
       " 'Overlap',\n",
       " 'Rambling Records',\n",
       " 'ZOOM ENTERPRISE',\n",
       " 'Kimi To Boku Production Partners',\n",
       " 'DR Movie',\n",
       " 'Imagica West',\n",
       " 'Tencent Japan',\n",
       " 'Plus Heads',\n",
       " 'D.N.dreampartners',\n",
       " 'CyberConnect2',\n",
       " 'Venus Vangard',\n",
       " 'm.o.e.',\n",
       " 'Walt Disney Studios',\n",
       " 'YTV',\n",
       " 'RAMS',\n",
       " 'DIVE II Entertainment',\n",
       " 'Rondo Robe',\n",
       " 'Studio Eromatick',\n",
       " 'Forecast Communications',\n",
       " 'Yomiko Advertising',\n",
       " 'KEN ON',\n",
       " 'Jay Zone Comic',\n",
       " 'Sakura Production',\n",
       " 'Network',\n",
       " 'Kakao Japan',\n",
       " 'Level-5',\n",
       " 'Tokuma Shoten',\n",
       " 'Studio Live',\n",
       " 'NTT Plala',\n",
       " 'Studio Signal',\n",
       " 'Slowcurve',\n",
       " 'Starchild Records',\n",
       " 'TOHO animation',\n",
       " 'Sovat Theater',\n",
       " 'HoriPro',\n",
       " 'Diomedea',\n",
       " 'Yili Animation Studio',\n",
       " 'Saban Brands',\n",
       " 'P-Vine Records',\n",
       " 'Hasbro',\n",
       " 'Toshiba Digital Frontiers',\n",
       " 'CherryLips',\n",
       " 'Tokyo Animation Film',\n",
       " 'Chippai',\n",
       " 'Nitroplus',\n",
       " 'Egg Firm',\n",
       " 'Actas',\n",
       " 'BOOTLEG',\n",
       " 'Panasonic Digital Contents',\n",
       " 'Daume',\n",
       " 'Studio LAN',\n",
       " 'BeSTACK',\n",
       " 'Hokkaido Azmacy',\n",
       " 'Volks',\n",
       " 'NHK',\n",
       " 'comico',\n",
       " 'e-notion',\n",
       " 'Pastel',\n",
       " 'RAB Aomori Broadcasting',\n",
       " 'Hobi Animation',\n",
       " 'Amgakuin',\n",
       " 'Penta Show Studios',\n",
       " 'Tose',\n",
       " 'Viz Media',\n",
       " 'XFLAG Pictures',\n",
       " 'The Berich',\n",
       " '12 Diary Holders',\n",
       " 'Kinoshita Koumuten',\n",
       " 'K-Factory',\n",
       " 'd-rights',\n",
       " 'Cocoro Free',\n",
       " 'North Stars Pictures',\n",
       " 'Studio Curtain',\n",
       " 'Creek &amp; River',\n",
       " 'Allure',\n",
       " 'Sapporo Television Broadcasting',\n",
       " 'Misseri Studio',\n",
       " 'Bandai Visual',\n",
       " 'Rabbit Gate',\n",
       " 'AT-X',\n",
       " 'Life Work',\n",
       " 'Baramiri',\n",
       " 'P Productions',\n",
       " 'Zero-G Room',\n",
       " 'Studio GDW',\n",
       " 'TAP',\n",
       " 'Kojiro Shishido Animation Works',\n",
       " 'TMS Entertainment',\n",
       " 'Moonstone Cherry',\n",
       " 'Fujimi Shobo',\n",
       " 'SynergySP',\n",
       " 'Hakoniwa Academy Student Council',\n",
       " 'Production I.G',\n",
       " 'BreakBottle',\n",
       " 'Kadokawa Media (Taiwan)',\n",
       " 'Ripromo',\n",
       " 'Ginga Ya',\n",
       " 'Kodansha',\n",
       " 'Grouper Productions',\n",
       " 'OLE-M',\n",
       " 'Studio Gram',\n",
       " 'AIR AGENCY',\n",
       " 'Picante Circus',\n",
       " 'Nagoya TV Housou',\n",
       " 'Alchemist',\n",
       " 'Melonbooks',\n",
       " 'Collaboration Works',\n",
       " 'WField',\n",
       " 'Maru Production',\n",
       " 'Kino Production',\n",
       " 'CyberStep',\n",
       " 'Picture Magic',\n",
       " 'Chukyo TV Broadcasting',\n",
       " 'Shanghai Jump Network Technology',\n",
       " 'Mirai Film',\n",
       " 'Bandai Namco Pictures',\n",
       " 'Nippon Television Music',\n",
       " 'Comic Umenohone',\n",
       " 'Fuji TV',\n",
       " 'Animate Film',\n",
       " 'BS Fuji',\n",
       " 'Kyoto Animation',\n",
       " 'Shinshokan',\n",
       " 'BeeWorks',\n",
       " 'Strawberry Meets Pictures',\n",
       " 'Seven',\n",
       " 'Nomad',\n",
       " 'Toei Animation',\n",
       " 'Media Bank',\n",
       " 'Obtain Future',\n",
       " 'A-Line',\n",
       " 'Kansai Telecasting',\n",
       " 'Nexon',\n",
       " 'Decovocal',\n",
       " 'Horannabi',\n",
       " 'Sunny Side Up',\n",
       " 'BIGFACE',\n",
       " 'J.C.Staff',\n",
       " 'AKOM',\n",
       " 'Kamio Japan',\n",
       " 'M.S.C',\n",
       " 'Mitsubishi',\n",
       " 'DiC Entertainment',\n",
       " 'Kyowa Film',\n",
       " 'Shinkuukan',\n",
       " 'Pashmina',\n",
       " 'Yomiuri Telecasting',\n",
       " 'Mirai Records',\n",
       " 'Nihon Ad Systems',\n",
       " 'Discovery',\n",
       " 'GAGA',\n",
       " 'Animatsu Entertainment',\n",
       " 'DOGA Productions',\n",
       " 'SIDO LIMITED',\n",
       " 'Shin-Ei Animation',\n",
       " 'Anpro',\n",
       " 'Seven Stone Entertainment',\n",
       " 'Space Shower Music',\n",
       " 'Enoki Films',\n",
       " 'Bandai Namco Games',\n",
       " 'TV Setouchi',\n",
       " 'CyberAgent',\n",
       " 'Studio Fantasia',\n",
       " 'Adult Source Media',\n",
       " 'SELFISH',\n",
       " 'Studio Zealot',\n",
       " 'Indeprox',\n",
       " 'Kadokawa Shoten',\n",
       " 'Ai Addiction',\n",
       " 'XFLAG',\n",
       " 'Hero Communication',\n",
       " 'Suzuki Mirano',\n",
       " 'Hokkaido Cultural Broadcasting',\n",
       " 'Tokyo FM Broadcasting CO.',\n",
       " \"Visual Art's\",\n",
       " 'Animaruya',\n",
       " 'COLOPL',\n",
       " 'Colored-Pencil Animation Design',\n",
       " 'Lemon Heart',\n",
       " 'Epicross',\n",
       " 'Front Line',\n",
       " 'Asmik Ace Entertainment',\n",
       " 'Shanghai Animation Film Studio',\n",
       " 'Yuhodo',\n",
       " 'Oddjob',\n",
       " 'Tokuma Japan Communications',\n",
       " 'PansonWorks',\n",
       " 'Medicrie',\n",
       " 'dwarf',\n",
       " 'Pioneer LDC',\n",
       " 'Academy Productions',\n",
       " 'Himeyuri Alumnae Incorporated Foundation',\n",
       " 'AQUAPLUS',\n",
       " 'G&amp;G Entertainment',\n",
       " 'A-1 Pictures',\n",
       " 'Flex Comix',\n",
       " 'SPO Entertainment',\n",
       " 'Pink Pineapple',\n",
       " 'Sav! The World Productions',\n",
       " 'Green Bunny',\n",
       " 'Media Castle',\n",
       " 'Blue Eyes',\n",
       " 'Inu x Boku SS Production Partners',\n",
       " 'Tatsunoko Production',\n",
       " 'Iwatobi High School Swimming Club',\n",
       " 'Lawson HMV Entertainment',\n",
       " 'Nihon Falcom',\n",
       " 'Cinema Tohoku',\n",
       " 'PPP',\n",
       " 'Tin House',\n",
       " 'Chukong Technologies',\n",
       " 'UM Productions',\n",
       " 'Studio Wombat',\n",
       " 'Studio Unicorn',\n",
       " 'Sound Team Don Juan',\n",
       " 'Eye Move',\n",
       " 'Chungeorahm Film',\n",
       " 'Aniplex of America',\n",
       " 'Shinchosha',\n",
       " 'Avex Entertainment',\n",
       " 'Sony PCL',\n",
       " 'Studio Rikka',\n",
       " 'iQIYI',\n",
       " 'Solid Vox',\n",
       " 'FOREST Hunting One',\n",
       " 'Studio Blanc',\n",
       " 'Media Rings',\n",
       " 'Raku High Student Council',\n",
       " 'Shanghai Motion Magic',\n",
       " 'ElectromagneticWave',\n",
       " 'BS-TBS',\n",
       " 'Angelfish',\n",
       " 'Magic Lantern Film',\n",
       " 'Genco',\n",
       " 'Studio Jack',\n",
       " 'Asahi Production',\n",
       " 'Studio AWAKE',\n",
       " 'Kinyosha',\n",
       " 'NOTTV',\n",
       " 'ZERO-A',\n",
       " 'Trans Cosmos',\n",
       " 'GEN Productions',\n",
       " 'Studio Ghibli',\n",
       " 'Creative Power Entertaining',\n",
       " 'Sotsu',\n",
       " 'Studio Nue',\n",
       " 'Tama Production',\n",
       " 'Cromea',\n",
       " 'Trigger',\n",
       " 'Tomoyasu Murata Company',\n",
       " \"Steve N' Steven\",\n",
       " 'Abema TV',\n",
       " 'Grooove',\n",
       " 'Tencent Animation',\n",
       " 'Opera House',\n",
       " 'Milestone Music Publishing',\n",
       " 'Beyond C.',\n",
       " 'ANIK',\n",
       " 'Avex Pictures',\n",
       " 'RAY',\n",
       " 'Light Chaser Animation Studios',\n",
       " 'chara-ani.com',\n",
       " 'Hoods Entertainment',\n",
       " 'Dai Nippon Printing',\n",
       " 'Shochiku',\n",
       " 'Directions',\n",
       " 'Polygram Japan',\n",
       " 'Nelvana',\n",
       " 'TYO',\n",
       " 'SME Visual Works',\n",
       " 'GODxDOG Production',\n",
       " 'Plus One',\n",
       " 'Arcturus',\n",
       " 'Aikikaku Center',\n",
       " 'Fuji Creative',\n",
       " 'On-Lead',\n",
       " 'Lucky Paradise',\n",
       " 'PrimeTime',\n",
       " 'BS-i',\n",
       " 'Olive Studio',\n",
       " 'Romantica club !!',\n",
       " 'Project No Name',\n",
       " 'Purple Cow Studio Japan',\n",
       " 'Milkshake',\n",
       " 'Xebec',\n",
       " 'NHN PlayArt',\n",
       " 'Audio Highs',\n",
       " 'Code',\n",
       " 'Anime Antenna Iinkai',\n",
       " 'NHK Enterprises',\n",
       " 'Tohan Corporation',\n",
       " 'W-Toon Studio',\n",
       " 'Studio Gallop',\n",
       " 'Docomo Anime Store',\n",
       " 'Gzbrain',\n",
       " 'SOEISHINSHA',\n",
       " 'TMS-Kyokuchi',\n",
       " 'Fujiko F. Fujio Pro',\n",
       " 'Ltd.',\n",
       " 'Gentosha Comics',\n",
       " 'NTT Docomo',\n",
       " 'LandQ studios',\n",
       " 'PoPoCo',\n",
       " 'Jidaigeki Channel',\n",
       " 'Miracle Robo',\n",
       " 'Sugar Boy',\n",
       " 'Happinet Pictures',\n",
       " 'Warner Bros.',\n",
       " 'Armor',\n",
       " 'Nichiei Agency',\n",
       " 'indigo line',\n",
       " 'Kitty Films',\n",
       " 'Ministry of the Navy',\n",
       " 'Furyu',\n",
       " 'Shueisha',\n",
       " 'Seikaisha',\n",
       " 'Studio PuYUKAI',\n",
       " 'AMG MUSIC',\n",
       " 'Tasogare Otome×Amnesia Production Partners',\n",
       " 'Yamasa',\n",
       " 'Geijutsu Eigasha',\n",
       " 'TAKI Corporation',\n",
       " 'KOO-KI',\n",
       " 'Poncotan',\n",
       " 'NichiNare',\n",
       " 'Skouras',\n",
       " 'Animation Do',\n",
       " 'LTD',\n",
       " 'Teichiku Entertainment',\n",
       " 'My Theater D.D.',\n",
       " 'Coastline Animation Studio',\n",
       " 'CREi',\n",
       " 'D3',\n",
       " 'Pony Canyon Enterprise',\n",
       " 'Cotton Doll',\n",
       " 'Sakura Create',\n",
       " 'Lambert',\n",
       " 'Audio Tanaka',\n",
       " 'Annapuru',\n",
       " 'Studio 9 MAiami',\n",
       " 'Youmex',\n",
       " 'Langmaor',\n",
       " 'Nikkatsu Mukojima',\n",
       " 'Sunrise',\n",
       " 'Yomiuri TV Enterprise',\n",
       " 'Shizuoka Broadcasting System',\n",
       " 'Active',\n",
       " 'Sun TV',\n",
       " 'Lantis',\n",
       " 'Miraicha Records',\n",
       " 'Topcraft',\n",
       " 'Trick Block',\n",
       " 'Earth Star Entertainment',\n",
       " 'Kadokawa',\n",
       " 'Animax',\n",
       " 'Public &amp; Basic',\n",
       " 'Advance Syakujii',\n",
       " 'DAX Production',\n",
       " 'Hakuhodo DY Media Partners',\n",
       " 'KMMJ Studios',\n",
       " 'Liverpool',\n",
       " 'Fujio Production',\n",
       " 'eigoMANGA',\n",
       " 'Barnum Studio',\n",
       " 'Otogi Production',\n",
       " 'Office AO',\n",
       " 'Shirogumi',\n",
       " 'SUBARU',\n",
       " 'Hakuhodo DY Music &amp; Pictures',\n",
       " 'Media Factory',\n",
       " 'CBC',\n",
       " 'EBS',\n",
       " 'Studio Take Off',\n",
       " 'Kadokawa Media House',\n",
       " 'Inc.',\n",
       " 'Sentai Filmworks',\n",
       " 'Brave Hearts',\n",
       " 'Neft Film',\n",
       " 'Pierrot Plus',\n",
       " 'ACiD FiLM',\n",
       " 'Tamura Shigeru Studio',\n",
       " 'Walt Disney Japan',\n",
       " 'Sanrio Digital',\n",
       " 'CloverWorks',\n",
       " 'Studio NOIX',\n",
       " 'Darts',\n",
       " 'Ryukyu Asahi Broadcasting',\n",
       " 'Contents Seed',\n",
       " 'Hal Film Maker',\n",
       " 'E&amp;G Films',\n",
       " 'China Literature Limited',\n",
       " 'Dentsu Eigasha Tokyo',\n",
       " 'Madhouse',\n",
       " 'Kiyosumi High School Mahjong Club',\n",
       " 'T.P.O',\n",
       " 'Top-Insight International Co.',\n",
       " 'Production Reed',\n",
       " 'AnimEigo',\n",
       " 'SamBakZa',\n",
       " 'Miracle Bus',\n",
       " 'Bandai Channel',\n",
       " 'Tsubasa Entertainment',\n",
       " 'TV Osaka',\n",
       " 'TV Tokyo Music',\n",
       " 'TV Saitama',\n",
       " 'Shogakukan Music &amp; Digital Entertainment',\n",
       " 'EXA International',\n",
       " 'Big Bang',\n",
       " 'Nippon Cultural Broadcasting',\n",
       " 'Gigno Systems',\n",
       " 'Lucent Pictures Entertainment',\n",
       " 'Sega',\n",
       " 'Marvelous AQL',\n",
       " 'Rankin/Bass',\n",
       " '501st JOINT FIGHTER WING',\n",
       " '5pb.',\n",
       " 'White Bear',\n",
       " 'Atlus',\n",
       " 'Boyan Pictures',\n",
       " 'MAGES.',\n",
       " 'Studio Nem',\n",
       " 'Studio Ten Carat',\n",
       " 'Queen Bee',\n",
       " 'AC Create',\n",
       " 'Studio Kaab',\n",
       " 'U-NEXT',\n",
       " 'Chuubu Nihon Kyouei',\n",
       " 'Palm Studio',\n",
       " 'TYO Animations',\n",
       " 'Sakura Motion Picture',\n",
       " 'U/M/A/A Inc.',\n",
       " 'Procidis',\n",
       " 'Dentsu Razorfish',\n",
       " 'Takara Tomy A.R.T.S',\n",
       " 'Drecom',\n",
       " 'OB Planning',\n",
       " 'Baku Enterprise',\n",
       " 'Mainichi Broadcasting System',\n",
       " 'Shogakukan',\n",
       " 'AIC Frontier',\n",
       " 'Kadokawa Games',\n",
       " 'SEDIC International',\n",
       " 'CoMix Wave Films',\n",
       " 'OLM',\n",
       " 'Daiichi Shokai CO.',\n",
       " 'Studio Liberty',\n",
       " 'Yumearu',\n",
       " 'T-Rex',\n",
       " 'Four Some',\n",
       " 'Sanctuary',\n",
       " 'SEK Studios',\n",
       " 'Shanghai Foch Film Culture Investment',\n",
       " 'KJJ Animation',\n",
       " 'Knack Animation',\n",
       " 'Design Factory',\n",
       " 'Hiroshima Television',\n",
       " 'MK Pictures',\n",
       " 'Kuri Jikken Manga Kobo',\n",
       " 'Futabasha',\n",
       " 'Jormungand Production Partners',\n",
       " 'Bandai',\n",
       " 'Vasoon Animation',\n",
       " 'Asahi Shimbun',\n",
       " 'Pie in The Sky',\n",
       " 'Magic Capsule',\n",
       " 'Greenwood',\n",
       " 'Project Railgun',\n",
       " 'Warner Music Japan',\n",
       " \"Yoon's Color\",\n",
       " 'Ima Group',\n",
       " 'Spacey Music Entertainment',\n",
       " 'ASIA Documentary Productions',\n",
       " 'Straight Edge',\n",
       " 'Puzzle Animation Studio Limited',\n",
       " 'Ki/oon Music',\n",
       " 'Ai ga areba Daijobu',\n",
       " 'Kadokawa Contents Gate',\n",
       " 'Minami Machi Bugyousho',\n",
       " 'eBooK Initiative Japan CO.',\n",
       " 'BIGLOBE',\n",
       " 'Nakamura Production',\n",
       " 'Studio Saki Makura',\n",
       " 'Quatre Stella',\n",
       " 'Live Viewing Japan',\n",
       " 'CBS',\n",
       " 'Dongwoo A&amp;E',\n",
       " 'Fujishouji',\n",
       " 'Pencil',\n",
       " 'Right Gauge',\n",
       " 'Yahoo! Japan',\n",
       " 'Artland',\n",
       " 'The Village of Marchen',\n",
       " 'Mary Jane',\n",
       " 'Rakuten',\n",
       " 'Geneon Universal Entertainment',\n",
       " 'Magic Bus',\n",
       " 'DMM pictures',\n",
       " 'Fairy Dust',\n",
       " 'Himajin Planning',\n",
       " 'Triangle Staff',\n",
       " 'GYAO!',\n",
       " 'Dream Creation',\n",
       " 'Osaka University of Arts',\n",
       " 'Zyc',\n",
       " 'Valkyria',\n",
       " 'Trilogy Future Studio',\n",
       " 'Studio Deva Loka',\n",
       " 'Studio OX',\n",
       " 'Kanon Sound',\n",
       " 'Shingeki no Kyojin Team',\n",
       " 'Takara',\n",
       " 'Marvelous',\n",
       " 'NADA Holdings',\n",
       " 'Universal Studios',\n",
       " 'Ishimori Pro',\n",
       " 'Amino',\n",
       " 'Japan Sleeve',\n",
       " 'Graphinica',\n",
       " 'Hobby Japan',\n",
       " 'D-techno',\n",
       " 'Aoni Entertainment',\n",
       " 'Miyagi Television Broadcasting',\n",
       " 'Y.O.U.C',\n",
       " 'Nihikime no Dozeu',\n",
       " 'Moonbell',\n",
       " 'Studio Pastoral',\n",
       " 'EDGE',\n",
       " 'Sony Music Entertainment',\n",
       " 'Bandai Namco Entertainment',\n",
       " 'Suiseisha',\n",
       " 'Studio Kikan',\n",
       " 'Konami Digital Entertainment',\n",
       " 'Studio Egg',\n",
       " 'Hiro Media',\n",
       " 'Keisei Electric Railway',\n",
       " 'Hobibox',\n",
       " 'Next',\n",
       " 'Coamix',\n",
       " 'Creative Bridge',\n",
       " 'Rironsha',\n",
       " 'Remic',\n",
       " 'Lapis',\n",
       " 'Studio Sign',\n",
       " 'Shodensha',\n",
       " 'Bushiroad Music',\n",
       " 'Mellow Head',\n",
       " 'Enlight Pictures',\n",
       " 'Studio Deen',\n",
       " 'Studio Comet',\n",
       " 'Pony Canyon',\n",
       " 'Anime R',\n",
       " 'Telecom Animation Film',\n",
       " 'SoftX',\n",
       " 'Project Eureka AO',\n",
       " 'Studio elle',\n",
       " 'GANSIS',\n",
       " 'DLE',\n",
       " 'Akabanten',\n",
       " 'Tate Anime',\n",
       " 'Evil Line Records',\n",
       " 'TBS',\n",
       " 'White Fox',\n",
       " 'Hotline',\n",
       " 'Nintendo of America',\n",
       " 'Big West',\n",
       " 'Mushi Production',\n",
       " 'F.M.F',\n",
       " 'Stardust Promotion',\n",
       " 'CCTV Animation Co. LTD',\n",
       " 'NBCUniversal Entertainment Japan',\n",
       " 'Nippon Shuppan Hanbai (Nippan) K.K.',\n",
       " 'project lights',\n",
       " 'Imagi',\n",
       " 'Twin Engine',\n",
       " 'GARDEN LODGE',\n",
       " '4Kids Entertainment',\n",
       " 'Fukuoka Broadcasting System',\n",
       " 'RX-RECORDS',\n",
       " 'Muse Communication Co.',\n",
       " 'Dear Stage inc.',\n",
       " 'Audio Planning U',\n",
       " 'Möbius Tone',\n",
       " 'Beijing Sharaku Art',\n",
       " 'Cygames',\n",
       " 'I.Toon',\n",
       " 'Sotsu Music Publishing',\n",
       " 'AIC Spirits',\n",
       " 'UNLIMITED Partners',\n",
       " 'PSG',\n",
       " 'AIC',\n",
       " 'BS11',\n",
       " 'WAO World',\n",
       " 'Yomiuri Advertising',\n",
       " 'Tohokushinsha Film Corporation',\n",
       " 'Media Do',\n",
       " 'Shelty',\n",
       " 'Aniplex',\n",
       " 'Tele-Cartoon Japan',\n",
       " 'Primastea',\n",
       " 'Studio Lotus',\n",
       " 'Yamamura Animation',\n",
       " 'Bitgang',\n",
       " 'Kobunsha',\n",
       " 'BS Japan',\n",
       " 'Yellow Film',\n",
       " 'Exit Tunes',\n",
       " 'Sol Blade',\n",
       " 'Kanetsu Co.',\n",
       " 'RightTracks',\n",
       " 'UK.PROJECT INC.',\n",
       " 'Studio Compile',\n",
       " 'TOMY Company',\n",
       " 'Chiba TV',\n",
       " 'Harappa',\n",
       " 'MMDGP',\n",
       " \"Music Ray'n\",\n",
       " 'Kamikaze Douga',\n",
       " 'Kitty Media',\n",
       " 'Adores',\n",
       " 'DandeLion Animation Studio LLC',\n",
       " 'VAP',\n",
       " 'TC Entertainment',\n",
       " 'NewGin',\n",
       " 'Toshiba Entertainment',\n",
       " 'Sammy',\n",
       " 'Gree',\n",
       " 'PRA',\n",
       " 'Bliss Pictures',\n",
       " 'USEN',\n",
       " 'I-move',\n",
       " 'I Will',\n",
       " 'Saban Entertainment',\n",
       " 'Maxell E-Cube',\n",
       " 'Capcom',\n",
       " 'A-Sketch',\n",
       " 'King Bee',\n",
       " 'Broccoli',\n",
       " 'LINE Corporation',\n",
       " 'Bandai Namco Live Creative',\n",
       " 'ONEMUSIC',\n",
       " 'Rakuonsha',\n",
       " 'Shufunotomo',\n",
       " 'Glams',\n",
       " 'KDDI',\n",
       " 'Digital Works',\n",
       " 'Jumondo',\n",
       " 'Beat Frog',\n",
       " 'Studio Colorido',\n",
       " 'East Japan Marketing &amp; Communications',\n",
       " 'Lawson',\n",
       " 'Grasshoppa!',\n",
       " 'Shounen Gahousha',\n",
       " 'Studio Mausu',\n",
       " 'Production Ace',\n",
       " 'Hot Bear',\n",
       " 'KSS',\n",
       " 'Studio G-1Neo',\n",
       " 'Studio Mirai',\n",
       " 'flying DOG',\n",
       " 'Shaft',\n",
       " 'Sunrise Music Publishing',\n",
       " 'NuTech Digital',\n",
       " 'Good Smile Company',\n",
       " 'BS NTV',\n",
       " 'Notes',\n",
       " 'Kenji Studio',\n",
       " 'Space Neko',\n",
       " 'Studio 1st',\n",
       " 'Robot Communications',\n",
       " 'Nihon Eizo',\n",
       " 'Konami',\n",
       " 'Pb Animation Co. Ltd.',\n",
       " 'AZ Creative',\n",
       " 'Duckbill Entertainment',\n",
       " 'Chaos Project',\n",
       " 'NEC Avenue',\n",
       " 'Ripple Film',\n",
       " 'Studio Moriken',\n",
       " 'ABC Animation',\n",
       " 'Telescreen BV',\n",
       " 'Dwango Music Entertainment',\n",
       " 'Arplants',\n",
       " 'Amuse Pictures',\n",
       " 'CinePix',\n",
       " 'Bee Media',\n",
       " 'Bungeishunjuu',\n",
       " 'TEAM Entertainment Inc.',\n",
       " 'Po10tial',\n",
       " 'Asahi Broadcasting',\n",
       " 'ZIZ Entertainment (ZIZ)',\n",
       " 'Walkers Company',\n",
       " 'Nozomi Entertainment',\n",
       " 'Yamato Works',\n",
       " 'International Digital Artist',\n",
       " 'JapanAnime',\n",
       " 'Asgard',\n",
       " 'Aoni Production',\n",
       " 'Gainax',\n",
       " 'Madoka Partners',\n",
       " 'SPEED',\n",
       " 'SoftBank Creative Corp.',\n",
       " 'Geidai Animation',\n",
       " 'Ultra Super Pictures',\n",
       " 'QREAZY',\n",
       " 'Triple X',\n",
       " 'Cammot',\n",
       " 'Toranoana',\n",
       " 'Felix Film',\n",
       " 'Yomiuri Shimbun',\n",
       " 'Yaoqi',\n",
       " 'World Cosplay Summit',\n",
       " ...]"
      ]
     },
     "execution_count": 136,
     "metadata": {},
     "output_type": "execute_result"
    }
   ],
   "source": [
    "producer_list = list(set.union(*producer.to_list()))\n",
    "# producer_list.remove('')\n",
    "producer_list"
   ]
  },
  {
   "cell_type": "code",
   "execution_count": 137,
   "metadata": {},
   "outputs": [
    {
     "data": {
      "text/plain": [
       "1113"
      ]
     },
     "execution_count": 137,
     "metadata": {},
     "output_type": "execute_result"
    }
   ],
   "source": [
    "len(producer_list)"
   ]
  },
  {
   "cell_type": "code",
   "execution_count": 138,
   "metadata": {},
   "outputs": [],
   "source": [
    "producer_df = pd.DataFrame([[i for i in range(1, len(producer_list) + 1)], producer_list]).T"
   ]
  },
  {
   "cell_type": "code",
   "execution_count": 139,
   "metadata": {},
   "outputs": [],
   "source": [
    "producer_df.columns = [\"producer_id\", \"producer_name\"]"
   ]
  },
  {
   "cell_type": "code",
   "execution_count": 140,
   "metadata": {},
   "outputs": [],
   "source": [
    "producer_df.to_csv(\"../../data/csv/output/producers.csv\", index=False)"
   ]
  },
  {
   "cell_type": "code",
   "execution_count": 141,
   "metadata": {},
   "outputs": [],
   "source": [
    "produces = []\n",
    "for i in range(len(producer)):\n",
    "    if producer[i] != {}:\n",
    "        for producer_name in producer[i]:\n",
    "            produces.append([anime_dropped_related.anime_id[i], producer_df.index[producer_df.producer_name == producer_name].to_list()[0]])"
   ]
  },
  {
   "cell_type": "code",
   "execution_count": 143,
   "metadata": {},
   "outputs": [],
   "source": [
    "produces_df = pd.DataFrame(produces, columns=[\"anime_id\", \"producer_id\"])"
   ]
  },
  {
   "cell_type": "code",
   "execution_count": 144,
   "metadata": {},
   "outputs": [
    {
     "data": {
      "text/html": [
       "<div>\n",
       "<style scoped>\n",
       "    .dataframe tbody tr th:only-of-type {\n",
       "        vertical-align: middle;\n",
       "    }\n",
       "\n",
       "    .dataframe tbody tr th {\n",
       "        vertical-align: top;\n",
       "    }\n",
       "\n",
       "    .dataframe thead th {\n",
       "        text-align: right;\n",
       "    }\n",
       "</style>\n",
       "<table border=\"1\" class=\"dataframe\">\n",
       "  <thead>\n",
       "    <tr style=\"text-align: right;\">\n",
       "      <th></th>\n",
       "      <th>anime_id</th>\n",
       "      <th>producer_id</th>\n",
       "    </tr>\n",
       "  </thead>\n",
       "  <tbody>\n",
       "    <tr>\n",
       "      <th>0</th>\n",
       "      <td>11013</td>\n",
       "      <td>219</td>\n",
       "    </tr>\n",
       "    <tr>\n",
       "      <th>1</th>\n",
       "      <td>11013</td>\n",
       "      <td>91</td>\n",
       "    </tr>\n",
       "    <tr>\n",
       "      <th>2</th>\n",
       "      <td>11013</td>\n",
       "      <td>491</td>\n",
       "    </tr>\n",
       "    <tr>\n",
       "      <th>3</th>\n",
       "      <td>11013</td>\n",
       "      <td>726</td>\n",
       "    </tr>\n",
       "    <tr>\n",
       "      <th>4</th>\n",
       "      <td>11013</td>\n",
       "      <td>885</td>\n",
       "    </tr>\n",
       "  </tbody>\n",
       "</table>\n",
       "</div>"
      ],
      "text/plain": [
       "   anime_id  producer_id\n",
       "0     11013          219\n",
       "1     11013           91\n",
       "2     11013          491\n",
       "3     11013          726\n",
       "4     11013          885"
      ]
     },
     "execution_count": 144,
     "metadata": {},
     "output_type": "execute_result"
    }
   ],
   "source": [
    "produces_df.head()"
   ]
  },
  {
   "cell_type": "code",
   "execution_count": 145,
   "metadata": {},
   "outputs": [],
   "source": [
    "produces_df.to_csv(\"../../data/csv/output/produces.csv\", index=False)"
   ]
  },
  {
   "cell_type": "code",
   "execution_count": null,
   "metadata": {},
   "outputs": [],
   "source": []
  },
  {
   "cell_type": "code",
   "execution_count": 157,
   "metadata": {},
   "outputs": [],
   "source": [
    "genre = anime_dropped_related.genre"
   ]
  },
  {
   "cell_type": "code",
   "execution_count": 147,
   "metadata": {},
   "outputs": [
    {
     "data": {
      "text/plain": [
       "0      Comedy, Supernatural, Romance, Shounen\n",
       "1    Comedy, Parody, Romance, School, Shounen\n",
       "2               Comedy, Magic, School, Shoujo\n",
       "3      Comedy, Drama, Magic, Romance, Fantasy\n",
       "4             Comedy, Drama, Romance, Shounen\n",
       "Name: genre, dtype: object"
      ]
     },
     "execution_count": 147,
     "metadata": {},
     "output_type": "execute_result"
    }
   ],
   "source": [
    "genre.head()"
   ]
  },
  {
   "cell_type": "code",
   "execution_count": 158,
   "metadata": {},
   "outputs": [],
   "source": [
    "genre = genre.apply(create_list)"
   ]
  },
  {
   "cell_type": "code",
   "execution_count": 160,
   "metadata": {},
   "outputs": [
    {
     "data": {
      "text/plain": [
       "['Thriller',\n",
       " 'Game',\n",
       " 'Magic',\n",
       " 'Kids',\n",
       " 'Music',\n",
       " 'Super Power',\n",
       " 'Samurai',\n",
       " 'Shoujo Ai',\n",
       " 'Historical',\n",
       " 'Yuri',\n",
       " 'Vampire',\n",
       " 'Yaoi',\n",
       " 'Romance',\n",
       " 'Sports',\n",
       " 'Fantasy',\n",
       " 'Ecchi',\n",
       " 'Hentai',\n",
       " 'Shounen Ai',\n",
       " 'Harem',\n",
       " 'Demons',\n",
       " 'Space',\n",
       " 'Seinen',\n",
       " 'Military',\n",
       " 'Cars',\n",
       " 'Psychological',\n",
       " 'School',\n",
       " 'Slice of Life',\n",
       " 'Shoujo',\n",
       " 'Parody',\n",
       " 'Adventure',\n",
       " 'Drama',\n",
       " 'Mecha',\n",
       " 'Sci-Fi',\n",
       " 'Josei',\n",
       " 'Comedy',\n",
       " 'Shounen',\n",
       " 'Supernatural',\n",
       " 'Martial Arts',\n",
       " 'Action',\n",
       " 'Dementia',\n",
       " 'Horror',\n",
       " 'Mystery',\n",
       " 'Police']"
      ]
     },
     "execution_count": 160,
     "metadata": {},
     "output_type": "execute_result"
    }
   ],
   "source": [
    "genre_list = list(set.union(*genre.to_list()))\n",
    "genre_list"
   ]
  },
  {
   "cell_type": "code",
   "execution_count": 161,
   "metadata": {},
   "outputs": [],
   "source": [
    "genre_df = pd.DataFrame({'genre_id':[i + 1 for i in range(len(genre_list))], 'genre_name':genre_list})\n",
    "genre_df.set_index('genre_id', inplace=True)"
   ]
  },
  {
   "cell_type": "code",
   "execution_count": 162,
   "metadata": {},
   "outputs": [
    {
     "data": {
      "text/html": [
       "<div>\n",
       "<style scoped>\n",
       "    .dataframe tbody tr th:only-of-type {\n",
       "        vertical-align: middle;\n",
       "    }\n",
       "\n",
       "    .dataframe tbody tr th {\n",
       "        vertical-align: top;\n",
       "    }\n",
       "\n",
       "    .dataframe thead th {\n",
       "        text-align: right;\n",
       "    }\n",
       "</style>\n",
       "<table border=\"1\" class=\"dataframe\">\n",
       "  <thead>\n",
       "    <tr style=\"text-align: right;\">\n",
       "      <th></th>\n",
       "      <th>genre_name</th>\n",
       "    </tr>\n",
       "    <tr>\n",
       "      <th>genre_id</th>\n",
       "      <th></th>\n",
       "    </tr>\n",
       "  </thead>\n",
       "  <tbody>\n",
       "    <tr>\n",
       "      <th>1</th>\n",
       "      <td>Thriller</td>\n",
       "    </tr>\n",
       "    <tr>\n",
       "      <th>2</th>\n",
       "      <td>Game</td>\n",
       "    </tr>\n",
       "    <tr>\n",
       "      <th>3</th>\n",
       "      <td>Magic</td>\n",
       "    </tr>\n",
       "    <tr>\n",
       "      <th>4</th>\n",
       "      <td>Kids</td>\n",
       "    </tr>\n",
       "    <tr>\n",
       "      <th>5</th>\n",
       "      <td>Music</td>\n",
       "    </tr>\n",
       "  </tbody>\n",
       "</table>\n",
       "</div>"
      ],
      "text/plain": [
       "         genre_name\n",
       "genre_id           \n",
       "1          Thriller\n",
       "2              Game\n",
       "3             Magic\n",
       "4              Kids\n",
       "5             Music"
      ]
     },
     "execution_count": 162,
     "metadata": {},
     "output_type": "execute_result"
    }
   ],
   "source": [
    "genre_df.head()"
   ]
  },
  {
   "cell_type": "code",
   "execution_count": 163,
   "metadata": {},
   "outputs": [],
   "source": [
    "genre_df.to_csv(\"../../data/csv/output/genre.csv\")"
   ]
  },
  {
   "cell_type": "code",
   "execution_count": 164,
   "metadata": {},
   "outputs": [
    {
     "data": {
      "text/plain": [
       "[11013, 5]"
      ]
     },
     "execution_count": 164,
     "metadata": {},
     "output_type": "execute_result"
    }
   ],
   "source": [
    "[anime_dropped_related.anime_id[0], genre_df.index[genre_df.genre_name == \"Music\"].to_list()[0]]"
   ]
  },
  {
   "cell_type": "code",
   "execution_count": 171,
   "metadata": {},
   "outputs": [],
   "source": [
    "classifies = []\n",
    "for i in range(len(genre)):\n",
    "    if genre[i] != {}:\n",
    "        for genre_name in genre[i]:\n",
    "            classifies.append([anime_dropped_related.anime_id[i], genre_df.index[genre_df.genre_name == genre_name].to_list()[0]])"
   ]
  },
  {
   "cell_type": "code",
   "execution_count": 172,
   "metadata": {},
   "outputs": [
    {
     "data": {
      "text/plain": [
       "[[11013, 13],\n",
       " [11013, 35],\n",
       " [11013, 36],\n",
       " [11013, 37],\n",
       " [2104, 26],\n",
       " [2104, 29],\n",
       " [2104, 13],\n",
       " [2104, 35],\n",
       " [2104, 36],\n",
       " [5262, 28],\n",
       " [5262, 3],\n",
       " [5262, 35],\n",
       " [5262, 26],\n",
       " [721, 15],\n",
       " [721, 3],\n",
       " [721, 31],\n",
       " [721, 13],\n",
       " [721, 35],\n",
       " [12365, 13],\n",
       " [12365, 35],\n",
       " [12365, 36],\n",
       " [12365, 31],\n",
       " [6586, 28],\n",
       " [6586, 4],\n",
       " [6586, 26],\n",
       " [178, 26],\n",
       " [178, 28],\n",
       " [178, 3],\n",
       " [178, 13],\n",
       " [178, 35],\n",
       " [2787, 39],\n",
       " [2787, 26],\n",
       " [2787, 15],\n",
       " [2787, 31],\n",
       " [2787, 13],\n",
       " [2787, 37],\n",
       " [4477, 27],\n",
       " [4477, 5],\n",
       " [4477, 13],\n",
       " [4477, 34],\n",
       " [4477, 35],\n",
       " [853, 26],\n",
       " [853, 28],\n",
       " [853, 19],\n",
       " [853, 13],\n",
       " [853, 35],\n",
       " [4814, 13],\n",
       " [4814, 35],\n",
       " [4814, 31],\n",
       " [4814, 18],\n",
       " [7054, 28],\n",
       " [7054, 13],\n",
       " [7054, 35],\n",
       " [7054, 26],\n",
       " [11123, 13],\n",
       " [11123, 35],\n",
       " [11123, 31],\n",
       " [11123, 18],\n",
       " [14227, 26],\n",
       " [14227, 27],\n",
       " [14227, 28],\n",
       " [14227, 13],\n",
       " [14227, 35],\n",
       " [269, 39],\n",
       " [269, 6],\n",
       " [269, 30],\n",
       " [269, 35],\n",
       " [269, 36],\n",
       " [269, 37],\n",
       " [59, 22],\n",
       " [59, 16],\n",
       " [59, 31],\n",
       " [59, 33],\n",
       " [59, 13],\n",
       " [59, 35],\n",
       " [6045, 26],\n",
       " [6045, 27],\n",
       " [6045, 28],\n",
       " [6045, 31],\n",
       " [6045, 13],\n",
       " [1735, 39],\n",
       " [1735, 6],\n",
       " [1735, 30],\n",
       " [1735, 35],\n",
       " [1735, 36],\n",
       " [1735, 38],\n",
       " [210, 15],\n",
       " [210, 35],\n",
       " [210, 38],\n",
       " [210, 27],\n",
       " [4224, 26],\n",
       " [4224, 13],\n",
       " [4224, 35],\n",
       " [4224, 27],\n",
       " [10030, 13],\n",
       " [10030, 35],\n",
       " [10030, 36],\n",
       " [10030, 31],\n",
       " [74, 28],\n",
       " [74, 35],\n",
       " [74, 6],\n",
       " [74, 26],\n",
       " [4722, 28],\n",
       " [4722, 13],\n",
       " [4722, 35],\n",
       " [4722, 31],\n",
       " [14397, 27],\n",
       " [14397, 26],\n",
       " [14397, 2],\n",
       " [14397, 31],\n",
       " [14397, 14],\n",
       " [14397, 34],\n",
       " [1557, 39],\n",
       " [1557, 15],\n",
       " [1557, 3],\n",
       " [1557, 28],\n",
       " [1557, 9],\n",
       " [1557, 20],\n",
       " [1557, 37],\n",
       " [10800, 27],\n",
       " [10800, 26],\n",
       " [10800, 2],\n",
       " [10800, 31],\n",
       " [10800, 14],\n",
       " [10800, 34],\n",
       " [3731, 28],\n",
       " [3731, 13],\n",
       " [3731, 35],\n",
       " [9513, 39],\n",
       " [9513, 26],\n",
       " [9513, 20],\n",
       " [9513, 35],\n",
       " [9513, 36],\n",
       " [9513, 37],\n",
       " [5835, 28],\n",
       " [5835, 13],\n",
       " [5835, 31],\n",
       " [9863, 35],\n",
       " [9863, 36],\n",
       " [9863, 26],\n",
       " [7817, 26],\n",
       " [7817, 16],\n",
       " [7817, 13],\n",
       " [7817, 22],\n",
       " [7817, 35],\n",
       " [966, 26],\n",
       " [966, 27],\n",
       " [966, 16],\n",
       " [966, 22],\n",
       " [966, 35],\n",
       " [120, 27],\n",
       " [120, 15],\n",
       " [120, 28],\n",
       " [120, 31],\n",
       " [120, 13],\n",
       " [120, 35],\n",
       " [957, 15],\n",
       " [957, 31],\n",
       " [957, 9],\n",
       " [957, 30],\n",
       " [957, 13],\n",
       " [957, 35],\n",
       " [21, 39],\n",
       " [21, 15],\n",
       " [21, 6],\n",
       " [21, 31],\n",
       " [21, 30],\n",
       " [21, 35],\n",
       " [21, 36],\n",
       " [1974, 28],\n",
       " [1974, 31],\n",
       " [857, 39],\n",
       " [857, 16],\n",
       " [857, 14],\n",
       " [857, 35],\n",
       " [857, 36],\n",
       " [1914, 15],\n",
       " [1914, 31],\n",
       " [1914, 9],\n",
       " [1914, 30],\n",
       " [1914, 13],\n",
       " [1914, 35],\n",
       " [249, 39],\n",
       " [249, 15],\n",
       " [249, 3],\n",
       " [249, 9],\n",
       " [249, 20],\n",
       " [249, 30],\n",
       " [249, 13],\n",
       " [249, 35],\n",
       " [249, 36],\n",
       " [249, 37],\n",
       " [6645, 22],\n",
       " [6645, 35],\n",
       " [6645, 16],\n",
       " [6645, 26],\n",
       " [5690, 13],\n",
       " [5690, 34],\n",
       " [5690, 35],\n",
       " [5690, 5],\n",
       " [1571, 41],\n",
       " [1571, 28],\n",
       " [1571, 42],\n",
       " [1571, 35],\n",
       " [1571, 37],\n",
       " [11759, 39],\n",
       " [11759, 26],\n",
       " [11759, 2],\n",
       " [11759, 33],\n",
       " [11759, 13],\n",
       " [7674, 13],\n",
       " [7674, 35],\n",
       " [7674, 36],\n",
       " [7674, 31],\n",
       " [1698, 34],\n",
       " [1698, 27],\n",
       " [1698, 5],\n",
       " [1698, 31],\n",
       " [1698, 13],\n",
       " [1698, 35],\n",
       " [14713, 15],\n",
       " [14713, 28],\n",
       " [14713, 20],\n",
       " [14713, 13],\n",
       " [14713, 35],\n",
       " [14713, 37],\n",
       " [232, 26],\n",
       " [232, 15],\n",
       " [232, 3],\n",
       " [232, 28],\n",
       " [232, 31],\n",
       " [232, 30],\n",
       " [232, 13],\n",
       " [232, 35],\n",
       " [233, 33],\n",
       " [233, 28],\n",
       " [233, 35],\n",
       " [9656, 26],\n",
       " [9656, 27],\n",
       " [9656, 28],\n",
       " [9656, 31],\n",
       " [9656, 13],\n",
       " [9926, 13],\n",
       " [9926, 35],\n",
       " [9926, 31],\n",
       " [9926, 18],\n",
       " [2564, 27],\n",
       " [2564, 26],\n",
       " [2564, 33],\n",
       " [2564, 13],\n",
       " [2564, 35],\n",
       " [3092, 13],\n",
       " [3092, 35],\n",
       " [3092, 31],\n",
       " [3092, 18],\n",
       " [1579, 26],\n",
       " [1579, 3],\n",
       " [1579, 28],\n",
       " [1579, 5],\n",
       " [1579, 31],\n",
       " [1579, 19],\n",
       " [1579, 13],\n",
       " [1579, 35],\n",
       " [32370, 39],\n",
       " [32370, 6],\n",
       " [32370, 20],\n",
       " [32370, 30],\n",
       " [32370, 36],\n",
       " [11547, 39],\n",
       " [11547, 28],\n",
       " [11547, 31],\n",
       " [11547, 7],\n",
       " [11547, 9],\n",
       " [11547, 13],\n",
       " [11547, 35],\n",
       " [33185, 39],\n",
       " [33185, 7],\n",
       " [33185, 9],\n",
       " [33185, 35],\n",
       " [33185, 36],\n",
       " [7518, 27],\n",
       " [7518, 4],\n",
       " [7518, 5],\n",
       " [16642, 17],\n",
       " [7605, 15],\n",
       " [7605, 3],\n",
       " [7605, 4],\n",
       " [7605, 30],\n",
       " [7605, 35],\n",
       " [9389, 33],\n",
       " [9389, 21],\n",
       " [9389, 30],\n",
       " [9389, 32],\n",
       " [34152, 42],\n",
       " [34152, 41],\n",
       " [34152, 25],\n",
       " [34152, 39],\n",
       " [9998, 13],\n",
       " [9998, 35],\n",
       " [9998, 43],\n",
       " [9998, 31],\n",
       " [153, 39],\n",
       " [153, 15],\n",
       " [153, 3],\n",
       " [153, 30],\n",
       " [153, 37],\n",
       " [27417, 28],\n",
       " [27417, 19],\n",
       " [27417, 11],\n",
       " [27417, 26],\n",
       " [5588, 17],\n",
       " [23903, 13],\n",
       " [23903, 35],\n",
       " [13247, 30],\n",
       " [13247, 22],\n",
       " [13247, 35],\n",
       " [33398, 35],\n",
       " [1051, 39],\n",
       " [1051, 32],\n",
       " [1051, 33],\n",
       " [1051, 23],\n",
       " [1051, 30],\n",
       " [12447, 35],\n",
       " [3294, 42],\n",
       " [3294, 32],\n",
       " [3294, 33],\n",
       " [3294, 23],\n",
       " [3294, 21],\n",
       " [1381, 39],\n",
       " [1381, 33],\n",
       " [1381, 23],\n",
       " [1381, 21],\n",
       " [1381, 13],\n",
       " [8022, 35],\n",
       " [32666, 35],\n",
       " [33775, 39],\n",
       " [33775, 7],\n",
       " [20667, 23],\n",
       " [20667, 32],\n",
       " [37447, 30],\n",
       " [37447, 36],\n",
       " [37447, 42],\n",
       " [35277, 9],\n",
       " [35277, 31],\n",
       " [14353, 1],\n",
       " [14353, 25],\n",
       " [14353, 2],\n",
       " [14353, 31],\n",
       " [14353, 42],\n",
       " [32747, 5],\n",
       " [5235, 15],\n",
       " [5235, 2],\n",
       " [8154, 15],\n",
       " [8154, 41],\n",
       " [8154, 30],\n",
       " [8154, 35],\n",
       " [8154, 37],\n",
       " [5117, 15],\n",
       " [5117, 17],\n",
       " [26443, 30],\n",
       " [26443, 16],\n",
       " [26443, 39],\n",
       " [26443, 36],\n",
       " [16251, 30],\n",
       " [16251, 33],\n",
       " [16251, 39],\n",
       " [16251, 23],\n",
       " [6777, 5],\n",
       " [35594, 15],\n",
       " [35594, 39],\n",
       " [36847, 15],\n",
       " [36847, 16],\n",
       " [32561, 35],\n",
       " [24275, 22],\n",
       " [24275, 35],\n",
       " [29363, 27],\n",
       " [29363, 26],\n",
       " [29363, 28],\n",
       " [29363, 13],\n",
       " [29363, 35],\n",
       " [3669, 30],\n",
       " [3669, 4],\n",
       " [1811, 33],\n",
       " [1811, 21],\n",
       " [1811, 39],\n",
       " [5036, 5],\n",
       " [9690, 39],\n",
       " [9690, 15],\n",
       " [9690, 3],\n",
       " [9690, 30],\n",
       " [9690, 36],\n",
       " [9721, 17],\n",
       " [812, 30],\n",
       " [812, 3],\n",
       " [812, 33],\n",
       " [812, 31],\n",
       " [19849, 35],\n",
       " [19849, 27],\n",
       " [7791, 27],\n",
       " [7791, 35],\n",
       " [7791, 5],\n",
       " [7791, 26],\n",
       " [747, 13],\n",
       " [747, 12],\n",
       " [747, 31],\n",
       " [11009, 30],\n",
       " [11009, 35],\n",
       " [11009, 4],\n",
       " [11009, 15],\n",
       " [8726, 35],\n",
       " [8726, 27],\n",
       " [20229, 9],\n",
       " [20229, 31],\n",
       " [33155, 39],\n",
       " [33155, 26],\n",
       " [10869, 24],\n",
       " [10869, 4],\n",
       " [10869, 21],\n",
       " [10869, 14],\n",
       " [10869, 36],\n",
       " [12589, 30],\n",
       " [12589, 4],\n",
       " [3981, 17],\n",
       " [15813, 15],\n",
       " [15813, 3],\n",
       " [36951, 39],\n",
       " [36951, 20],\n",
       " [36951, 30],\n",
       " [36951, 35],\n",
       " [36951, 36],\n",
       " [36951, 38],\n",
       " [36951, 37],\n",
       " [33462, 35],\n",
       " [33462, 26],\n",
       " [12569, 28],\n",
       " [12569, 3],\n",
       " [12569, 26],\n",
       " [34908, 4],\n",
       " [34908, 5],\n",
       " [1586, 30],\n",
       " [1586, 32],\n",
       " [1778, 30],\n",
       " [1778, 9],\n",
       " [1778, 35],\n",
       " [20057, 33],\n",
       " [20057, 21],\n",
       " [20057, 35],\n",
       " [18637, 39],\n",
       " [18637, 6],\n",
       " [18637, 32],\n",
       " [18637, 33],\n",
       " [18637, 36],\n",
       " [6828, 35],\n",
       " [30347, 39],\n",
       " [30347, 15],\n",
       " [30347, 3],\n",
       " [30347, 30],\n",
       " [30347, 36],\n",
       " [30347, 37],\n",
       " [14249, 30],\n",
       " [18893, 33],\n",
       " [18893, 22],\n",
       " [18893, 39],\n",
       " [35334, 35],\n",
       " [35334, 5],\n",
       " [36755, 17],\n",
       " [3164, 26],\n",
       " [3164, 35],\n",
       " [3164, 27],\n",
       " [2632, 4],\n",
       " [2632, 33],\n",
       " [2632, 30],\n",
       " [2632, 35],\n",
       " [2632, 36],\n",
       " [2199, 30],\n",
       " [2199, 15],\n",
       " [2199, 31],\n",
       " [1286, 23],\n",
       " [1286, 33],\n",
       " [1286, 32],\n",
       " [34561, 33],\n",
       " [34561, 39],\n",
       " [34561, 15],\n",
       " [515, 39],\n",
       " [515, 15],\n",
       " [515, 3],\n",
       " [515, 30],\n",
       " [515, 37],\n",
       " [33907, 5],\n",
       " [238, 39],\n",
       " [238, 6],\n",
       " [238, 30],\n",
       " [238, 36],\n",
       " [238, 38],\n",
       " [5990, 39],\n",
       " [5990, 15],\n",
       " [5990, 33],\n",
       " [5990, 21],\n",
       " [5990, 13],\n",
       " [5990, 35],\n",
       " [27989, 31],\n",
       " [27989, 5],\n",
       " [27989, 26],\n",
       " [36838, 39],\n",
       " [36838, 29],\n",
       " [36838, 7],\n",
       " [36838, 33],\n",
       " [36838, 9],\n",
       " [36838, 35],\n",
       " [36838, 36],\n",
       " [1200, 30],\n",
       " [1200, 15],\n",
       " [1200, 7],\n",
       " [2769, 30],\n",
       " [2769, 33],\n",
       " [2769, 39],\n",
       " [24031, 22],\n",
       " [24031, 35],\n",
       " [24031, 27],\n",
       " [37421, 27],\n",
       " [3975, 35],\n",
       " [3975, 27],\n",
       " [29583, 14],\n",
       " [29583, 35],\n",
       " [29583, 36],\n",
       " [29583, 26],\n",
       " [22839, 26],\n",
       " [22839, 27],\n",
       " [10935, 26],\n",
       " [10935, 31],\n",
       " [37711, 26],\n",
       " [37711, 13],\n",
       " [37711, 31],\n",
       " [9880, 15],\n",
       " [9880, 36],\n",
       " [37435, 13],\n",
       " [37435, 5],\n",
       " [37435, 31],\n",
       " [14007, 31],\n",
       " [14007, 32],\n",
       " [14007, 33],\n",
       " [14007, 23],\n",
       " [14007, 21],\n",
       " [14007, 36],\n",
       " [17147, 35],\n",
       " [17147, 26],\n",
       " [28023, 4],\n",
       " [22273, 2],\n",
       " [22273, 25],\n",
       " [33885, 5],\n",
       " [11769, 26],\n",
       " [11769, 16],\n",
       " [11769, 8],\n",
       " [11769, 22],\n",
       " [11769, 35],\n",
       " [3232, 39],\n",
       " [3232, 32],\n",
       " [3232, 33],\n",
       " [3232, 30],\n",
       " [3232, 22],\n",
       " [3232, 35],\n",
       " [10250, 35],\n",
       " [10250, 6],\n",
       " [15771, 22],\n",
       " [15771, 35],\n",
       " [15771, 27],\n",
       " [1360, 17],\n",
       " [8986, 20],\n",
       " [8986, 41],\n",
       " [8986, 39],\n",
       " [8986, 37],\n",
       " [4590, 17],\n",
       " [3675, 39],\n",
       " [3675, 15],\n",
       " [3675, 31],\n",
       " [3675, 33],\n",
       " [3675, 21],\n",
       " [33153, 17],\n",
       " [33337, 15],\n",
       " [33337, 31],\n",
       " [33337, 42],\n",
       " [33337, 22],\n",
       " [33337, 43],\n",
       " [1396, 33],\n",
       " [1396, 14],\n",
       " [1396, 36],\n",
       " [1396, 31],\n",
       " [23855, 39],\n",
       " [23855, 29],\n",
       " [23855, 32],\n",
       " [23855, 33],\n",
       " [23855, 35],\n",
       " [2687, 15],\n",
       " [2687, 35],\n",
       " [29543, 4],\n",
       " [34350, 30],\n",
       " [34350, 22],\n",
       " [34350, 42],\n",
       " [36982, 35],\n",
       " [36982, 4],\n",
       " [534, 15],\n",
       " [534, 3],\n",
       " [534, 20],\n",
       " [534, 30],\n",
       " [534, 35],\n",
       " [32032, 33],\n",
       " [30694, 39],\n",
       " [30694, 15],\n",
       " [30694, 6],\n",
       " [30694, 30],\n",
       " [30694, 35],\n",
       " [30694, 36],\n",
       " [30694, 38],\n",
       " [19889, 29],\n",
       " [19889, 35],\n",
       " [19889, 27],\n",
       " [988, 39],\n",
       " [988, 7],\n",
       " [988, 9],\n",
       " [988, 23],\n",
       " [988, 35],\n",
       " [29389, 30],\n",
       " [29389, 4],\n",
       " [14355, 30],\n",
       " [14355, 35],\n",
       " [14355, 27],\n",
       " [11827, 15],\n",
       " [11827, 39],\n",
       " [11827, 17],\n",
       " [35240, 42],\n",
       " [35240, 9],\n",
       " [35240, 39],\n",
       " [10197, 35],\n",
       " [10197, 11],\n",
       " [10197, 37],\n",
       " [15279, 5],\n",
       " [1587, 20],\n",
       " [1587, 9],\n",
       " [1587, 37],\n",
       " [32621, 15],\n",
       " [32621, 3],\n",
       " [32621, 4],\n",
       " [32621, 30],\n",
       " [32621, 38],\n",
       " [10588, 26],\n",
       " [10588, 42],\n",
       " [10588, 6],\n",
       " [10588, 33],\n",
       " [10588, 30],\n",
       " [10588, 37],\n",
       " [6922, 15],\n",
       " [6922, 3],\n",
       " [6922, 39],\n",
       " [6922, 37],\n",
       " [17649, 36],\n",
       " [17649, 35],\n",
       " [17649, 39],\n",
       " [17649, 26],\n",
       " [35781, 17],\n",
       " [33600, 39],\n",
       " [33600, 15],\n",
       " [33600, 3],\n",
       " [33600, 9],\n",
       " [33600, 30],\n",
       " [3254, 39],\n",
       " [3254, 41],\n",
       " [3254, 17],\n",
       " [3254, 31],\n",
       " [3254, 33],\n",
       " [3254, 42],\n",
       " [3254, 13],\n",
       " [3254, 43],\n",
       " [4851, 30],\n",
       " [4851, 22],\n",
       " [4851, 35],\n",
       " [4851, 39],\n",
       " [35759, 39],\n",
       " [35759, 32],\n",
       " [35759, 33],\n",
       " [35759, 21],\n",
       " [35759, 22],\n",
       " [10627, 14],\n",
       " [10627, 35],\n",
       " [15211, 42],\n",
       " [15211, 28],\n",
       " [13965, 22],\n",
       " [13965, 9],\n",
       " [13965, 35],\n",
       " [6702, 39],\n",
       " [6702, 15],\n",
       " [6702, 3],\n",
       " [6702, 30],\n",
       " [6702, 35],\n",
       " [6702, 36],\n",
       " [34975, 6],\n",
       " [34975, 4],\n",
       " [34975, 39],\n",
       " [18071, 22],\n",
       " [18071, 13],\n",
       " [19841, 34],\n",
       " [19841, 35],\n",
       " [19841, 27],\n",
       " [24641, 17],\n",
       " [24021, 17],\n",
       " [4480, 17],\n",
       " [37223, 17],\n",
       " [5199, 29],\n",
       " [5199, 35],\n",
       " [5199, 26],\n",
       " [22225, 15],\n",
       " [22225, 35],\n",
       " [22225, 16],\n",
       " [9442, 17],\n",
       " [33274, 35],\n",
       " [32484, 17],\n",
       " [35138, 33],\n",
       " [35138, 4],\n",
       " [35138, 39],\n",
       " [35138, 32],\n",
       " [146, 3],\n",
       " [146, 16],\n",
       " [146, 31],\n",
       " [146, 33],\n",
       " [146, 13],\n",
       " [146, 35],\n",
       " [21267, 27],\n",
       " [36289, 5],\n",
       " [221, 33],\n",
       " [221, 35],\n",
       " [221, 39],\n",
       " [221, 17],\n",
       " [9546, 31],\n",
       " [1483, 30],\n",
       " [1483, 42],\n",
       " [2343, 15],\n",
       " [2343, 41],\n",
       " [2343, 17],\n",
       " [2343, 33],\n",
       " [2343, 20],\n",
       " [32518, 17],\n",
       " [1640, 15],\n",
       " [1640, 31],\n",
       " [1640, 18],\n",
       " [1640, 33],\n",
       " [1640, 13],\n",
       " [1640, 37],\n",
       " [35314, 36],\n",
       " [35314, 39],\n",
       " [35314, 26],\n",
       " [34476, 33],\n",
       " [34476, 27],\n",
       " [7082, 28],\n",
       " [7082, 3],\n",
       " [7082, 35],\n",
       " [7082, 26],\n",
       " [35952, 20],\n",
       " [35952, 41],\n",
       " [35952, 39],\n",
       " [35952, 37],\n",
       " [10521, 13],\n",
       " [10521, 35],\n",
       " [10521, 27],\n",
       " [3335, 27],\n",
       " [3335, 28],\n",
       " [3335, 31],\n",
       " [3335, 9],\n",
       " [3335, 13],\n",
       " [3540, 17],\n",
       " [8879, 30],\n",
       " [8879, 4],\n",
       " [8879, 33],\n",
       " [8879, 39],\n",
       " [5993, 17],\n",
       " [22493, 15],\n",
       " [22493, 4],\n",
       " [2710, 35],\n",
       " [2710, 36],\n",
       " [594, 39],\n",
       " [594, 6],\n",
       " [594, 30],\n",
       " [594, 35],\n",
       " [594, 36],\n",
       " [23229, 35],\n",
       " [2520, 15],\n",
       " [2520, 35],\n",
       " [2520, 6],\n",
       " [2520, 36],\n",
       " [20087, 2],\n",
       " [34779, 15],\n",
       " [34779, 39],\n",
       " [4130, 29],\n",
       " [4130, 35],\n",
       " [4130, 26],\n",
       " [1479, 36],\n",
       " [27727, 26],\n",
       " [27727, 27],\n",
       " [27727, 3],\n",
       " [27727, 29],\n",
       " [27727, 35],\n",
       " [25461, 5],\n",
       " [16780, 30],\n",
       " [16780, 39],\n",
       " [16780, 36],\n",
       " [2617, 35],\n",
       " [33094, 35],\n",
       " [33094, 27],\n",
       " [31309, 40],\n",
       " [33808, 5],\n",
       " [33808, 26],\n",
       " [23765, 41],\n",
       " [23765, 9],\n",
       " [8373, 30],\n",
       " [8373, 35],\n",
       " [209, 39],\n",
       " [209, 6],\n",
       " [209, 31],\n",
       " [209, 33],\n",
       " [209, 30],\n",
       " [209, 35],\n",
       " [33358, 28],\n",
       " [33358, 3],\n",
       " [33358, 35],\n",
       " [30065, 9],\n",
       " [30065, 5],\n",
       " [19669, 14],\n",
       " [19669, 35],\n",
       " [19669, 36],\n",
       " [19669, 26],\n",
       " [30721, 33],\n",
       " [30721, 35],\n",
       " [28369, 33],\n",
       " [28369, 35],\n",
       " [28369, 36],\n",
       " [10823, 35],\n",
       " [10823, 38],\n",
       " [10823, 27],\n",
       " [9509, 25],\n",
       " [9509, 41],\n",
       " [9509, 28],\n",
       " [9509, 5],\n",
       " [9509, 42],\n",
       " [9509, 37],\n",
       " [13047, 30],\n",
       " [13047, 4],\n",
       " [13047, 36],\n",
       " [2689, 33],\n",
       " [2689, 30],\n",
       " [16163, 30],\n",
       " [16163, 6],\n",
       " [16163, 35],\n",
       " [16163, 4],\n",
       " [24073, 15],\n",
       " [24073, 35],\n",
       " [27849, 4],\n",
       " [7953, 15],\n",
       " [7953, 3],\n",
       " [7953, 6],\n",
       " [7953, 5],\n",
       " [7953, 32],\n",
       " [7953, 33],\n",
       " [7953, 30],\n",
       " [7953, 13],\n",
       " [7953, 37],\n",
       " [3844, 14],\n",
       " [3844, 39],\n",
       " [3844, 26],\n",
       " [31699, 29],\n",
       " [31699, 35],\n",
       " [7593, 22],\n",
       " [7593, 26],\n",
       " [7593, 16],\n",
       " [7593, 19],\n",
       " [7593, 13],\n",
       " [7593, 35],\n",
       " [35935, 5],\n",
       " [35935, 40],\n",
       " [8897, 30],\n",
       " [8897, 4],\n",
       " [8897, 33],\n",
       " [8897, 39],\n",
       " [7411, 19],\n",
       " [7411, 17],\n",
       " [30450, 33],\n",
       " [30450, 35],\n",
       " [30450, 36],\n",
       " [34859, 5],\n",
       " [5154, 26],\n",
       " [5154, 17],\n",
       " [35139, 35],\n",
       " [1388, 17],\n",
       " [22, 39],\n",
       " [22, 26],\n",
       " [22, 14],\n",
       " [22, 35],\n",
       " [22, 36],\n",
       " [2953, 4],\n",
       " [2953, 5],\n",
       " [2953, 27],\n",
       " [32219, 30],\n",
       " [32219, 39],\n",
       " [1016, 33],\n",
       " [1016, 36],\n",
       " [1016, 31],\n",
       " [1016, 32],\n",
       " [35505, 39],\n",
       " [35505, 5],\n",
       " [6822, 35],\n",
       " [6822, 27],\n",
       " [2051, 39],\n",
       " [2051, 28],\n",
       " [2051, 6],\n",
       " [2051, 31],\n",
       " [2051, 33],\n",
       " [5943, 30],\n",
       " [5943, 33],\n",
       " [11583, 5],\n",
       " [7155, 14],\n",
       " [34943, 5],\n",
       " [34943, 26],\n",
       " [34430, 39],\n",
       " [34430, 31],\n",
       " [34430, 9],\n",
       " [34430, 42],\n",
       " [34430, 13],\n",
       " [34430, 43],\n",
       " [9627, 35],\n",
       " [12563, 17],\n",
       " [36398, 5],\n",
       " [6727, 33],\n",
       " [6727, 35],\n",
       " [22495, 15],\n",
       " [22495, 4],\n",
       " [7745, 36],\n",
       " [7745, 35],\n",
       " [7745, 39],\n",
       " [7745, 37],\n",
       " [8671, 5],\n",
       " [8671, 27],\n",
       " [10824, 27],\n",
       " [10824, 35],\n",
       " [10824, 5],\n",
       " [10824, 38],\n",
       " [34692, 27],\n",
       " [24999, 4],\n",
       " [24999, 5],\n",
       " [31698, 24],\n",
       " [31698, 4],\n",
       " [31972, 9],\n",
       " [4804, 13],\n",
       " [8719, 4],\n",
       " [8719, 5],\n",
       " [8719, 27],\n",
       " [1160, 33],\n",
       " [1160, 39],\n",
       " [1160, 32],\n",
       " [353, 28],\n",
       " [353, 3],\n",
       " [353, 35],\n",
       " [26349, 22],\n",
       " [26349, 13],\n",
       " [26349, 35],\n",
       " [26349, 27],\n",
       " [2762, 39],\n",
       " [2762, 26],\n",
       " [2762, 30],\n",
       " [2762, 13],\n",
       " [2762, 35],\n",
       " [2762, 36],\n",
       " [32792, 39],\n",
       " [32792, 31],\n",
       " [32792, 32],\n",
       " [32792, 33],\n",
       " [32792, 23],\n",
       " [32792, 21],\n",
       " [15809, 15],\n",
       " [15809, 20],\n",
       " [15809, 13],\n",
       " [15809, 35],\n",
       " [15809, 37],\n",
       " [11049, 15],\n",
       " [11049, 27],\n",
       " [3627, 15],\n",
       " [3627, 31],\n",
       " [3627, 19],\n",
       " [3627, 13],\n",
       " [3627, 35],\n",
       " [33126, 32],\n",
       " [30814, 40],\n",
       " [20085, 35],\n",
       " [2205, 39],\n",
       " [2205, 32],\n",
       " [2205, 33],\n",
       " [2205, 35],\n",
       " [2205, 36],\n",
       " [17535, 15],\n",
       " [17535, 3],\n",
       " [17535, 36],\n",
       " [1151, 33],\n",
       " [1151, 35],\n",
       " [1151, 43],\n",
       " ...]"
      ]
     },
     "execution_count": 172,
     "metadata": {},
     "output_type": "execute_result"
    }
   ],
   "source": [
    "classifies"
   ]
  },
  {
   "cell_type": "code",
   "execution_count": 173,
   "metadata": {},
   "outputs": [],
   "source": [
    "classifies_df = pd.DataFrame(classifies, columns=[\"anime_id\", \"genre_id\"])"
   ]
  },
  {
   "cell_type": "code",
   "execution_count": 174,
   "metadata": {},
   "outputs": [
    {
     "data": {
      "text/html": [
       "<div>\n",
       "<style scoped>\n",
       "    .dataframe tbody tr th:only-of-type {\n",
       "        vertical-align: middle;\n",
       "    }\n",
       "\n",
       "    .dataframe tbody tr th {\n",
       "        vertical-align: top;\n",
       "    }\n",
       "\n",
       "    .dataframe thead th {\n",
       "        text-align: right;\n",
       "    }\n",
       "</style>\n",
       "<table border=\"1\" class=\"dataframe\">\n",
       "  <thead>\n",
       "    <tr style=\"text-align: right;\">\n",
       "      <th></th>\n",
       "      <th>anime_id</th>\n",
       "      <th>genre_id</th>\n",
       "    </tr>\n",
       "  </thead>\n",
       "  <tbody>\n",
       "    <tr>\n",
       "      <th>0</th>\n",
       "      <td>11013</td>\n",
       "      <td>13</td>\n",
       "    </tr>\n",
       "    <tr>\n",
       "      <th>1</th>\n",
       "      <td>11013</td>\n",
       "      <td>35</td>\n",
       "    </tr>\n",
       "    <tr>\n",
       "      <th>2</th>\n",
       "      <td>11013</td>\n",
       "      <td>36</td>\n",
       "    </tr>\n",
       "    <tr>\n",
       "      <th>3</th>\n",
       "      <td>11013</td>\n",
       "      <td>37</td>\n",
       "    </tr>\n",
       "    <tr>\n",
       "      <th>4</th>\n",
       "      <td>2104</td>\n",
       "      <td>26</td>\n",
       "    </tr>\n",
       "  </tbody>\n",
       "</table>\n",
       "</div>"
      ],
      "text/plain": [
       "   anime_id  genre_id\n",
       "0     11013        13\n",
       "1     11013        35\n",
       "2     11013        36\n",
       "3     11013        37\n",
       "4      2104        26"
      ]
     },
     "execution_count": 174,
     "metadata": {},
     "output_type": "execute_result"
    }
   ],
   "source": [
    "classifies_df.head()"
   ]
  },
  {
   "cell_type": "code",
   "execution_count": 175,
   "metadata": {},
   "outputs": [],
   "source": [
    "classifies_df.to_csv(\"../../data/csv/output/classifies.csv\", index=False)"
   ]
  },
  {
   "cell_type": "code",
   "execution_count": 177,
   "metadata": {},
   "outputs": [],
   "source": [
    "anime_dropped = anime_dropped_related.drop(columns=[\"producer\", \"genre\"])"
   ]
  },
  {
   "cell_type": "code",
   "execution_count": 191,
   "metadata": {},
   "outputs": [],
   "source": [
    "music = anime_dropped[[\"opening_theme\", \"ending_theme\"]].fillna('').apply(list)"
   ]
  },
  {
   "cell_type": "code",
   "execution_count": 198,
   "metadata": {},
   "outputs": [
    {
     "data": {
      "text/html": [
       "<div>\n",
       "<style scoped>\n",
       "    .dataframe tbody tr th:only-of-type {\n",
       "        vertical-align: middle;\n",
       "    }\n",
       "\n",
       "    .dataframe tbody tr th {\n",
       "        vertical-align: top;\n",
       "    }\n",
       "\n",
       "    .dataframe thead th {\n",
       "        text-align: right;\n",
       "    }\n",
       "</style>\n",
       "<table border=\"1\" class=\"dataframe\">\n",
       "  <thead>\n",
       "    <tr style=\"text-align: right;\">\n",
       "      <th></th>\n",
       "      <th>opening_theme</th>\n",
       "      <th>ending_theme</th>\n",
       "    </tr>\n",
       "  </thead>\n",
       "  <tbody>\n",
       "    <tr>\n",
       "      <th>0</th>\n",
       "      <td>[\"Nirvana\" by MUCC]</td>\n",
       "      <td>[#1: \"Nirvana\" by MUCC (eps 1, 11-12), #2: \"Ra...</td>\n",
       "    </tr>\n",
       "    <tr>\n",
       "      <th>1</th>\n",
       "      <td>[\"Romantic summer\" by SUN&amp;LUNAR]</td>\n",
       "      <td>[#1: \"Ashita e no Hikari (明日への光)\" by Asuka Hin...</td>\n",
       "    </tr>\n",
       "    <tr>\n",
       "      <th>2</th>\n",
       "      <td>[#1: \"Minna no Tamago (みんなのたまご)\" by Shugo Char...</td>\n",
       "      <td>[#1: \"Rottara Rottara (ロッタラ ロッタラ)\" by Buono! (...</td>\n",
       "    </tr>\n",
       "    <tr>\n",
       "      <th>3</th>\n",
       "      <td>[\"Morning Grace\" by Ritsuko Okazaki]</td>\n",
       "      <td>[\"Watashi No Ai Wa Chiisaikeredo\" by Ritsuko O...</td>\n",
       "    </tr>\n",
       "    <tr>\n",
       "      <th>4</th>\n",
       "      <td>[#1: \"Moshimo no Hanashi (もしもの話)\" by nano.RIPE...</td>\n",
       "      <td>[#1: \"Pride on Everyday\" by Sphere (eps 1-13),...</td>\n",
       "    </tr>\n",
       "  </tbody>\n",
       "</table>\n",
       "</div>"
      ],
      "text/plain": [
       "                                       opening_theme  \\\n",
       "0                                [\"Nirvana\" by MUCC]   \n",
       "1                   [\"Romantic summer\" by SUN&LUNAR]   \n",
       "2  [#1: \"Minna no Tamago (みんなのたまご)\" by Shugo Char...   \n",
       "3               [\"Morning Grace\" by Ritsuko Okazaki]   \n",
       "4  [#1: \"Moshimo no Hanashi (もしもの話)\" by nano.RIPE...   \n",
       "\n",
       "                                        ending_theme  \n",
       "0  [#1: \"Nirvana\" by MUCC (eps 1, 11-12), #2: \"Ra...  \n",
       "1  [#1: \"Ashita e no Hikari (明日への光)\" by Asuka Hin...  \n",
       "2  [#1: \"Rottara Rottara (ロッタラ ロッタラ)\" by Buono! (...  \n",
       "3  [\"Watashi No Ai Wa Chiisaikeredo\" by Ritsuko O...  \n",
       "4  [#1: \"Pride on Everyday\" by Sphere (eps 1-13),...  "
      ]
     },
     "execution_count": 198,
     "metadata": {},
     "output_type": "execute_result"
    }
   ],
   "source": [
    "music.head()"
   ]
  },
  {
   "cell_type": "code",
   "execution_count": 194,
   "metadata": {},
   "outputs": [],
   "source": [
    "musics = []\n",
    "for i in range(len(music)):\n",
    "    for type in [\"opening_theme\", \"ending_theme\"]:\n",
    "        for song in music[type][i]:\n",
    "            musics.append([anime_dropped.anime_id[i], song, type])"
   ]
  },
  {
   "cell_type": "code",
   "execution_count": 196,
   "metadata": {},
   "outputs": [],
   "source": [
    "music_df = pd.DataFrame(musics, columns=[\"anime_id\", \"song_name\", \"type\"])"
   ]
  },
  {
   "cell_type": "code",
   "execution_count": 197,
   "metadata": {},
   "outputs": [
    {
     "data": {
      "text/html": [
       "<div>\n",
       "<style scoped>\n",
       "    .dataframe tbody tr th:only-of-type {\n",
       "        vertical-align: middle;\n",
       "    }\n",
       "\n",
       "    .dataframe tbody tr th {\n",
       "        vertical-align: top;\n",
       "    }\n",
       "\n",
       "    .dataframe thead th {\n",
       "        text-align: right;\n",
       "    }\n",
       "</style>\n",
       "<table border=\"1\" class=\"dataframe\">\n",
       "  <thead>\n",
       "    <tr style=\"text-align: right;\">\n",
       "      <th></th>\n",
       "      <th>anime_id</th>\n",
       "      <th>song_name</th>\n",
       "      <th>type</th>\n",
       "    </tr>\n",
       "  </thead>\n",
       "  <tbody>\n",
       "    <tr>\n",
       "      <th>0</th>\n",
       "      <td>11013</td>\n",
       "      <td>\"Nirvana\" by MUCC</td>\n",
       "      <td>opening_theme</td>\n",
       "    </tr>\n",
       "    <tr>\n",
       "      <th>1</th>\n",
       "      <td>11013</td>\n",
       "      <td>#1: \"Nirvana\" by MUCC (eps 1, 11-12)</td>\n",
       "      <td>ending_theme</td>\n",
       "    </tr>\n",
       "    <tr>\n",
       "      <th>2</th>\n",
       "      <td>11013</td>\n",
       "      <td>#2: \"Rakuen no Photograph (楽園のPhotograph)\" by ...</td>\n",
       "      <td>ending_theme</td>\n",
       "    </tr>\n",
       "    <tr>\n",
       "      <th>3</th>\n",
       "      <td>11013</td>\n",
       "      <td>#3: \"Kimi wa (君は)\" by Ririchiyo Shirakiin (Rin...</td>\n",
       "      <td>ending_theme</td>\n",
       "    </tr>\n",
       "    <tr>\n",
       "      <th>4</th>\n",
       "      <td>11013</td>\n",
       "      <td>#4: \"one way\" by Banri Watanuki (Takuya Eguchi...</td>\n",
       "      <td>ending_theme</td>\n",
       "    </tr>\n",
       "  </tbody>\n",
       "</table>\n",
       "</div>"
      ],
      "text/plain": [
       "   anime_id                                          song_name           type\n",
       "0     11013                                  \"Nirvana\" by MUCC  opening_theme\n",
       "1     11013               #1: \"Nirvana\" by MUCC (eps 1, 11-12)   ending_theme\n",
       "2     11013  #2: \"Rakuen no Photograph (楽園のPhotograph)\" by ...   ending_theme\n",
       "3     11013  #3: \"Kimi wa (君は)\" by Ririchiyo Shirakiin (Rin...   ending_theme\n",
       "4     11013  #4: \"one way\" by Banri Watanuki (Takuya Eguchi...   ending_theme"
      ]
     },
     "execution_count": 197,
     "metadata": {},
     "output_type": "execute_result"
    }
   ],
   "source": [
    "music_df.head()"
   ]
  },
  {
   "cell_type": "code",
   "execution_count": 199,
   "metadata": {},
   "outputs": [],
   "source": [
    "music_df.to_csv(\"../../data/csv/output/music.csv\", index=False)"
   ]
  },
  {
   "cell_type": "code",
   "execution_count": 200,
   "metadata": {},
   "outputs": [],
   "source": [
    "anime_final = anime_dropped.drop(columns=[\"opening_theme\", \"ending_theme\"])"
   ]
  },
  {
   "cell_type": "code",
   "execution_count": 203,
   "metadata": {},
   "outputs": [
    {
     "data": {
      "text/html": [
       "<div>\n",
       "<style scoped>\n",
       "    .dataframe tbody tr th:only-of-type {\n",
       "        vertical-align: middle;\n",
       "    }\n",
       "\n",
       "    .dataframe tbody tr th {\n",
       "        vertical-align: top;\n",
       "    }\n",
       "\n",
       "    .dataframe thead th {\n",
       "        text-align: right;\n",
       "    }\n",
       "</style>\n",
       "<table border=\"1\" class=\"dataframe\">\n",
       "  <thead>\n",
       "    <tr style=\"text-align: right;\">\n",
       "      <th></th>\n",
       "      <th>anime_id</th>\n",
       "      <th>title</th>\n",
       "      <th>title_english</th>\n",
       "      <th>title_japanese</th>\n",
       "      <th>title_synonyms</th>\n",
       "      <th>image_url</th>\n",
       "      <th>type</th>\n",
       "      <th>source</th>\n",
       "      <th>episodes</th>\n",
       "      <th>status</th>\n",
       "      <th>...</th>\n",
       "      <th>scored_by</th>\n",
       "      <th>rank</th>\n",
       "      <th>popularity</th>\n",
       "      <th>members</th>\n",
       "      <th>favorites</th>\n",
       "      <th>premiered</th>\n",
       "      <th>licensor</th>\n",
       "      <th>studio</th>\n",
       "      <th>aired_from</th>\n",
       "      <th>aired_to</th>\n",
       "    </tr>\n",
       "  </thead>\n",
       "  <tbody>\n",
       "    <tr>\n",
       "      <th>0</th>\n",
       "      <td>11013</td>\n",
       "      <td>Inu x Boku SS</td>\n",
       "      <td>Inu X Boku Secret Service</td>\n",
       "      <td>妖狐×僕SS</td>\n",
       "      <td>Youko x Boku SS</td>\n",
       "      <td>https://cdn.myanimelist.net/images/anime/12/35...</td>\n",
       "      <td>TV</td>\n",
       "      <td>Manga</td>\n",
       "      <td>12</td>\n",
       "      <td>Finished Airing</td>\n",
       "      <td>...</td>\n",
       "      <td>139250</td>\n",
       "      <td>1274.0</td>\n",
       "      <td>231</td>\n",
       "      <td>283882</td>\n",
       "      <td>2809</td>\n",
       "      <td>Winter 2012</td>\n",
       "      <td>Sentai Filmworks</td>\n",
       "      <td>David Production</td>\n",
       "      <td>2012-01-13</td>\n",
       "      <td>2012-03-30</td>\n",
       "    </tr>\n",
       "    <tr>\n",
       "      <th>1</th>\n",
       "      <td>2104</td>\n",
       "      <td>Seto no Hanayome</td>\n",
       "      <td>My Bride is a Mermaid</td>\n",
       "      <td>瀬戸の花嫁</td>\n",
       "      <td>The Inland Sea Bride</td>\n",
       "      <td>https://cdn.myanimelist.net/images/anime/13/58...</td>\n",
       "      <td>TV</td>\n",
       "      <td>Manga</td>\n",
       "      <td>26</td>\n",
       "      <td>Finished Airing</td>\n",
       "      <td>...</td>\n",
       "      <td>91206</td>\n",
       "      <td>727.0</td>\n",
       "      <td>366</td>\n",
       "      <td>204003</td>\n",
       "      <td>2579</td>\n",
       "      <td>Spring 2007</td>\n",
       "      <td>Funimation</td>\n",
       "      <td>Gonzo</td>\n",
       "      <td>2007-04-02</td>\n",
       "      <td>2007-10-01</td>\n",
       "    </tr>\n",
       "    <tr>\n",
       "      <th>2</th>\n",
       "      <td>5262</td>\n",
       "      <td>Shugo Chara!! Doki</td>\n",
       "      <td>Shugo Chara!! Doki</td>\n",
       "      <td>しゅごキャラ！！どきっ</td>\n",
       "      <td>Shugo Chara Ninenme, Shugo Chara! Second Year</td>\n",
       "      <td>https://cdn.myanimelist.net/images/anime/11/10...</td>\n",
       "      <td>TV</td>\n",
       "      <td>Manga</td>\n",
       "      <td>51</td>\n",
       "      <td>Finished Airing</td>\n",
       "      <td>...</td>\n",
       "      <td>37129</td>\n",
       "      <td>1508.0</td>\n",
       "      <td>1173</td>\n",
       "      <td>70127</td>\n",
       "      <td>802</td>\n",
       "      <td>Fall 2008</td>\n",
       "      <td>NaN</td>\n",
       "      <td>Satelight</td>\n",
       "      <td>2008-10-04</td>\n",
       "      <td>2009-09-25</td>\n",
       "    </tr>\n",
       "    <tr>\n",
       "      <th>3</th>\n",
       "      <td>721</td>\n",
       "      <td>Princess Tutu</td>\n",
       "      <td>Princess Tutu</td>\n",
       "      <td>プリンセスチュチュ</td>\n",
       "      <td>NaN</td>\n",
       "      <td>https://cdn.myanimelist.net/images/anime/13/32...</td>\n",
       "      <td>TV</td>\n",
       "      <td>Original</td>\n",
       "      <td>38</td>\n",
       "      <td>Finished Airing</td>\n",
       "      <td>...</td>\n",
       "      <td>36501</td>\n",
       "      <td>307.0</td>\n",
       "      <td>916</td>\n",
       "      <td>93312</td>\n",
       "      <td>3344</td>\n",
       "      <td>Summer 2002</td>\n",
       "      <td>ADV Films</td>\n",
       "      <td>Hal Film Maker</td>\n",
       "      <td>2002-08-16</td>\n",
       "      <td>2003-05-23</td>\n",
       "    </tr>\n",
       "    <tr>\n",
       "      <th>4</th>\n",
       "      <td>12365</td>\n",
       "      <td>Bakuman. 3rd Season</td>\n",
       "      <td>Bakuman.</td>\n",
       "      <td>バクマン。</td>\n",
       "      <td>Bakuman Season 3</td>\n",
       "      <td>https://cdn.myanimelist.net/images/anime/6/418...</td>\n",
       "      <td>TV</td>\n",
       "      <td>Manga</td>\n",
       "      <td>25</td>\n",
       "      <td>Finished Airing</td>\n",
       "      <td>...</td>\n",
       "      <td>107767</td>\n",
       "      <td>50.0</td>\n",
       "      <td>426</td>\n",
       "      <td>182765</td>\n",
       "      <td>2082</td>\n",
       "      <td>Fall 2012</td>\n",
       "      <td>NaN</td>\n",
       "      <td>J.C.Staff</td>\n",
       "      <td>2012-10-06</td>\n",
       "      <td>2013-03-30</td>\n",
       "    </tr>\n",
       "  </tbody>\n",
       "</table>\n",
       "<p>5 rows × 23 columns</p>\n",
       "</div>"
      ],
      "text/plain": [
       "   anime_id                title              title_english title_japanese  \\\n",
       "0     11013        Inu x Boku SS  Inu X Boku Secret Service         妖狐×僕SS   \n",
       "1      2104     Seto no Hanayome      My Bride is a Mermaid          瀬戸の花嫁   \n",
       "2      5262   Shugo Chara!! Doki         Shugo Chara!! Doki    しゅごキャラ！！どきっ   \n",
       "3       721        Princess Tutu              Princess Tutu      プリンセスチュチュ   \n",
       "4     12365  Bakuman. 3rd Season                   Bakuman.          バクマン。   \n",
       "\n",
       "                                  title_synonyms  \\\n",
       "0                                Youko x Boku SS   \n",
       "1                           The Inland Sea Bride   \n",
       "2  Shugo Chara Ninenme, Shugo Chara! Second Year   \n",
       "3                                            NaN   \n",
       "4                               Bakuman Season 3   \n",
       "\n",
       "                                           image_url type    source  episodes  \\\n",
       "0  https://cdn.myanimelist.net/images/anime/12/35...   TV     Manga        12   \n",
       "1  https://cdn.myanimelist.net/images/anime/13/58...   TV     Manga        26   \n",
       "2  https://cdn.myanimelist.net/images/anime/11/10...   TV     Manga        51   \n",
       "3  https://cdn.myanimelist.net/images/anime/13/32...   TV  Original        38   \n",
       "4  https://cdn.myanimelist.net/images/anime/6/418...   TV     Manga        25   \n",
       "\n",
       "            status  ... scored_by    rank  popularity  members  favorites  \\\n",
       "0  Finished Airing  ...    139250  1274.0         231   283882       2809   \n",
       "1  Finished Airing  ...     91206   727.0         366   204003       2579   \n",
       "2  Finished Airing  ...     37129  1508.0        1173    70127        802   \n",
       "3  Finished Airing  ...     36501   307.0         916    93312       3344   \n",
       "4  Finished Airing  ...    107767    50.0         426   182765       2082   \n",
       "\n",
       "     premiered          licensor            studio aired_from   aired_to  \n",
       "0  Winter 2012  Sentai Filmworks  David Production 2012-01-13 2012-03-30  \n",
       "1  Spring 2007        Funimation             Gonzo 2007-04-02 2007-10-01  \n",
       "2    Fall 2008               NaN         Satelight 2008-10-04 2009-09-25  \n",
       "3  Summer 2002         ADV Films    Hal Film Maker 2002-08-16 2003-05-23  \n",
       "4    Fall 2012               NaN         J.C.Staff 2012-10-06 2013-03-30  \n",
       "\n",
       "[5 rows x 23 columns]"
      ]
     },
     "execution_count": 203,
     "metadata": {},
     "output_type": "execute_result"
    }
   ],
   "source": [
    "anime_final.head()"
   ]
  },
  {
   "cell_type": "code",
   "execution_count": 204,
   "metadata": {},
   "outputs": [
    {
     "data": {
      "text/plain": [
       "Index(['anime_id', 'title', 'title_english', 'title_japanese',\n",
       "       'title_synonyms', 'image_url', 'type', 'source', 'episodes', 'status',\n",
       "       'duration', 'rating', 'score', 'scored_by', 'rank', 'popularity',\n",
       "       'members', 'favorites', 'premiered', 'licensor', 'studio', 'aired_from',\n",
       "       'aired_to'],\n",
       "      dtype='object')"
      ]
     },
     "execution_count": 204,
     "metadata": {},
     "output_type": "execute_result"
    }
   ],
   "source": [
    "anime_final.columns"
   ]
  },
  {
   "cell_type": "code",
   "execution_count": 205,
   "metadata": {},
   "outputs": [],
   "source": [
    "anime_final.to_csv(\"../../data/csv/output/anime.csv\", index=False)"
   ]
  }
 ],
 "metadata": {
  "kernelspec": {
   "display_name": "Python 3.10.5 64-bit",
   "language": "python",
   "name": "python3"
  },
  "language_info": {
   "codemirror_mode": {
    "name": "ipython",
    "version": 3
   },
   "file_extension": ".py",
   "mimetype": "text/x-python",
   "name": "python",
   "nbconvert_exporter": "python",
   "pygments_lexer": "ipython3",
   "version": "3.10.5"
  },
  "orig_nbformat": 4,
  "vscode": {
   "interpreter": {
    "hash": "e7370f93d1d0cde622a1f8e1c04877d8463912d04d973331ad4851f04de6915a"
   }
  }
 },
 "nbformat": 4,
 "nbformat_minor": 2
}
