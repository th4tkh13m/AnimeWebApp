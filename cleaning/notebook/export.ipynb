{
 "cells": [
  {
   "cell_type": "code",
   "execution_count": 12,
   "metadata": {},
   "outputs": [],
   "source": [
    "import pyodbc\n",
    "import pandas as pd\n",
    "# insert data from csv file into dataframe.\n",
    "# working directory for csv file: type \"pwd\" in Azure Data Studio or Linux\n",
    "\n",
    "\n",
    "# Some other example server values are\n",
    "# server = 'localhost\\sqlexpress' # for a named instance\n",
    "# server = 'myserver,port' # to specify an alternate port\n",
    "server = '172.17.0.2' \n",
    "driver = [item for item in pyodbc.drivers()][-1]\n",
    "database = 'AnimeWebApp' \n",
    "username = 'sa' \n",
    "password = 'Thatkhiem123' \n",
    "cnxn = pyodbc.connect('DRIVER=' + driver +';SERVER='+server+';DATABASE='+database+';UID='+username+';PWD='+ password +';TrustServerCertificate=yes')\n",
    "cursor = cnxn.cursor()\n",
    "# Insert Dataframe into SQL Server:\n"
   ]
  },
  {
   "cell_type": "code",
   "execution_count": 15,
   "metadata": {},
   "outputs": [],
   "source": [
    "producers = pd.read_csv(\"../../data/csv/output/producers.csv\")"
   ]
  },
  {
   "cell_type": "code",
   "execution_count": 30,
   "metadata": {},
   "outputs": [
    {
     "ename": "ProgrammingError",
     "evalue": "('42S01', \"[42S01] [Microsoft][ODBC Driver 18 for SQL Server][SQL Server]There is already an object named 'Producer' in the database. (2714) (SQLExecDirectW)\")",
     "output_type": "error",
     "traceback": [
      "\u001b[0;31m---------------------------------------------------------------------------\u001b[0m",
      "\u001b[0;31mProgrammingError\u001b[0m                          Traceback (most recent call last)",
      "\u001b[1;32m/home/th4tkh13m/Data/Programming/java/PRJ301/cleaning/notebook/export.ipynb Cell 3'\u001b[0m in \u001b[0;36m<cell line: 1>\u001b[0;34m()\u001b[0m\n\u001b[0;32m----> <a href='vscode-notebook-cell:/home/th4tkh13m/Data/Programming/java/PRJ301/cleaning/notebook/export.ipynb#ch0000001?line=0'>1</a>\u001b[0m cursor\u001b[39m.\u001b[39;49mexecute(\u001b[39m'''\u001b[39;49m\n\u001b[1;32m      <a href='vscode-notebook-cell:/home/th4tkh13m/Data/Programming/java/PRJ301/cleaning/notebook/export.ipynb#ch0000001?line=1'>2</a>\u001b[0m \u001b[39m\t\tCREATE TABLE Producer (\u001b[39;49m\n\u001b[1;32m      <a href='vscode-notebook-cell:/home/th4tkh13m/Data/Programming/java/PRJ301/cleaning/notebook/export.ipynb#ch0000001?line=2'>3</a>\u001b[0m \u001b[39m\t\t\tproducer_id int primary key,\u001b[39;49m\n\u001b[1;32m      <a href='vscode-notebook-cell:/home/th4tkh13m/Data/Programming/java/PRJ301/cleaning/notebook/export.ipynb#ch0000001?line=3'>4</a>\u001b[0m \u001b[39m\t\t\tproducer_name nvarchar(100),\u001b[39;49m\n\u001b[1;32m      <a href='vscode-notebook-cell:/home/th4tkh13m/Data/Programming/java/PRJ301/cleaning/notebook/export.ipynb#ch0000001?line=4'>5</a>\u001b[0m \u001b[39m\t\t\t)\u001b[39;49m\n\u001b[1;32m      <a href='vscode-notebook-cell:/home/th4tkh13m/Data/Programming/java/PRJ301/cleaning/notebook/export.ipynb#ch0000001?line=5'>6</a>\u001b[0m \u001b[39m               \u001b[39;49m\u001b[39m'''\u001b[39;49m)\n\u001b[1;32m      <a href='vscode-notebook-cell:/home/th4tkh13m/Data/Programming/java/PRJ301/cleaning/notebook/export.ipynb#ch0000001?line=6'>7</a>\u001b[0m cursor\u001b[39m.\u001b[39mcommit()\n",
      "\u001b[0;31mProgrammingError\u001b[0m: ('42S01', \"[42S01] [Microsoft][ODBC Driver 18 for SQL Server][SQL Server]There is already an object named 'Producer' in the database. (2714) (SQLExecDirectW)\")"
     ]
    }
   ],
   "source": [
    "cursor.execute('''\n",
    "\t\tCREATE TABLE Producer (\n",
    "\t\t\tproducer_id int primary key,\n",
    "\t\t\tproducer_name nvarchar(100),\n",
    "\t\t\t)\n",
    "               ''')\n",
    "cursor.commit()"
   ]
  },
  {
   "cell_type": "code",
   "execution_count": 14,
   "metadata": {},
   "outputs": [],
   "source": [
    "for index, row in producers.iterrows():\n",
    "     cursor.execute(\"INSERT INTO Producer VALUES(?,?)\", row.producer_id, row.producer_name)\n",
    "cnxn.commit()\n"
   ]
  },
  {
   "cell_type": "code",
   "execution_count": 63,
   "metadata": {},
   "outputs": [
    {
     "data": {
      "text/plain": [
       "Index(['anime_id', 'title', 'title_english', 'title_japanese',\n",
       "       'title_synonyms', 'image_url', 'type', 'source', 'episodes', 'status',\n",
       "       'duration', 'rating', 'score', 'scored_by', 'rank', 'popularity',\n",
       "       'members', 'favorites', 'premiered', 'licensor', 'studio', 'aired_from',\n",
       "       'aired_to'],\n",
       "      dtype='object')"
      ]
     },
     "execution_count": 63,
     "metadata": {},
     "output_type": "execute_result"
    }
   ],
   "source": [
    "anime = pd.read_csv(\"../../data/csv/output/anime.csv\")\n",
    "anime.columns"
   ]
  },
  {
   "cell_type": "code",
   "execution_count": 66,
   "metadata": {},
   "outputs": [],
   "source": [
    "import numpy as np\n",
    "anime = anime.fillna(np.nan).replace([np.nan], [None])\n",
    "\n",
    "# Reference https://stackoverflow.com/questions/66579476/pyodbc-csv-to-sql-table-how-to-handle-nan-values"
   ]
  },
  {
   "cell_type": "code",
   "execution_count": 45,
   "metadata": {},
   "outputs": [],
   "source": [
    "cursor.execute('''DROP TABLE Anime''')\n",
    "cursor.commit()"
   ]
  },
  {
   "cell_type": "code",
   "execution_count": 46,
   "metadata": {},
   "outputs": [],
   "source": [
    "cursor.execute(\n",
    "    '''\n",
    "    CREATE TABLE Anime (\n",
    "        anime_id int primary key,\n",
    "        title nvarchar(1000),\n",
    "        title_english nvarchar(1000),\n",
    "        title_japanese nvarchar(1000), \n",
    "        title_synonyms nvarchar(1000),\n",
    "        image_url nvarchar(500),\n",
    "        type nvarchar(50),\n",
    "        source nvarchar(50),\n",
    "        episodes int,\n",
    "        status nvarchar(50),\n",
    "        duration nvarchar(100),\n",
    "        rating nvarchar(100),\n",
    "        score float,\n",
    "        scored_by int,\n",
    "        rank float, \n",
    "        popularity int, \n",
    "        members int,\n",
    "        favorites int,\n",
    "        premiered nvarchar(50),\n",
    "        licensor nvarchar(100),\n",
    "        studio nvarchar(100),\n",
    "        aired_from date,\n",
    "        aired_to date\n",
    "    )\n",
    "    '''\n",
    ")\n",
    "cursor.commit()"
   ]
  },
  {
   "cell_type": "code",
   "execution_count": 65,
   "metadata": {},
   "outputs": [],
   "source": [
    "for index, row in anime.iterrows():\n",
    "      cursor.execute(\"INSERT INTO Anime VALUES(?,?,?,?,?,?,?,?,?,?,?,?,?,?,?,?,?,?,?,?,?,?,?)\", row.anime_id, row.title, row.title_english, row.title_japanese,\n",
    "       row.title_synonyms, row.image_url, row.type, row.source, row.episodes, row.status,\n",
    "       row.duration, row.rating, row.score, row.scored_by, row[\"rank\"], row.popularity,\n",
    "       row.members, row.favorites, row.premiered, row.licensor, row.studio, row.aired_from,\n",
    "       row.aired_to)\n",
    "\n",
    "       \n",
    "cnxn.commit()"
   ]
  },
  {
   "cell_type": "code",
   "execution_count": 67,
   "metadata": {},
   "outputs": [],
   "source": [
    "genres = pd.read_csv(\"../../data/csv/output/genre.csv\")\n"
   ]
  },
  {
   "cell_type": "code",
   "execution_count": 68,
   "metadata": {},
   "outputs": [],
   "source": [
    "cursor.execute('''\n",
    "\t\tCREATE TABLE Genre (\n",
    "\t\t\tgenre_id int primary key,\n",
    "\t\t\tgenre_name nvarchar(100),\n",
    "\t\t\t)\n",
    "               ''')\n",
    "cursor.commit()"
   ]
  },
  {
   "cell_type": "code",
   "execution_count": 69,
   "metadata": {},
   "outputs": [],
   "source": [
    "for index, row in genres.iterrows():\n",
    "     cursor.execute(\"INSERT INTO Genre VALUES(?,?)\", row.genre_id, row.genre_name)\n",
    "cnxn.commit()"
   ]
  },
  {
   "cell_type": "code",
   "execution_count": 70,
   "metadata": {},
   "outputs": [],
   "source": [
    "music = pd.read_csv(\"../../data/csv/output/music.csv\")"
   ]
  },
  {
   "cell_type": "code",
   "execution_count": 76,
   "metadata": {},
   "outputs": [
    {
     "data": {
      "text/plain": [
       "<pyodbc.Cursor at 0x7fd05ad27330>"
      ]
     },
     "execution_count": 76,
     "metadata": {},
     "output_type": "execute_result"
    }
   ],
   "source": [
    "cursor.execute('''\n",
    "    DROP TABLE Music\n",
    "''')"
   ]
  },
  {
   "cell_type": "code",
   "execution_count": 77,
   "metadata": {},
   "outputs": [],
   "source": [
    "cursor.execute('''\n",
    "\t\tCREATE TABLE Music (\n",
    "\t\t\tanime_id int references Anime(anime_id),\n",
    "\t\t\tsong_name nvarchar(1000),\n",
    "            type nvarchar(50) check (type in ('opening_theme', 'ending_theme'))\n",
    "\t\t\t)\n",
    "               ''')\n",
    "cursor.commit()"
   ]
  },
  {
   "cell_type": "code",
   "execution_count": 78,
   "metadata": {},
   "outputs": [],
   "source": [
    "for index, row in music.iterrows():\n",
    "     cursor.execute(\"INSERT INTO Music VALUES(?,?,?)\", row.anime_id, row.song_name, row.type)\n",
    "cnxn.commit()"
   ]
  },
  {
   "cell_type": "code",
   "execution_count": 79,
   "metadata": {},
   "outputs": [],
   "source": [
    "produces = pd.read_csv(\"../../data/csv/output/produces.csv\")"
   ]
  },
  {
   "cell_type": "code",
   "execution_count": 89,
   "metadata": {},
   "outputs": [],
   "source": [
    "cursor.execute('''\n",
    "\t\tDROP TABLE Produces\n",
    "               ''')\n",
    "cursor.commit()"
   ]
  },
  {
   "cell_type": "code",
   "execution_count": 91,
   "metadata": {},
   "outputs": [
    {
     "ename": "ProgrammingError",
     "evalue": "('42S01', \"[42S01] [Microsoft][ODBC Driver 18 for SQL Server][SQL Server]There is already an object named 'Produces' in the database. (2714) (SQLExecDirectW)\")",
     "output_type": "error",
     "traceback": [
      "\u001b[0;31m---------------------------------------------------------------------------\u001b[0m",
      "\u001b[0;31mProgrammingError\u001b[0m                          Traceback (most recent call last)",
      "\u001b[1;32m/home/th4tkh13m/Data/Programming/java/PRJ301/cleaning/notebook/export.ipynb Cell 19'\u001b[0m in \u001b[0;36m<cell line: 1>\u001b[0;34m()\u001b[0m\n\u001b[0;32m----> <a href='vscode-notebook-cell:/home/th4tkh13m/Data/Programming/java/PRJ301/cleaning/notebook/export.ipynb#ch0000024?line=0'>1</a>\u001b[0m cursor\u001b[39m.\u001b[39;49mexecute(\u001b[39m'''\u001b[39;49m\n\u001b[1;32m      <a href='vscode-notebook-cell:/home/th4tkh13m/Data/Programming/java/PRJ301/cleaning/notebook/export.ipynb#ch0000024?line=1'>2</a>\u001b[0m \u001b[39m\t\tCREATE TABLE Produces (\u001b[39;49m\n\u001b[1;32m      <a href='vscode-notebook-cell:/home/th4tkh13m/Data/Programming/java/PRJ301/cleaning/notebook/export.ipynb#ch0000024?line=2'>3</a>\u001b[0m \u001b[39m\t\t\tanime_id int references Anime(anime_id),\u001b[39;49m\n\u001b[1;32m      <a href='vscode-notebook-cell:/home/th4tkh13m/Data/Programming/java/PRJ301/cleaning/notebook/export.ipynb#ch0000024?line=3'>4</a>\u001b[0m \u001b[39m\t\t\tproducer_id int references Producer(producer_id),\u001b[39;49m\n\u001b[1;32m      <a href='vscode-notebook-cell:/home/th4tkh13m/Data/Programming/java/PRJ301/cleaning/notebook/export.ipynb#ch0000024?line=4'>5</a>\u001b[0m \u001b[39m\t\t\t)\u001b[39;49m\n\u001b[1;32m      <a href='vscode-notebook-cell:/home/th4tkh13m/Data/Programming/java/PRJ301/cleaning/notebook/export.ipynb#ch0000024?line=5'>6</a>\u001b[0m \u001b[39m               \u001b[39;49m\u001b[39m'''\u001b[39;49m)\n\u001b[1;32m      <a href='vscode-notebook-cell:/home/th4tkh13m/Data/Programming/java/PRJ301/cleaning/notebook/export.ipynb#ch0000024?line=6'>7</a>\u001b[0m cursor\u001b[39m.\u001b[39mcommit()\n",
      "\u001b[0;31mProgrammingError\u001b[0m: ('42S01', \"[42S01] [Microsoft][ODBC Driver 18 for SQL Server][SQL Server]There is already an object named 'Produces' in the database. (2714) (SQLExecDirectW)\")"
     ]
    }
   ],
   "source": [
    "cursor.execute('''\n",
    "\t\tCREATE TABLE Produces (\n",
    "\t\t\tanime_id int references Anime(anime_id),\n",
    "\t\t\tproducer_id int references Producer(producer_id),\n",
    "\t\t\t)\n",
    "               ''')\n",
    "cursor.commit()"
   ]
  },
  {
   "cell_type": "code",
   "execution_count": 92,
   "metadata": {},
   "outputs": [],
   "source": [
    "for index, row in produces.iterrows():\n",
    "     try:\n",
    "          cursor.execute(\"INSERT INTO Produces VALUES(?,?)\", str(row.anime_id), str(row.producer_id))\n",
    "     except:\n",
    "          continue\n",
    "cnxn.commit()"
   ]
  },
  {
   "cell_type": "code",
   "execution_count": 93,
   "metadata": {},
   "outputs": [],
   "source": [
    "related = pd.read_csv(\"../../data/csv/output/related.csv\")"
   ]
  },
  {
   "cell_type": "code",
   "execution_count": 94,
   "metadata": {},
   "outputs": [],
   "source": [
    "cursor.execute('''\n",
    "\t\tCREATE TABLE Related (\n",
    "\t\t\tanime_id int references Anime(anime_id),\n",
    "\t\t\trelated_anime_id int references Anime(anime_id),\n",
    "            relation_type nvarchar(50)\n",
    "\t\t\t)\n",
    "               ''')\n",
    "cursor.commit()"
   ]
  },
  {
   "cell_type": "code",
   "execution_count": 96,
   "metadata": {},
   "outputs": [],
   "source": [
    "for index, row in related.iterrows():\n",
    "     try:\n",
    "          cursor.execute(\"INSERT INTO Related VALUES(?,?,?)\", str(row.anime_id), str(row.related_anime_id), str(row.relation_type))\n",
    "     except:\n",
    "          continue\n",
    "cnxn.commit()"
   ]
  },
  {
   "cell_type": "code",
   "execution_count": 97,
   "metadata": {},
   "outputs": [],
   "source": [
    "classifies = pd.read_csv(\"../../data/csv/output/classifies.csv\")"
   ]
  },
  {
   "cell_type": "code",
   "execution_count": 98,
   "metadata": {},
   "outputs": [],
   "source": [
    "cursor.execute('''\n",
    "\t\tCREATE TABLE Classifies (\n",
    "\t\t\tanime_id int references Anime(anime_id),\n",
    "\t\t\tgenre_id int references Genre(genre_id),\n",
    "\t\t\t)\n",
    "               ''')\n",
    "cursor.commit()"
   ]
  },
  {
   "cell_type": "code",
   "execution_count": 99,
   "metadata": {},
   "outputs": [],
   "source": [
    "for index, row in classifies.iterrows():\n",
    "     try:\n",
    "          cursor.execute(\"INSERT INTO Classifies VALUES(?,?)\", str(row.anime_id), str(row.genre_id))\n",
    "     except:\n",
    "          continue\n",
    "cnxn.commit()"
   ]
  },
  {
   "cell_type": "code",
   "execution_count": null,
   "metadata": {},
   "outputs": [],
   "source": []
  },
  {
   "cell_type": "code",
   "execution_count": 108,
   "metadata": {},
   "outputs": [
    {
     "ename": "ProgrammingError",
     "evalue": "('42S01', \"[42S01] [Microsoft][ODBC Driver 18 for SQL Server][SQL Server]There is already an object named 'Users' in the database. (2714) (SQLExecDirectW)\")",
     "output_type": "error",
     "traceback": [
      "\u001b[0;31m---------------------------------------------------------------------------\u001b[0m",
      "\u001b[0;31mProgrammingError\u001b[0m                          Traceback (most recent call last)",
      "\u001b[1;32m/home/th4tkh13m/Data/Programming/java/PRJ301/cleaning/notebook/export.ipynb Cell 28'\u001b[0m in \u001b[0;36m<cell line: 1>\u001b[0;34m()\u001b[0m\n\u001b[0;32m----> <a href='vscode-notebook-cell:/home/th4tkh13m/Data/Programming/java/PRJ301/cleaning/notebook/export.ipynb#ch0000034?line=0'>1</a>\u001b[0m cursor\u001b[39m.\u001b[39;49mexecute(\u001b[39m'''\u001b[39;49m\n\u001b[1;32m      <a href='vscode-notebook-cell:/home/th4tkh13m/Data/Programming/java/PRJ301/cleaning/notebook/export.ipynb#ch0000034?line=1'>2</a>\u001b[0m \u001b[39m    CREATE TABLE Users (\u001b[39;49m\n\u001b[1;32m      <a href='vscode-notebook-cell:/home/th4tkh13m/Data/Programming/java/PRJ301/cleaning/notebook/export.ipynb#ch0000034?line=2'>3</a>\u001b[0m \u001b[39m        user_id int identity(1,1) primary key,\u001b[39;49m\n\u001b[1;32m      <a href='vscode-notebook-cell:/home/th4tkh13m/Data/Programming/java/PRJ301/cleaning/notebook/export.ipynb#ch0000034?line=3'>4</a>\u001b[0m \u001b[39m        username nvarchar(50) not null,\u001b[39;49m\n\u001b[1;32m      <a href='vscode-notebook-cell:/home/th4tkh13m/Data/Programming/java/PRJ301/cleaning/notebook/export.ipynb#ch0000034?line=4'>5</a>\u001b[0m \u001b[39m        email nvarchar(100) not null,\u001b[39;49m\n\u001b[1;32m      <a href='vscode-notebook-cell:/home/th4tkh13m/Data/Programming/java/PRJ301/cleaning/notebook/export.ipynb#ch0000034?line=5'>6</a>\u001b[0m \u001b[39m        password nvarchar(100),\u001b[39;49m\n\u001b[1;32m      <a href='vscode-notebook-cell:/home/th4tkh13m/Data/Programming/java/PRJ301/cleaning/notebook/export.ipynb#ch0000034?line=6'>7</a>\u001b[0m \u001b[39m        role nvarchar(50) check (role in (\u001b[39;49m\u001b[39m'\u001b[39;49m\u001b[39madmin\u001b[39;49m\u001b[39m'\u001b[39;49m\u001b[39m, \u001b[39;49m\u001b[39m'\u001b[39;49m\u001b[39mmod\u001b[39;49m\u001b[39m'\u001b[39;49m\u001b[39m, \u001b[39;49m\u001b[39m'\u001b[39;49m\u001b[39muser\u001b[39;49m\u001b[39m'\u001b[39;49m\u001b[39m))\u001b[39;49m\n\u001b[1;32m      <a href='vscode-notebook-cell:/home/th4tkh13m/Data/Programming/java/PRJ301/cleaning/notebook/export.ipynb#ch0000034?line=7'>8</a>\u001b[0m \u001b[39m    )\u001b[39;49m\n\u001b[1;32m      <a href='vscode-notebook-cell:/home/th4tkh13m/Data/Programming/java/PRJ301/cleaning/notebook/export.ipynb#ch0000034?line=8'>9</a>\u001b[0m \u001b[39m'''\u001b[39;49m)\n\u001b[1;32m     <a href='vscode-notebook-cell:/home/th4tkh13m/Data/Programming/java/PRJ301/cleaning/notebook/export.ipynb#ch0000034?line=10'>11</a>\u001b[0m cursor\u001b[39m.\u001b[39mcommit()\n",
      "\u001b[0;31mProgrammingError\u001b[0m: ('42S01', \"[42S01] [Microsoft][ODBC Driver 18 for SQL Server][SQL Server]There is already an object named 'Users' in the database. (2714) (SQLExecDirectW)\")"
     ]
    }
   ],
   "source": [
    "cursor.execute('''\n",
    "    CREATE TABLE Users (\n",
    "        user_id int identity(1,1) primary key,\n",
    "        username nvarchar(50) not null,\n",
    "        email nvarchar(100) not null,\n",
    "        password nvarchar(100),\n",
    "        role nvarchar(50) check (role in ('admin', 'mod', 'user'))\n",
    "    )\n",
    "''')\n",
    "\n",
    "cursor.commit()"
   ]
  },
  {
   "cell_type": "code",
   "execution_count": 110,
   "metadata": {},
   "outputs": [
    {
     "data": {
      "text/plain": [
       "<pyodbc.Cursor at 0x7fd05ad27330>"
      ]
     },
     "execution_count": 110,
     "metadata": {},
     "output_type": "execute_result"
    }
   ],
   "source": [
    "cursor.execute('''\n",
    "    DROP TABLE Rating\n",
    "''')"
   ]
  },
  {
   "cell_type": "code",
   "execution_count": 111,
   "metadata": {},
   "outputs": [
    {
     "data": {
      "text/plain": [
       "<pyodbc.Cursor at 0x7fd05ad27330>"
      ]
     },
     "execution_count": 111,
     "metadata": {},
     "output_type": "execute_result"
    }
   ],
   "source": [
    "cursor.execute('''\n",
    "    CREATE TABLE Rating (\n",
    "        user_id int references Users(user_id),\n",
    "        anime_id int references Anime(anime_id),\n",
    "        rating_star int check (rating_star between 0 AND 10), \n",
    "        CONSTRAINT PK_Rating PRIMARY KEY (user_id, anime_id)\n",
    "    )\n",
    "    ''')"
   ]
  },
  {
   "cell_type": "code",
   "execution_count": 112,
   "metadata": {},
   "outputs": [
    {
     "data": {
      "text/plain": [
       "<pyodbc.Cursor at 0x7fd05ad27330>"
      ]
     },
     "execution_count": 112,
     "metadata": {},
     "output_type": "execute_result"
    }
   ],
   "source": [
    "cursor.execute(\n",
    "    '''\n",
    "    CREATE TABLE WatchList (\n",
    "        user_id int references Users(user_id),\n",
    "        anime_id int references Anime(anime_id),\n",
    "        episode int\n",
    "    )\n",
    "    '''\n",
    ")"
   ]
  },
  {
   "cell_type": "code",
   "execution_count": 113,
   "metadata": {},
   "outputs": [
    {
     "data": {
      "text/plain": [
       "<pyodbc.Cursor at 0x7fd05ad27330>"
      ]
     },
     "execution_count": 113,
     "metadata": {},
     "output_type": "execute_result"
    }
   ],
   "source": [
    "cursor.execute(\n",
    "    '''\n",
    "    CREATE TABLE Review (\n",
    "        user_id int references Users(user_id),\n",
    "        anime_id int references Anime(anime_id),\n",
    "        content nvarchar(max)\n",
    "    )\n",
    "    '''\n",
    ")"
   ]
  },
  {
   "cell_type": "code",
   "execution_count": 115,
   "metadata": {},
   "outputs": [
    {
     "data": {
      "text/plain": [
       "<pyodbc.Cursor at 0x7fd05ad27330>"
      ]
     },
     "execution_count": 115,
     "metadata": {},
     "output_type": "execute_result"
    }
   ],
   "source": [
    "cursor.execute(\n",
    "    '''\n",
    "    CREATE TABLE Favorite (\n",
    "        user_id int references Users(user_id),\n",
    "        anime_id int references Anime(anime_id)\n",
    "\n",
    "    )\n",
    "    '''\n",
    ")"
   ]
  },
  {
   "cell_type": "code",
   "execution_count": null,
   "metadata": {},
   "outputs": [],
   "source": []
  }
 ],
 "metadata": {
  "kernelspec": {
   "display_name": "Python 3.10.5 64-bit",
   "language": "python",
   "name": "python3"
  },
  "language_info": {
   "codemirror_mode": {
    "name": "ipython",
    "version": 3
   },
   "file_extension": ".py",
   "mimetype": "text/x-python",
   "name": "python",
   "nbconvert_exporter": "python",
   "pygments_lexer": "ipython3",
   "version": "3.10.5"
  },
  "orig_nbformat": 4,
  "vscode": {
   "interpreter": {
    "hash": "e7370f93d1d0cde622a1f8e1c04877d8463912d04d973331ad4851f04de6915a"
   }
  }
 },
 "nbformat": 4,
 "nbformat_minor": 2
}
